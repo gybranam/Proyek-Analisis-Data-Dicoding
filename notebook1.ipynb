{
  "cells": [
    {
      "cell_type": "markdown",
      "metadata": {
        "id": "H9wADwK78DCz"
      },
      "source": [
        "# Proyek Analisis Data: [E-Commerce Public Dataset]\n",
        "- **Nama:** [Gybran Khairul Anam]\n",
        "- **Email:** [gybrankhairulanam4@gmail.com]\n",
        "- **ID Dicoding:** [gybranam]"
      ]
    },
    {
      "cell_type": "markdown",
      "metadata": {
        "id": "eE0raob58DC0"
      },
      "source": [
        "## Menentukan Pertanyaan Bisnis"
      ]
    },
    {
      "cell_type": "markdown",
      "metadata": {
        "id": "GmQeQ5YF8DC0"
      },
      "source": [
        "- Kota apa yang menghasilkan revenue terbesar?\n",
        "- Kategori produk apa dengan pesanan tertinggi dan terendah?"
      ]
    },
    {
      "cell_type": "markdown",
      "metadata": {
        "id": "H-z4QGlO8DC1"
      },
      "source": [
        "## Import Semua Packages/Library yang Digunakan"
      ]
    },
    {
      "cell_type": "code",
      "execution_count": 96,
      "metadata": {
        "id": "FVYwaObI8DC1"
      },
      "outputs": [],
      "source": [
        "import numpy as np\n",
        "import pandas as pd\n",
        "import matplotlib.pyplot as plt\n",
        "import seaborn as sns\n",
        "from datetime import datetime"
      ]
    },
    {
      "cell_type": "markdown",
      "metadata": {
        "id": "h_Sh51Xy8DC1"
      },
      "source": [
        "## Data Wrangling"
      ]
    },
    {
      "cell_type": "markdown",
      "metadata": {
        "id": "sXU2GBYu8DC1"
      },
      "source": [
        "### Gathering Data"
      ]
    },
    {
      "cell_type": "code",
      "execution_count": 97,
      "metadata": {
        "colab": {
          "base_uri": "https://localhost:8080/",
          "height": 206
        },
        "id": "zjCBk1BI8DC1",
        "outputId": "c38afafd-2895-4a7b-e3cc-4c54541f1115"
      },
      "outputs": [
        {
          "data": {
            "text/html": [
              "<div>\n",
              "<style scoped>\n",
              "    .dataframe tbody tr th:only-of-type {\n",
              "        vertical-align: middle;\n",
              "    }\n",
              "\n",
              "    .dataframe tbody tr th {\n",
              "        vertical-align: top;\n",
              "    }\n",
              "\n",
              "    .dataframe thead th {\n",
              "        text-align: right;\n",
              "    }\n",
              "</style>\n",
              "<table border=\"1\" class=\"dataframe\">\n",
              "  <thead>\n",
              "    <tr style=\"text-align: right;\">\n",
              "      <th></th>\n",
              "      <th>customer_id</th>\n",
              "      <th>customer_unique_id</th>\n",
              "      <th>customer_zip_code_prefix</th>\n",
              "      <th>customer_city</th>\n",
              "      <th>customer_state</th>\n",
              "    </tr>\n",
              "  </thead>\n",
              "  <tbody>\n",
              "    <tr>\n",
              "      <th>0</th>\n",
              "      <td>06b8999e2fba1a1fbc88172c00ba8bc7</td>\n",
              "      <td>861eff4711a542e4b93843c6dd7febb0</td>\n",
              "      <td>14409</td>\n",
              "      <td>franca</td>\n",
              "      <td>SP</td>\n",
              "    </tr>\n",
              "    <tr>\n",
              "      <th>1</th>\n",
              "      <td>18955e83d337fd6b2def6b18a428ac77</td>\n",
              "      <td>290c77bc529b7ac935b93aa66c333dc3</td>\n",
              "      <td>9790</td>\n",
              "      <td>sao bernardo do campo</td>\n",
              "      <td>SP</td>\n",
              "    </tr>\n",
              "    <tr>\n",
              "      <th>2</th>\n",
              "      <td>4e7b3e00288586ebd08712fdd0374a03</td>\n",
              "      <td>060e732b5b29e8181a18229c7b0b2b5e</td>\n",
              "      <td>1151</td>\n",
              "      <td>sao paulo</td>\n",
              "      <td>SP</td>\n",
              "    </tr>\n",
              "    <tr>\n",
              "      <th>3</th>\n",
              "      <td>b2b6027bc5c5109e529d4dc6358b12c3</td>\n",
              "      <td>259dac757896d24d7702b9acbbff3f3c</td>\n",
              "      <td>8775</td>\n",
              "      <td>mogi das cruzes</td>\n",
              "      <td>SP</td>\n",
              "    </tr>\n",
              "    <tr>\n",
              "      <th>4</th>\n",
              "      <td>4f2d8ab171c80ec8364f7c12e35b23ad</td>\n",
              "      <td>345ecd01c38d18a9036ed96c73b8d066</td>\n",
              "      <td>13056</td>\n",
              "      <td>campinas</td>\n",
              "      <td>SP</td>\n",
              "    </tr>\n",
              "  </tbody>\n",
              "</table>\n",
              "</div>"
            ],
            "text/plain": [
              "                        customer_id                customer_unique_id  \\\n",
              "0  06b8999e2fba1a1fbc88172c00ba8bc7  861eff4711a542e4b93843c6dd7febb0   \n",
              "1  18955e83d337fd6b2def6b18a428ac77  290c77bc529b7ac935b93aa66c333dc3   \n",
              "2  4e7b3e00288586ebd08712fdd0374a03  060e732b5b29e8181a18229c7b0b2b5e   \n",
              "3  b2b6027bc5c5109e529d4dc6358b12c3  259dac757896d24d7702b9acbbff3f3c   \n",
              "4  4f2d8ab171c80ec8364f7c12e35b23ad  345ecd01c38d18a9036ed96c73b8d066   \n",
              "\n",
              "   customer_zip_code_prefix          customer_city customer_state  \n",
              "0                     14409                 franca             SP  \n",
              "1                      9790  sao bernardo do campo             SP  \n",
              "2                      1151              sao paulo             SP  \n",
              "3                      8775        mogi das cruzes             SP  \n",
              "4                     13056               campinas             SP  "
            ]
          },
          "execution_count": 97,
          "metadata": {},
          "output_type": "execute_result"
        }
      ],
      "source": [
        "customers = pd.read_csv(\"E-commerce-public-dataset\\E-Commerce Public Dataset\\customers_dataset.csv\")\n",
        "customers.head()"
      ]
    },
    {
      "cell_type": "code",
      "execution_count": 98,
      "metadata": {
        "colab": {
          "base_uri": "https://localhost:8080/",
          "height": 206
        },
        "id": "97wS2J5XQBnW",
        "outputId": "e874445f-5da1-466a-b669-4d2ccacdcfe3"
      },
      "outputs": [
        {
          "data": {
            "text/html": [
              "<div>\n",
              "<style scoped>\n",
              "    .dataframe tbody tr th:only-of-type {\n",
              "        vertical-align: middle;\n",
              "    }\n",
              "\n",
              "    .dataframe tbody tr th {\n",
              "        vertical-align: top;\n",
              "    }\n",
              "\n",
              "    .dataframe thead th {\n",
              "        text-align: right;\n",
              "    }\n",
              "</style>\n",
              "<table border=\"1\" class=\"dataframe\">\n",
              "  <thead>\n",
              "    <tr style=\"text-align: right;\">\n",
              "      <th></th>\n",
              "      <th>geolocation_zip_code_prefix</th>\n",
              "      <th>geolocation_lat</th>\n",
              "      <th>geolocation_lng</th>\n",
              "      <th>geolocation_city</th>\n",
              "      <th>geolocation_state</th>\n",
              "    </tr>\n",
              "  </thead>\n",
              "  <tbody>\n",
              "    <tr>\n",
              "      <th>0</th>\n",
              "      <td>1037</td>\n",
              "      <td>-23.545621</td>\n",
              "      <td>-46.639292</td>\n",
              "      <td>sao paulo</td>\n",
              "      <td>SP</td>\n",
              "    </tr>\n",
              "    <tr>\n",
              "      <th>1</th>\n",
              "      <td>1046</td>\n",
              "      <td>-23.546081</td>\n",
              "      <td>-46.644820</td>\n",
              "      <td>sao paulo</td>\n",
              "      <td>SP</td>\n",
              "    </tr>\n",
              "    <tr>\n",
              "      <th>2</th>\n",
              "      <td>1046</td>\n",
              "      <td>-23.546129</td>\n",
              "      <td>-46.642951</td>\n",
              "      <td>sao paulo</td>\n",
              "      <td>SP</td>\n",
              "    </tr>\n",
              "    <tr>\n",
              "      <th>3</th>\n",
              "      <td>1041</td>\n",
              "      <td>-23.544392</td>\n",
              "      <td>-46.639499</td>\n",
              "      <td>sao paulo</td>\n",
              "      <td>SP</td>\n",
              "    </tr>\n",
              "    <tr>\n",
              "      <th>4</th>\n",
              "      <td>1035</td>\n",
              "      <td>-23.541578</td>\n",
              "      <td>-46.641607</td>\n",
              "      <td>sao paulo</td>\n",
              "      <td>SP</td>\n",
              "    </tr>\n",
              "  </tbody>\n",
              "</table>\n",
              "</div>"
            ],
            "text/plain": [
              "   geolocation_zip_code_prefix  geolocation_lat  geolocation_lng  \\\n",
              "0                         1037       -23.545621       -46.639292   \n",
              "1                         1046       -23.546081       -46.644820   \n",
              "2                         1046       -23.546129       -46.642951   \n",
              "3                         1041       -23.544392       -46.639499   \n",
              "4                         1035       -23.541578       -46.641607   \n",
              "\n",
              "  geolocation_city geolocation_state  \n",
              "0        sao paulo                SP  \n",
              "1        sao paulo                SP  \n",
              "2        sao paulo                SP  \n",
              "3        sao paulo                SP  \n",
              "4        sao paulo                SP  "
            ]
          },
          "execution_count": 98,
          "metadata": {},
          "output_type": "execute_result"
        }
      ],
      "source": [
        "geolocation = pd.read_csv(\"E-commerce-public-dataset\\E-Commerce Public Dataset\\geolocation_dataset.csv\")\n",
        "geolocation.head()"
      ]
    },
    {
      "cell_type": "code",
      "execution_count": 99,
      "metadata": {
        "colab": {
          "base_uri": "https://localhost:8080/",
          "height": 226
        },
        "id": "iTmcH20xQFIX",
        "outputId": "5fb3978b-2019-4e1f-dd4f-e0e24122ff91"
      },
      "outputs": [
        {
          "data": {
            "text/html": [
              "<div>\n",
              "<style scoped>\n",
              "    .dataframe tbody tr th:only-of-type {\n",
              "        vertical-align: middle;\n",
              "    }\n",
              "\n",
              "    .dataframe tbody tr th {\n",
              "        vertical-align: top;\n",
              "    }\n",
              "\n",
              "    .dataframe thead th {\n",
              "        text-align: right;\n",
              "    }\n",
              "</style>\n",
              "<table border=\"1\" class=\"dataframe\">\n",
              "  <thead>\n",
              "    <tr style=\"text-align: right;\">\n",
              "      <th></th>\n",
              "      <th>order_id</th>\n",
              "      <th>order_item_id</th>\n",
              "      <th>product_id</th>\n",
              "      <th>seller_id</th>\n",
              "      <th>shipping_limit_date</th>\n",
              "      <th>price</th>\n",
              "      <th>freight_value</th>\n",
              "    </tr>\n",
              "  </thead>\n",
              "  <tbody>\n",
              "    <tr>\n",
              "      <th>0</th>\n",
              "      <td>00010242fe8c5a6d1ba2dd792cb16214</td>\n",
              "      <td>1</td>\n",
              "      <td>4244733e06e7ecb4970a6e2683c13e61</td>\n",
              "      <td>48436dade18ac8b2bce089ec2a041202</td>\n",
              "      <td>2017-09-19 09:45:35</td>\n",
              "      <td>58.90</td>\n",
              "      <td>13.29</td>\n",
              "    </tr>\n",
              "    <tr>\n",
              "      <th>1</th>\n",
              "      <td>00018f77f2f0320c557190d7a144bdd3</td>\n",
              "      <td>1</td>\n",
              "      <td>e5f2d52b802189ee658865ca93d83a8f</td>\n",
              "      <td>dd7ddc04e1b6c2c614352b383efe2d36</td>\n",
              "      <td>2017-05-03 11:05:13</td>\n",
              "      <td>239.90</td>\n",
              "      <td>19.93</td>\n",
              "    </tr>\n",
              "    <tr>\n",
              "      <th>2</th>\n",
              "      <td>000229ec398224ef6ca0657da4fc703e</td>\n",
              "      <td>1</td>\n",
              "      <td>c777355d18b72b67abbeef9df44fd0fd</td>\n",
              "      <td>5b51032eddd242adc84c38acab88f23d</td>\n",
              "      <td>2018-01-18 14:48:30</td>\n",
              "      <td>199.00</td>\n",
              "      <td>17.87</td>\n",
              "    </tr>\n",
              "    <tr>\n",
              "      <th>3</th>\n",
              "      <td>00024acbcdf0a6daa1e931b038114c75</td>\n",
              "      <td>1</td>\n",
              "      <td>7634da152a4610f1595efa32f14722fc</td>\n",
              "      <td>9d7a1d34a5052409006425275ba1c2b4</td>\n",
              "      <td>2018-08-15 10:10:18</td>\n",
              "      <td>12.99</td>\n",
              "      <td>12.79</td>\n",
              "    </tr>\n",
              "    <tr>\n",
              "      <th>4</th>\n",
              "      <td>00042b26cf59d7ce69dfabb4e55b4fd9</td>\n",
              "      <td>1</td>\n",
              "      <td>ac6c3623068f30de03045865e4e10089</td>\n",
              "      <td>df560393f3a51e74553ab94004ba5c87</td>\n",
              "      <td>2017-02-13 13:57:51</td>\n",
              "      <td>199.90</td>\n",
              "      <td>18.14</td>\n",
              "    </tr>\n",
              "  </tbody>\n",
              "</table>\n",
              "</div>"
            ],
            "text/plain": [
              "                           order_id  order_item_id  \\\n",
              "0  00010242fe8c5a6d1ba2dd792cb16214              1   \n",
              "1  00018f77f2f0320c557190d7a144bdd3              1   \n",
              "2  000229ec398224ef6ca0657da4fc703e              1   \n",
              "3  00024acbcdf0a6daa1e931b038114c75              1   \n",
              "4  00042b26cf59d7ce69dfabb4e55b4fd9              1   \n",
              "\n",
              "                         product_id                         seller_id  \\\n",
              "0  4244733e06e7ecb4970a6e2683c13e61  48436dade18ac8b2bce089ec2a041202   \n",
              "1  e5f2d52b802189ee658865ca93d83a8f  dd7ddc04e1b6c2c614352b383efe2d36   \n",
              "2  c777355d18b72b67abbeef9df44fd0fd  5b51032eddd242adc84c38acab88f23d   \n",
              "3  7634da152a4610f1595efa32f14722fc  9d7a1d34a5052409006425275ba1c2b4   \n",
              "4  ac6c3623068f30de03045865e4e10089  df560393f3a51e74553ab94004ba5c87   \n",
              "\n",
              "   shipping_limit_date   price  freight_value  \n",
              "0  2017-09-19 09:45:35   58.90          13.29  \n",
              "1  2017-05-03 11:05:13  239.90          19.93  \n",
              "2  2018-01-18 14:48:30  199.00          17.87  \n",
              "3  2018-08-15 10:10:18   12.99          12.79  \n",
              "4  2017-02-13 13:57:51  199.90          18.14  "
            ]
          },
          "execution_count": 99,
          "metadata": {},
          "output_type": "execute_result"
        }
      ],
      "source": [
        "orderitems = pd.read_csv(\"E-commerce-public-dataset/E-Commerce Public Dataset/order_items_dataset.csv\")\n",
        "orderitems.head()"
      ]
    },
    {
      "cell_type": "code",
      "execution_count": 100,
      "metadata": {
        "colab": {
          "base_uri": "https://localhost:8080/",
          "height": 206
        },
        "id": "hipgK05SQKac",
        "outputId": "669d7c53-05a0-44c6-bd52-6adc8fbf6bbf"
      },
      "outputs": [
        {
          "data": {
            "text/html": [
              "<div>\n",
              "<style scoped>\n",
              "    .dataframe tbody tr th:only-of-type {\n",
              "        vertical-align: middle;\n",
              "    }\n",
              "\n",
              "    .dataframe tbody tr th {\n",
              "        vertical-align: top;\n",
              "    }\n",
              "\n",
              "    .dataframe thead th {\n",
              "        text-align: right;\n",
              "    }\n",
              "</style>\n",
              "<table border=\"1\" class=\"dataframe\">\n",
              "  <thead>\n",
              "    <tr style=\"text-align: right;\">\n",
              "      <th></th>\n",
              "      <th>order_id</th>\n",
              "      <th>payment_sequential</th>\n",
              "      <th>payment_type</th>\n",
              "      <th>payment_installments</th>\n",
              "      <th>payment_value</th>\n",
              "    </tr>\n",
              "  </thead>\n",
              "  <tbody>\n",
              "    <tr>\n",
              "      <th>0</th>\n",
              "      <td>b81ef226f3fe1789b1e8b2acac839d17</td>\n",
              "      <td>1</td>\n",
              "      <td>credit_card</td>\n",
              "      <td>8</td>\n",
              "      <td>99.33</td>\n",
              "    </tr>\n",
              "    <tr>\n",
              "      <th>1</th>\n",
              "      <td>a9810da82917af2d9aefd1278f1dcfa0</td>\n",
              "      <td>1</td>\n",
              "      <td>credit_card</td>\n",
              "      <td>1</td>\n",
              "      <td>24.39</td>\n",
              "    </tr>\n",
              "    <tr>\n",
              "      <th>2</th>\n",
              "      <td>25e8ea4e93396b6fa0d3dd708e76c1bd</td>\n",
              "      <td>1</td>\n",
              "      <td>credit_card</td>\n",
              "      <td>1</td>\n",
              "      <td>65.71</td>\n",
              "    </tr>\n",
              "    <tr>\n",
              "      <th>3</th>\n",
              "      <td>ba78997921bbcdc1373bb41e913ab953</td>\n",
              "      <td>1</td>\n",
              "      <td>credit_card</td>\n",
              "      <td>8</td>\n",
              "      <td>107.78</td>\n",
              "    </tr>\n",
              "    <tr>\n",
              "      <th>4</th>\n",
              "      <td>42fdf880ba16b47b59251dd489d4441a</td>\n",
              "      <td>1</td>\n",
              "      <td>credit_card</td>\n",
              "      <td>2</td>\n",
              "      <td>128.45</td>\n",
              "    </tr>\n",
              "  </tbody>\n",
              "</table>\n",
              "</div>"
            ],
            "text/plain": [
              "                           order_id  payment_sequential payment_type  \\\n",
              "0  b81ef226f3fe1789b1e8b2acac839d17                   1  credit_card   \n",
              "1  a9810da82917af2d9aefd1278f1dcfa0                   1  credit_card   \n",
              "2  25e8ea4e93396b6fa0d3dd708e76c1bd                   1  credit_card   \n",
              "3  ba78997921bbcdc1373bb41e913ab953                   1  credit_card   \n",
              "4  42fdf880ba16b47b59251dd489d4441a                   1  credit_card   \n",
              "\n",
              "   payment_installments  payment_value  \n",
              "0                     8          99.33  \n",
              "1                     1          24.39  \n",
              "2                     1          65.71  \n",
              "3                     8         107.78  \n",
              "4                     2         128.45  "
            ]
          },
          "execution_count": 100,
          "metadata": {},
          "output_type": "execute_result"
        }
      ],
      "source": [
        "orderpayment= pd.read_csv(\"E-commerce-public-dataset\\E-Commerce Public Dataset\\order_payments_dataset.csv\")\n",
        "orderpayment.head()"
      ]
    },
    {
      "cell_type": "code",
      "execution_count": 101,
      "metadata": {
        "colab": {
          "base_uri": "https://localhost:8080/",
          "height": 261
        },
        "id": "sn7dRmx5QLbs",
        "outputId": "a15e78e4-6e40-4808-8347-8d65c90b461c"
      },
      "outputs": [
        {
          "data": {
            "text/html": [
              "<div>\n",
              "<style scoped>\n",
              "    .dataframe tbody tr th:only-of-type {\n",
              "        vertical-align: middle;\n",
              "    }\n",
              "\n",
              "    .dataframe tbody tr th {\n",
              "        vertical-align: top;\n",
              "    }\n",
              "\n",
              "    .dataframe thead th {\n",
              "        text-align: right;\n",
              "    }\n",
              "</style>\n",
              "<table border=\"1\" class=\"dataframe\">\n",
              "  <thead>\n",
              "    <tr style=\"text-align: right;\">\n",
              "      <th></th>\n",
              "      <th>review_id</th>\n",
              "      <th>order_id</th>\n",
              "      <th>review_score</th>\n",
              "      <th>review_comment_title</th>\n",
              "      <th>review_comment_message</th>\n",
              "      <th>review_creation_date</th>\n",
              "      <th>review_answer_timestamp</th>\n",
              "    </tr>\n",
              "  </thead>\n",
              "  <tbody>\n",
              "    <tr>\n",
              "      <th>0</th>\n",
              "      <td>7bc2406110b926393aa56f80a40eba40</td>\n",
              "      <td>73fc7af87114b39712e6da79b0a377eb</td>\n",
              "      <td>4</td>\n",
              "      <td>NaN</td>\n",
              "      <td>NaN</td>\n",
              "      <td>2018-01-18 00:00:00</td>\n",
              "      <td>2018-01-18 21:46:59</td>\n",
              "    </tr>\n",
              "    <tr>\n",
              "      <th>1</th>\n",
              "      <td>80e641a11e56f04c1ad469d5645fdfde</td>\n",
              "      <td>a548910a1c6147796b98fdf73dbeba33</td>\n",
              "      <td>5</td>\n",
              "      <td>NaN</td>\n",
              "      <td>NaN</td>\n",
              "      <td>2018-03-10 00:00:00</td>\n",
              "      <td>2018-03-11 03:05:13</td>\n",
              "    </tr>\n",
              "    <tr>\n",
              "      <th>2</th>\n",
              "      <td>228ce5500dc1d8e020d8d1322874b6f0</td>\n",
              "      <td>f9e4b658b201a9f2ecdecbb34bed034b</td>\n",
              "      <td>5</td>\n",
              "      <td>NaN</td>\n",
              "      <td>NaN</td>\n",
              "      <td>2018-02-17 00:00:00</td>\n",
              "      <td>2018-02-18 14:36:24</td>\n",
              "    </tr>\n",
              "    <tr>\n",
              "      <th>3</th>\n",
              "      <td>e64fb393e7b32834bb789ff8bb30750e</td>\n",
              "      <td>658677c97b385a9be170737859d3511b</td>\n",
              "      <td>5</td>\n",
              "      <td>NaN</td>\n",
              "      <td>Recebi bem antes do prazo estipulado.</td>\n",
              "      <td>2017-04-21 00:00:00</td>\n",
              "      <td>2017-04-21 22:02:06</td>\n",
              "    </tr>\n",
              "    <tr>\n",
              "      <th>4</th>\n",
              "      <td>f7c4243c7fe1938f181bec41a392bdeb</td>\n",
              "      <td>8e6bfb81e283fa7e4f11123a3fb894f1</td>\n",
              "      <td>5</td>\n",
              "      <td>NaN</td>\n",
              "      <td>Parabéns lojas lannister adorei comprar pela I...</td>\n",
              "      <td>2018-03-01 00:00:00</td>\n",
              "      <td>2018-03-02 10:26:53</td>\n",
              "    </tr>\n",
              "  </tbody>\n",
              "</table>\n",
              "</div>"
            ],
            "text/plain": [
              "                          review_id                          order_id  \\\n",
              "0  7bc2406110b926393aa56f80a40eba40  73fc7af87114b39712e6da79b0a377eb   \n",
              "1  80e641a11e56f04c1ad469d5645fdfde  a548910a1c6147796b98fdf73dbeba33   \n",
              "2  228ce5500dc1d8e020d8d1322874b6f0  f9e4b658b201a9f2ecdecbb34bed034b   \n",
              "3  e64fb393e7b32834bb789ff8bb30750e  658677c97b385a9be170737859d3511b   \n",
              "4  f7c4243c7fe1938f181bec41a392bdeb  8e6bfb81e283fa7e4f11123a3fb894f1   \n",
              "\n",
              "   review_score review_comment_title  \\\n",
              "0             4                  NaN   \n",
              "1             5                  NaN   \n",
              "2             5                  NaN   \n",
              "3             5                  NaN   \n",
              "4             5                  NaN   \n",
              "\n",
              "                              review_comment_message review_creation_date  \\\n",
              "0                                                NaN  2018-01-18 00:00:00   \n",
              "1                                                NaN  2018-03-10 00:00:00   \n",
              "2                                                NaN  2018-02-17 00:00:00   \n",
              "3              Recebi bem antes do prazo estipulado.  2017-04-21 00:00:00   \n",
              "4  Parabéns lojas lannister adorei comprar pela I...  2018-03-01 00:00:00   \n",
              "\n",
              "  review_answer_timestamp  \n",
              "0     2018-01-18 21:46:59  \n",
              "1     2018-03-11 03:05:13  \n",
              "2     2018-02-18 14:36:24  \n",
              "3     2017-04-21 22:02:06  \n",
              "4     2018-03-02 10:26:53  "
            ]
          },
          "execution_count": 101,
          "metadata": {},
          "output_type": "execute_result"
        }
      ],
      "source": [
        "orderreview = pd.read_csv(\"E-commerce-public-dataset\\E-Commerce Public Dataset\\order_reviews_dataset.csv\")\n",
        "orderreview.head()"
      ]
    },
    {
      "cell_type": "code",
      "execution_count": 102,
      "metadata": {
        "colab": {
          "base_uri": "https://localhost:8080/",
          "height": 226
        },
        "id": "MIsex6uWQPa8",
        "outputId": "34dc0149-6a4e-4571-c84b-386fb14dad79"
      },
      "outputs": [
        {
          "data": {
            "text/html": [
              "<div>\n",
              "<style scoped>\n",
              "    .dataframe tbody tr th:only-of-type {\n",
              "        vertical-align: middle;\n",
              "    }\n",
              "\n",
              "    .dataframe tbody tr th {\n",
              "        vertical-align: top;\n",
              "    }\n",
              "\n",
              "    .dataframe thead th {\n",
              "        text-align: right;\n",
              "    }\n",
              "</style>\n",
              "<table border=\"1\" class=\"dataframe\">\n",
              "  <thead>\n",
              "    <tr style=\"text-align: right;\">\n",
              "      <th></th>\n",
              "      <th>order_id</th>\n",
              "      <th>customer_id</th>\n",
              "      <th>order_status</th>\n",
              "      <th>order_purchase_timestamp</th>\n",
              "      <th>order_approved_at</th>\n",
              "      <th>order_delivered_carrier_date</th>\n",
              "      <th>order_delivered_customer_date</th>\n",
              "      <th>order_estimated_delivery_date</th>\n",
              "    </tr>\n",
              "  </thead>\n",
              "  <tbody>\n",
              "    <tr>\n",
              "      <th>0</th>\n",
              "      <td>e481f51cbdc54678b7cc49136f2d6af7</td>\n",
              "      <td>9ef432eb6251297304e76186b10a928d</td>\n",
              "      <td>delivered</td>\n",
              "      <td>2017-10-02 10:56:33</td>\n",
              "      <td>2017-10-02 11:07:15</td>\n",
              "      <td>2017-10-04 19:55:00</td>\n",
              "      <td>2017-10-10 21:25:13</td>\n",
              "      <td>2017-10-18 00:00:00</td>\n",
              "    </tr>\n",
              "    <tr>\n",
              "      <th>1</th>\n",
              "      <td>53cdb2fc8bc7dce0b6741e2150273451</td>\n",
              "      <td>b0830fb4747a6c6d20dea0b8c802d7ef</td>\n",
              "      <td>delivered</td>\n",
              "      <td>2018-07-24 20:41:37</td>\n",
              "      <td>2018-07-26 03:24:27</td>\n",
              "      <td>2018-07-26 14:31:00</td>\n",
              "      <td>2018-08-07 15:27:45</td>\n",
              "      <td>2018-08-13 00:00:00</td>\n",
              "    </tr>\n",
              "    <tr>\n",
              "      <th>2</th>\n",
              "      <td>47770eb9100c2d0c44946d9cf07ec65d</td>\n",
              "      <td>41ce2a54c0b03bf3443c3d931a367089</td>\n",
              "      <td>delivered</td>\n",
              "      <td>2018-08-08 08:38:49</td>\n",
              "      <td>2018-08-08 08:55:23</td>\n",
              "      <td>2018-08-08 13:50:00</td>\n",
              "      <td>2018-08-17 18:06:29</td>\n",
              "      <td>2018-09-04 00:00:00</td>\n",
              "    </tr>\n",
              "    <tr>\n",
              "      <th>3</th>\n",
              "      <td>949d5b44dbf5de918fe9c16f97b45f8a</td>\n",
              "      <td>f88197465ea7920adcdbec7375364d82</td>\n",
              "      <td>delivered</td>\n",
              "      <td>2017-11-18 19:28:06</td>\n",
              "      <td>2017-11-18 19:45:59</td>\n",
              "      <td>2017-11-22 13:39:59</td>\n",
              "      <td>2017-12-02 00:28:42</td>\n",
              "      <td>2017-12-15 00:00:00</td>\n",
              "    </tr>\n",
              "    <tr>\n",
              "      <th>4</th>\n",
              "      <td>ad21c59c0840e6cb83a9ceb5573f8159</td>\n",
              "      <td>8ab97904e6daea8866dbdbc4fb7aad2c</td>\n",
              "      <td>delivered</td>\n",
              "      <td>2018-02-13 21:18:39</td>\n",
              "      <td>2018-02-13 22:20:29</td>\n",
              "      <td>2018-02-14 19:46:34</td>\n",
              "      <td>2018-02-16 18:17:02</td>\n",
              "      <td>2018-02-26 00:00:00</td>\n",
              "    </tr>\n",
              "  </tbody>\n",
              "</table>\n",
              "</div>"
            ],
            "text/plain": [
              "                           order_id                       customer_id  \\\n",
              "0  e481f51cbdc54678b7cc49136f2d6af7  9ef432eb6251297304e76186b10a928d   \n",
              "1  53cdb2fc8bc7dce0b6741e2150273451  b0830fb4747a6c6d20dea0b8c802d7ef   \n",
              "2  47770eb9100c2d0c44946d9cf07ec65d  41ce2a54c0b03bf3443c3d931a367089   \n",
              "3  949d5b44dbf5de918fe9c16f97b45f8a  f88197465ea7920adcdbec7375364d82   \n",
              "4  ad21c59c0840e6cb83a9ceb5573f8159  8ab97904e6daea8866dbdbc4fb7aad2c   \n",
              "\n",
              "  order_status order_purchase_timestamp    order_approved_at  \\\n",
              "0    delivered      2017-10-02 10:56:33  2017-10-02 11:07:15   \n",
              "1    delivered      2018-07-24 20:41:37  2018-07-26 03:24:27   \n",
              "2    delivered      2018-08-08 08:38:49  2018-08-08 08:55:23   \n",
              "3    delivered      2017-11-18 19:28:06  2017-11-18 19:45:59   \n",
              "4    delivered      2018-02-13 21:18:39  2018-02-13 22:20:29   \n",
              "\n",
              "  order_delivered_carrier_date order_delivered_customer_date  \\\n",
              "0          2017-10-04 19:55:00           2017-10-10 21:25:13   \n",
              "1          2018-07-26 14:31:00           2018-08-07 15:27:45   \n",
              "2          2018-08-08 13:50:00           2018-08-17 18:06:29   \n",
              "3          2017-11-22 13:39:59           2017-12-02 00:28:42   \n",
              "4          2018-02-14 19:46:34           2018-02-16 18:17:02   \n",
              "\n",
              "  order_estimated_delivery_date  \n",
              "0           2017-10-18 00:00:00  \n",
              "1           2018-08-13 00:00:00  \n",
              "2           2018-09-04 00:00:00  \n",
              "3           2017-12-15 00:00:00  \n",
              "4           2018-02-26 00:00:00  "
            ]
          },
          "execution_count": 102,
          "metadata": {},
          "output_type": "execute_result"
        }
      ],
      "source": [
        "orderdataset= pd.read_csv(\"E-commerce-public-dataset\\E-Commerce Public Dataset\\orders_dataset.csv\")\n",
        "orderdataset.head()"
      ]
    },
    {
      "cell_type": "code",
      "execution_count": 103,
      "metadata": {
        "colab": {
          "base_uri": "https://localhost:8080/",
          "height": 206
        },
        "id": "Lg7-0GhuQQWU",
        "outputId": "f1f3260f-2106-4f7c-d898-69b45c70606e"
      },
      "outputs": [
        {
          "data": {
            "text/html": [
              "<div>\n",
              "<style scoped>\n",
              "    .dataframe tbody tr th:only-of-type {\n",
              "        vertical-align: middle;\n",
              "    }\n",
              "\n",
              "    .dataframe tbody tr th {\n",
              "        vertical-align: top;\n",
              "    }\n",
              "\n",
              "    .dataframe thead th {\n",
              "        text-align: right;\n",
              "    }\n",
              "</style>\n",
              "<table border=\"1\" class=\"dataframe\">\n",
              "  <thead>\n",
              "    <tr style=\"text-align: right;\">\n",
              "      <th></th>\n",
              "      <th>product_category_name</th>\n",
              "      <th>product_category_name_english</th>\n",
              "    </tr>\n",
              "  </thead>\n",
              "  <tbody>\n",
              "    <tr>\n",
              "      <th>0</th>\n",
              "      <td>beleza_saude</td>\n",
              "      <td>health_beauty</td>\n",
              "    </tr>\n",
              "    <tr>\n",
              "      <th>1</th>\n",
              "      <td>informatica_acessorios</td>\n",
              "      <td>computers_accessories</td>\n",
              "    </tr>\n",
              "    <tr>\n",
              "      <th>2</th>\n",
              "      <td>automotivo</td>\n",
              "      <td>auto</td>\n",
              "    </tr>\n",
              "    <tr>\n",
              "      <th>3</th>\n",
              "      <td>cama_mesa_banho</td>\n",
              "      <td>bed_bath_table</td>\n",
              "    </tr>\n",
              "    <tr>\n",
              "      <th>4</th>\n",
              "      <td>moveis_decoracao</td>\n",
              "      <td>furniture_decor</td>\n",
              "    </tr>\n",
              "  </tbody>\n",
              "</table>\n",
              "</div>"
            ],
            "text/plain": [
              "    product_category_name product_category_name_english\n",
              "0            beleza_saude                 health_beauty\n",
              "1  informatica_acessorios         computers_accessories\n",
              "2              automotivo                          auto\n",
              "3         cama_mesa_banho                bed_bath_table\n",
              "4        moveis_decoracao               furniture_decor"
            ]
          },
          "execution_count": 103,
          "metadata": {},
          "output_type": "execute_result"
        }
      ],
      "source": [
        "productcategory= pd.read_csv(\"E-commerce-public-dataset\\E-Commerce Public Dataset\\product_category_name_translation.csv\")\n",
        "productcategory.head()"
      ]
    },
    {
      "cell_type": "code",
      "execution_count": 104,
      "metadata": {
        "colab": {
          "base_uri": "https://localhost:8080/",
          "height": 226
        },
        "id": "j_ty-JllQZCA",
        "outputId": "0de0afbe-44f6-4452-9d0c-acbd6135206c"
      },
      "outputs": [
        {
          "data": {
            "text/html": [
              "<div>\n",
              "<style scoped>\n",
              "    .dataframe tbody tr th:only-of-type {\n",
              "        vertical-align: middle;\n",
              "    }\n",
              "\n",
              "    .dataframe tbody tr th {\n",
              "        vertical-align: top;\n",
              "    }\n",
              "\n",
              "    .dataframe thead th {\n",
              "        text-align: right;\n",
              "    }\n",
              "</style>\n",
              "<table border=\"1\" class=\"dataframe\">\n",
              "  <thead>\n",
              "    <tr style=\"text-align: right;\">\n",
              "      <th></th>\n",
              "      <th>product_id</th>\n",
              "      <th>product_category_name</th>\n",
              "      <th>product_name_lenght</th>\n",
              "      <th>product_description_lenght</th>\n",
              "      <th>product_photos_qty</th>\n",
              "      <th>product_weight_g</th>\n",
              "      <th>product_length_cm</th>\n",
              "      <th>product_height_cm</th>\n",
              "      <th>product_width_cm</th>\n",
              "    </tr>\n",
              "  </thead>\n",
              "  <tbody>\n",
              "    <tr>\n",
              "      <th>0</th>\n",
              "      <td>1e9e8ef04dbcff4541ed26657ea517e5</td>\n",
              "      <td>perfumaria</td>\n",
              "      <td>40.0</td>\n",
              "      <td>287.0</td>\n",
              "      <td>1.0</td>\n",
              "      <td>225.0</td>\n",
              "      <td>16.0</td>\n",
              "      <td>10.0</td>\n",
              "      <td>14.0</td>\n",
              "    </tr>\n",
              "    <tr>\n",
              "      <th>1</th>\n",
              "      <td>3aa071139cb16b67ca9e5dea641aaa2f</td>\n",
              "      <td>artes</td>\n",
              "      <td>44.0</td>\n",
              "      <td>276.0</td>\n",
              "      <td>1.0</td>\n",
              "      <td>1000.0</td>\n",
              "      <td>30.0</td>\n",
              "      <td>18.0</td>\n",
              "      <td>20.0</td>\n",
              "    </tr>\n",
              "    <tr>\n",
              "      <th>2</th>\n",
              "      <td>96bd76ec8810374ed1b65e291975717f</td>\n",
              "      <td>esporte_lazer</td>\n",
              "      <td>46.0</td>\n",
              "      <td>250.0</td>\n",
              "      <td>1.0</td>\n",
              "      <td>154.0</td>\n",
              "      <td>18.0</td>\n",
              "      <td>9.0</td>\n",
              "      <td>15.0</td>\n",
              "    </tr>\n",
              "    <tr>\n",
              "      <th>3</th>\n",
              "      <td>cef67bcfe19066a932b7673e239eb23d</td>\n",
              "      <td>bebes</td>\n",
              "      <td>27.0</td>\n",
              "      <td>261.0</td>\n",
              "      <td>1.0</td>\n",
              "      <td>371.0</td>\n",
              "      <td>26.0</td>\n",
              "      <td>4.0</td>\n",
              "      <td>26.0</td>\n",
              "    </tr>\n",
              "    <tr>\n",
              "      <th>4</th>\n",
              "      <td>9dc1a7de274444849c219cff195d0b71</td>\n",
              "      <td>utilidades_domesticas</td>\n",
              "      <td>37.0</td>\n",
              "      <td>402.0</td>\n",
              "      <td>4.0</td>\n",
              "      <td>625.0</td>\n",
              "      <td>20.0</td>\n",
              "      <td>17.0</td>\n",
              "      <td>13.0</td>\n",
              "    </tr>\n",
              "  </tbody>\n",
              "</table>\n",
              "</div>"
            ],
            "text/plain": [
              "                         product_id  product_category_name  \\\n",
              "0  1e9e8ef04dbcff4541ed26657ea517e5             perfumaria   \n",
              "1  3aa071139cb16b67ca9e5dea641aaa2f                  artes   \n",
              "2  96bd76ec8810374ed1b65e291975717f          esporte_lazer   \n",
              "3  cef67bcfe19066a932b7673e239eb23d                  bebes   \n",
              "4  9dc1a7de274444849c219cff195d0b71  utilidades_domesticas   \n",
              "\n",
              "   product_name_lenght  product_description_lenght  product_photos_qty  \\\n",
              "0                 40.0                       287.0                 1.0   \n",
              "1                 44.0                       276.0                 1.0   \n",
              "2                 46.0                       250.0                 1.0   \n",
              "3                 27.0                       261.0                 1.0   \n",
              "4                 37.0                       402.0                 4.0   \n",
              "\n",
              "   product_weight_g  product_length_cm  product_height_cm  product_width_cm  \n",
              "0             225.0               16.0               10.0              14.0  \n",
              "1            1000.0               30.0               18.0              20.0  \n",
              "2             154.0               18.0                9.0              15.0  \n",
              "3             371.0               26.0                4.0              26.0  \n",
              "4             625.0               20.0               17.0              13.0  "
            ]
          },
          "execution_count": 104,
          "metadata": {},
          "output_type": "execute_result"
        }
      ],
      "source": [
        "productdataset = pd.read_csv(\"E-commerce-public-dataset\\E-Commerce Public Dataset\\products_dataset.csv\")\n",
        "productdataset.head()"
      ]
    },
    {
      "cell_type": "code",
      "execution_count": 105,
      "metadata": {
        "colab": {
          "base_uri": "https://localhost:8080/",
          "height": 206
        },
        "id": "kuMd_VFPQbBD",
        "outputId": "9d834495-3f19-4b84-b838-393ff3d5ea84"
      },
      "outputs": [
        {
          "data": {
            "text/html": [
              "<div>\n",
              "<style scoped>\n",
              "    .dataframe tbody tr th:only-of-type {\n",
              "        vertical-align: middle;\n",
              "    }\n",
              "\n",
              "    .dataframe tbody tr th {\n",
              "        vertical-align: top;\n",
              "    }\n",
              "\n",
              "    .dataframe thead th {\n",
              "        text-align: right;\n",
              "    }\n",
              "</style>\n",
              "<table border=\"1\" class=\"dataframe\">\n",
              "  <thead>\n",
              "    <tr style=\"text-align: right;\">\n",
              "      <th></th>\n",
              "      <th>seller_id</th>\n",
              "      <th>seller_zip_code_prefix</th>\n",
              "      <th>seller_city</th>\n",
              "      <th>seller_state</th>\n",
              "    </tr>\n",
              "  </thead>\n",
              "  <tbody>\n",
              "    <tr>\n",
              "      <th>0</th>\n",
              "      <td>3442f8959a84dea7ee197c632cb2df15</td>\n",
              "      <td>13023</td>\n",
              "      <td>campinas</td>\n",
              "      <td>SP</td>\n",
              "    </tr>\n",
              "    <tr>\n",
              "      <th>1</th>\n",
              "      <td>d1b65fc7debc3361ea86b5f14c68d2e2</td>\n",
              "      <td>13844</td>\n",
              "      <td>mogi guacu</td>\n",
              "      <td>SP</td>\n",
              "    </tr>\n",
              "    <tr>\n",
              "      <th>2</th>\n",
              "      <td>ce3ad9de960102d0677a81f5d0bb7b2d</td>\n",
              "      <td>20031</td>\n",
              "      <td>rio de janeiro</td>\n",
              "      <td>RJ</td>\n",
              "    </tr>\n",
              "    <tr>\n",
              "      <th>3</th>\n",
              "      <td>c0f3eea2e14555b6faeea3dd58c1b1c3</td>\n",
              "      <td>4195</td>\n",
              "      <td>sao paulo</td>\n",
              "      <td>SP</td>\n",
              "    </tr>\n",
              "    <tr>\n",
              "      <th>4</th>\n",
              "      <td>51a04a8a6bdcb23deccc82b0b80742cf</td>\n",
              "      <td>12914</td>\n",
              "      <td>braganca paulista</td>\n",
              "      <td>SP</td>\n",
              "    </tr>\n",
              "  </tbody>\n",
              "</table>\n",
              "</div>"
            ],
            "text/plain": [
              "                          seller_id  seller_zip_code_prefix  \\\n",
              "0  3442f8959a84dea7ee197c632cb2df15                   13023   \n",
              "1  d1b65fc7debc3361ea86b5f14c68d2e2                   13844   \n",
              "2  ce3ad9de960102d0677a81f5d0bb7b2d                   20031   \n",
              "3  c0f3eea2e14555b6faeea3dd58c1b1c3                    4195   \n",
              "4  51a04a8a6bdcb23deccc82b0b80742cf                   12914   \n",
              "\n",
              "         seller_city seller_state  \n",
              "0           campinas           SP  \n",
              "1         mogi guacu           SP  \n",
              "2     rio de janeiro           RJ  \n",
              "3          sao paulo           SP  \n",
              "4  braganca paulista           SP  "
            ]
          },
          "execution_count": 105,
          "metadata": {},
          "output_type": "execute_result"
        }
      ],
      "source": [
        "sellers = pd.read_csv(\"E-commerce-public-dataset\\E-Commerce Public Dataset\\sellers_dataset.csv\")\n",
        "sellers.head()"
      ]
    },
    {
      "cell_type": "markdown",
      "metadata": {
        "id": "FHSiqaZp8DC1"
      },
      "source": [
        "### Assessing Data"
      ]
    },
    {
      "cell_type": "markdown",
      "metadata": {
        "id": "Rs8pCJUWRBZh"
      },
      "source": [
        "1. Customer Dataset"
      ]
    },
    {
      "cell_type": "code",
      "execution_count": 106,
      "metadata": {
        "colab": {
          "base_uri": "https://localhost:8080/"
        },
        "id": "ax-3tEjc9Cj1",
        "outputId": "b72caac6-073d-4a6a-9478-b40ffb65cf5c"
      },
      "outputs": [
        {
          "name": "stdout",
          "output_type": "stream",
          "text": [
            "<class 'pandas.core.frame.DataFrame'>\n",
            "RangeIndex: 99441 entries, 0 to 99440\n",
            "Data columns (total 5 columns):\n",
            " #   Column                    Non-Null Count  Dtype \n",
            "---  ------                    --------------  ----- \n",
            " 0   customer_id               99441 non-null  object\n",
            " 1   customer_unique_id        99441 non-null  object\n",
            " 2   customer_zip_code_prefix  99441 non-null  int64 \n",
            " 3   customer_city             99441 non-null  object\n",
            " 4   customer_state            99441 non-null  object\n",
            "dtypes: int64(1), object(4)\n",
            "memory usage: 3.8+ MB\n"
          ]
        }
      ],
      "source": [
        "customers.info()"
      ]
    },
    {
      "cell_type": "code",
      "execution_count": 107,
      "metadata": {
        "colab": {
          "base_uri": "https://localhost:8080/"
        },
        "id": "BKWERGyURLWC",
        "outputId": "4c077602-3309-4cc1-f567-b170f30142e3"
      },
      "outputs": [
        {
          "data": {
            "text/plain": [
              "customer_id                 0\n",
              "customer_unique_id          0\n",
              "customer_zip_code_prefix    0\n",
              "customer_city               0\n",
              "customer_state              0\n",
              "dtype: int64"
            ]
          },
          "execution_count": 107,
          "metadata": {},
          "output_type": "execute_result"
        }
      ],
      "source": [
        "customers.isnull().sum()"
      ]
    },
    {
      "cell_type": "code",
      "execution_count": 108,
      "metadata": {
        "colab": {
          "base_uri": "https://localhost:8080/"
        },
        "id": "cudzuV1tROti",
        "outputId": "61ec8aa7-0754-4222-e0d6-356322c23dc5"
      },
      "outputs": [
        {
          "name": "stdout",
          "output_type": "stream",
          "text": [
            "Jumlah duplikasi:  0\n"
          ]
        }
      ],
      "source": [
        "print(\"Jumlah duplikasi: \",  customers.duplicated().sum())"
      ]
    },
    {
      "cell_type": "code",
      "execution_count": 109,
      "metadata": {
        "colab": {
          "base_uri": "https://localhost:8080/"
        },
        "id": "k_t6wkFwRQsN",
        "outputId": "64cef925-280f-43b0-c536-d730e6e53e74"
      },
      "outputs": [
        {
          "data": {
            "text/plain": [
              "customer_id                 99441\n",
              "customer_unique_id          96096\n",
              "customer_zip_code_prefix    14994\n",
              "customer_city                4119\n",
              "customer_state                 27\n",
              "dtype: int64"
            ]
          },
          "execution_count": 109,
          "metadata": {},
          "output_type": "execute_result"
        }
      ],
      "source": [
        "customers.nunique(axis=0)"
      ]
    },
    {
      "cell_type": "code",
      "execution_count": 110,
      "metadata": {
        "colab": {
          "base_uri": "https://localhost:8080/"
        },
        "id": "hS0HeBcTRTuA",
        "outputId": "29e25f94-a9c3-4e47-82bf-f82cace63b74"
      },
      "outputs": [
        {
          "data": {
            "text/plain": [
              "array(['franca', 'sao bernardo do campo', 'sao paulo', ...,\n",
              "       'monte bonito', 'sao rafael', 'eugenio de castro'], dtype=object)"
            ]
          },
          "execution_count": 110,
          "metadata": {},
          "output_type": "execute_result"
        }
      ],
      "source": [
        "customers.customer_city.unique()"
      ]
    },
    {
      "cell_type": "markdown",
      "metadata": {
        "id": "cjnXz2X2Rc6M"
      },
      "source": [
        "2. Geolocation Dataset"
      ]
    },
    {
      "cell_type": "code",
      "execution_count": 111,
      "metadata": {
        "colab": {
          "base_uri": "https://localhost:8080/"
        },
        "id": "zBtGuVirRm3v",
        "outputId": "635025f7-fb8d-401f-b782-8eb31f0bc830"
      },
      "outputs": [
        {
          "name": "stdout",
          "output_type": "stream",
          "text": [
            "<class 'pandas.core.frame.DataFrame'>\n",
            "RangeIndex: 1000163 entries, 0 to 1000162\n",
            "Data columns (total 5 columns):\n",
            " #   Column                       Non-Null Count    Dtype  \n",
            "---  ------                       --------------    -----  \n",
            " 0   geolocation_zip_code_prefix  1000163 non-null  int64  \n",
            " 1   geolocation_lat              1000163 non-null  float64\n",
            " 2   geolocation_lng              1000163 non-null  float64\n",
            " 3   geolocation_city             1000163 non-null  object \n",
            " 4   geolocation_state            1000163 non-null  object \n",
            "dtypes: float64(2), int64(1), object(2)\n",
            "memory usage: 38.2+ MB\n"
          ]
        }
      ],
      "source": [
        "geolocation.info()"
      ]
    },
    {
      "cell_type": "code",
      "execution_count": 112,
      "metadata": {
        "colab": {
          "base_uri": "https://localhost:8080/"
        },
        "id": "OFZqKDV3Rp7F",
        "outputId": "a8e3e716-7031-4dbd-e289-13bf7fce5f29"
      },
      "outputs": [
        {
          "data": {
            "text/plain": [
              "geolocation_zip_code_prefix    0\n",
              "geolocation_lat                0\n",
              "geolocation_lng                0\n",
              "geolocation_city               0\n",
              "geolocation_state              0\n",
              "dtype: int64"
            ]
          },
          "execution_count": 112,
          "metadata": {},
          "output_type": "execute_result"
        }
      ],
      "source": [
        "geolocation.isnull().sum()"
      ]
    },
    {
      "cell_type": "code",
      "execution_count": 113,
      "metadata": {
        "colab": {
          "base_uri": "https://localhost:8080/"
        },
        "id": "xi3A4WbJRrgX",
        "outputId": "351f9557-2547-4a1f-d73a-cdb3158fd19d"
      },
      "outputs": [
        {
          "data": {
            "text/plain": [
              "geolocation_zip_code_prefix     19015\n",
              "geolocation_lat                717360\n",
              "geolocation_lng                717613\n",
              "geolocation_city                 8011\n",
              "geolocation_state                  27\n",
              "dtype: int64"
            ]
          },
          "execution_count": 113,
          "metadata": {},
          "output_type": "execute_result"
        }
      ],
      "source": [
        "geolocation.nunique(axis=0)"
      ]
    },
    {
      "cell_type": "markdown",
      "metadata": {
        "id": "TvuL7BABRufn"
      },
      "source": [
        "3. Order Items Dataset"
      ]
    },
    {
      "cell_type": "code",
      "execution_count": 114,
      "metadata": {
        "colab": {
          "base_uri": "https://localhost:8080/"
        },
        "id": "9Egvca95Rz1n",
        "outputId": "3b6faf53-7a80-44ae-e753-df7e213e9a07"
      },
      "outputs": [
        {
          "name": "stdout",
          "output_type": "stream",
          "text": [
            "<class 'pandas.core.frame.DataFrame'>\n",
            "RangeIndex: 112650 entries, 0 to 112649\n",
            "Data columns (total 7 columns):\n",
            " #   Column               Non-Null Count   Dtype  \n",
            "---  ------               --------------   -----  \n",
            " 0   order_id             112650 non-null  object \n",
            " 1   order_item_id        112650 non-null  int64  \n",
            " 2   product_id           112650 non-null  object \n",
            " 3   seller_id            112650 non-null  object \n",
            " 4   shipping_limit_date  112650 non-null  object \n",
            " 5   price                112650 non-null  float64\n",
            " 6   freight_value        112650 non-null  float64\n",
            "dtypes: float64(2), int64(1), object(4)\n",
            "memory usage: 6.0+ MB\n"
          ]
        }
      ],
      "source": [
        "orderitems.info()"
      ]
    },
    {
      "cell_type": "code",
      "execution_count": 115,
      "metadata": {
        "colab": {
          "base_uri": "https://localhost:8080/"
        },
        "id": "iRnXwhlSR2vi",
        "outputId": "40767208-ccbf-4afa-f0ca-2ccb532b16aa"
      },
      "outputs": [
        {
          "data": {
            "text/plain": [
              "order_id               0\n",
              "order_item_id          0\n",
              "product_id             0\n",
              "seller_id              0\n",
              "shipping_limit_date    0\n",
              "price                  0\n",
              "freight_value          0\n",
              "dtype: int64"
            ]
          },
          "execution_count": 115,
          "metadata": {},
          "output_type": "execute_result"
        }
      ],
      "source": [
        "orderitems.isnull().sum()"
      ]
    },
    {
      "cell_type": "code",
      "execution_count": 116,
      "metadata": {
        "colab": {
          "base_uri": "https://localhost:8080/"
        },
        "id": "FEp86QNFR6SA",
        "outputId": "8f415201-ebf9-474a-d494-7750ee8483bb"
      },
      "outputs": [
        {
          "name": "stdout",
          "output_type": "stream",
          "text": [
            "Jumlah Duplikasi: 0\n"
          ]
        }
      ],
      "source": [
        "print(\"Jumlah Duplikasi:\", orderitems.duplicated().sum())"
      ]
    },
    {
      "cell_type": "code",
      "execution_count": 117,
      "metadata": {
        "colab": {
          "base_uri": "https://localhost:8080/",
          "height": 300
        },
        "id": "N2Iwp-T7R8Ij",
        "outputId": "7a211f29-7306-4894-e778-3fd23c4e14fe"
      },
      "outputs": [
        {
          "data": {
            "text/html": [
              "<div>\n",
              "<style scoped>\n",
              "    .dataframe tbody tr th:only-of-type {\n",
              "        vertical-align: middle;\n",
              "    }\n",
              "\n",
              "    .dataframe tbody tr th {\n",
              "        vertical-align: top;\n",
              "    }\n",
              "\n",
              "    .dataframe thead th {\n",
              "        text-align: right;\n",
              "    }\n",
              "</style>\n",
              "<table border=\"1\" class=\"dataframe\">\n",
              "  <thead>\n",
              "    <tr style=\"text-align: right;\">\n",
              "      <th></th>\n",
              "      <th>order_item_id</th>\n",
              "      <th>price</th>\n",
              "      <th>freight_value</th>\n",
              "    </tr>\n",
              "  </thead>\n",
              "  <tbody>\n",
              "    <tr>\n",
              "      <th>count</th>\n",
              "      <td>112650.000000</td>\n",
              "      <td>112650.000000</td>\n",
              "      <td>112650.000000</td>\n",
              "    </tr>\n",
              "    <tr>\n",
              "      <th>mean</th>\n",
              "      <td>1.197834</td>\n",
              "      <td>120.653739</td>\n",
              "      <td>19.990320</td>\n",
              "    </tr>\n",
              "    <tr>\n",
              "      <th>std</th>\n",
              "      <td>0.705124</td>\n",
              "      <td>183.633928</td>\n",
              "      <td>15.806405</td>\n",
              "    </tr>\n",
              "    <tr>\n",
              "      <th>min</th>\n",
              "      <td>1.000000</td>\n",
              "      <td>0.850000</td>\n",
              "      <td>0.000000</td>\n",
              "    </tr>\n",
              "    <tr>\n",
              "      <th>25%</th>\n",
              "      <td>1.000000</td>\n",
              "      <td>39.900000</td>\n",
              "      <td>13.080000</td>\n",
              "    </tr>\n",
              "    <tr>\n",
              "      <th>50%</th>\n",
              "      <td>1.000000</td>\n",
              "      <td>74.990000</td>\n",
              "      <td>16.260000</td>\n",
              "    </tr>\n",
              "    <tr>\n",
              "      <th>75%</th>\n",
              "      <td>1.000000</td>\n",
              "      <td>134.900000</td>\n",
              "      <td>21.150000</td>\n",
              "    </tr>\n",
              "    <tr>\n",
              "      <th>max</th>\n",
              "      <td>21.000000</td>\n",
              "      <td>6735.000000</td>\n",
              "      <td>409.680000</td>\n",
              "    </tr>\n",
              "  </tbody>\n",
              "</table>\n",
              "</div>"
            ],
            "text/plain": [
              "       order_item_id          price  freight_value\n",
              "count  112650.000000  112650.000000  112650.000000\n",
              "mean        1.197834     120.653739      19.990320\n",
              "std         0.705124     183.633928      15.806405\n",
              "min         1.000000       0.850000       0.000000\n",
              "25%         1.000000      39.900000      13.080000\n",
              "50%         1.000000      74.990000      16.260000\n",
              "75%         1.000000     134.900000      21.150000\n",
              "max        21.000000    6735.000000     409.680000"
            ]
          },
          "execution_count": 117,
          "metadata": {},
          "output_type": "execute_result"
        }
      ],
      "source": [
        "orderitems.describe()"
      ]
    },
    {
      "cell_type": "code",
      "execution_count": 118,
      "metadata": {
        "colab": {
          "base_uri": "https://localhost:8080/"
        },
        "id": "PETwoAH6R9Rh",
        "outputId": "2806cab5-2e05-4c01-fad7-a45b6a88e891"
      },
      "outputs": [
        {
          "data": {
            "text/plain": [
              "13984"
            ]
          },
          "execution_count": 118,
          "metadata": {},
          "output_type": "execute_result"
        }
      ],
      "source": [
        "orderitems.duplicated('order_id').sum()"
      ]
    },
    {
      "cell_type": "code",
      "execution_count": 119,
      "metadata": {
        "colab": {
          "base_uri": "https://localhost:8080/"
        },
        "id": "FqNsTTunR_hQ",
        "outputId": "7e306596-8d36-4b8c-ece4-b8ceae7766f1"
      },
      "outputs": [
        {
          "data": {
            "text/plain": [
              "order_id               98666\n",
              "order_item_id             21\n",
              "product_id             32951\n",
              "seller_id               3095\n",
              "shipping_limit_date    93318\n",
              "price                   5968\n",
              "freight_value           6999\n",
              "dtype: int64"
            ]
          },
          "execution_count": 119,
          "metadata": {},
          "output_type": "execute_result"
        }
      ],
      "source": [
        "orderitems.nunique()"
      ]
    },
    {
      "cell_type": "markdown",
      "metadata": {
        "id": "v7Ljk_BLSK8c"
      },
      "source": [
        "4. Order Payments Dataset"
      ]
    },
    {
      "cell_type": "code",
      "execution_count": 120,
      "metadata": {
        "colab": {
          "base_uri": "https://localhost:8080/"
        },
        "id": "6b1uj2XsSBC4",
        "outputId": "8bc16f96-ae50-4d71-f87d-63ec75e3889a"
      },
      "outputs": [
        {
          "name": "stdout",
          "output_type": "stream",
          "text": [
            "<class 'pandas.core.frame.DataFrame'>\n",
            "RangeIndex: 103886 entries, 0 to 103885\n",
            "Data columns (total 5 columns):\n",
            " #   Column                Non-Null Count   Dtype  \n",
            "---  ------                --------------   -----  \n",
            " 0   order_id              103886 non-null  object \n",
            " 1   payment_sequential    103886 non-null  int64  \n",
            " 2   payment_type          103886 non-null  object \n",
            " 3   payment_installments  103886 non-null  int64  \n",
            " 4   payment_value         103886 non-null  float64\n",
            "dtypes: float64(1), int64(2), object(2)\n",
            "memory usage: 4.0+ MB\n"
          ]
        }
      ],
      "source": [
        "orderpayment.info()"
      ]
    },
    {
      "cell_type": "code",
      "execution_count": 121,
      "metadata": {
        "colab": {
          "base_uri": "https://localhost:8080/"
        },
        "id": "7U8O0HrXSPxc",
        "outputId": "ea6d33a9-a950-44da-e2e5-e86d76bd6364"
      },
      "outputs": [
        {
          "data": {
            "text/plain": [
              "order_id                0\n",
              "payment_sequential      0\n",
              "payment_type            0\n",
              "payment_installments    0\n",
              "payment_value           0\n",
              "dtype: int64"
            ]
          },
          "execution_count": 121,
          "metadata": {},
          "output_type": "execute_result"
        }
      ],
      "source": [
        "orderpayment.isnull().sum()"
      ]
    },
    {
      "cell_type": "code",
      "execution_count": 122,
      "metadata": {
        "colab": {
          "base_uri": "https://localhost:8080/"
        },
        "id": "ZWF89fo1SRas",
        "outputId": "b2a083fd-435c-40b2-c8d8-cbf3898e9d69"
      },
      "outputs": [
        {
          "data": {
            "text/plain": [
              "4446"
            ]
          },
          "execution_count": 122,
          "metadata": {},
          "output_type": "execute_result"
        }
      ],
      "source": [
        "orderpayment.duplicated('order_id').sum()"
      ]
    },
    {
      "cell_type": "code",
      "execution_count": 123,
      "metadata": {
        "colab": {
          "base_uri": "https://localhost:8080/"
        },
        "id": "SzsiNXhTSUmD",
        "outputId": "c40b89f3-788a-4fdf-f20e-83562b7de7c0"
      },
      "outputs": [
        {
          "data": {
            "text/plain": [
              "order_id                99440\n",
              "payment_sequential         29\n",
              "payment_type                5\n",
              "payment_installments       24\n",
              "payment_value           29077\n",
              "dtype: int64"
            ]
          },
          "execution_count": 123,
          "metadata": {},
          "output_type": "execute_result"
        }
      ],
      "source": [
        "orderpayment.nunique(axis=0)"
      ]
    },
    {
      "cell_type": "markdown",
      "metadata": {
        "id": "xrS8twS1SZ4f"
      },
      "source": [
        "5. Order Review Dataset"
      ]
    },
    {
      "cell_type": "code",
      "execution_count": 124,
      "metadata": {
        "colab": {
          "base_uri": "https://localhost:8080/"
        },
        "id": "-QqqttykSXe4",
        "outputId": "a3caf288-f97b-45da-b136-b62e4392d3f8"
      },
      "outputs": [
        {
          "name": "stdout",
          "output_type": "stream",
          "text": [
            "<class 'pandas.core.frame.DataFrame'>\n",
            "RangeIndex: 99224 entries, 0 to 99223\n",
            "Data columns (total 7 columns):\n",
            " #   Column                   Non-Null Count  Dtype \n",
            "---  ------                   --------------  ----- \n",
            " 0   review_id                99224 non-null  object\n",
            " 1   order_id                 99224 non-null  object\n",
            " 2   review_score             99224 non-null  int64 \n",
            " 3   review_comment_title     11568 non-null  object\n",
            " 4   review_comment_message   40977 non-null  object\n",
            " 5   review_creation_date     99224 non-null  object\n",
            " 6   review_answer_timestamp  99224 non-null  object\n",
            "dtypes: int64(1), object(6)\n",
            "memory usage: 5.3+ MB\n"
          ]
        }
      ],
      "source": [
        "orderreview.info()"
      ]
    },
    {
      "cell_type": "code",
      "execution_count": 125,
      "metadata": {
        "colab": {
          "base_uri": "https://localhost:8080/"
        },
        "id": "dxvuED-tSeUj",
        "outputId": "3e4240f3-38bf-4922-e035-2631289bd0ce"
      },
      "outputs": [
        {
          "data": {
            "text/plain": [
              "review_id                      0\n",
              "order_id                       0\n",
              "review_score                   0\n",
              "review_comment_title       87656\n",
              "review_comment_message     58247\n",
              "review_creation_date           0\n",
              "review_answer_timestamp        0\n",
              "dtype: int64"
            ]
          },
          "execution_count": 125,
          "metadata": {},
          "output_type": "execute_result"
        }
      ],
      "source": [
        "orderreview.isnull().sum()"
      ]
    },
    {
      "cell_type": "code",
      "execution_count": 126,
      "metadata": {
        "colab": {
          "base_uri": "https://localhost:8080/"
        },
        "id": "UaNOvtEfSikZ",
        "outputId": "99a6582b-0341-420a-f8d8-caa6d03cc513"
      },
      "outputs": [
        {
          "data": {
            "text/plain": [
              "review_id                  98410\n",
              "order_id                   98673\n",
              "review_score                   5\n",
              "review_comment_title        4527\n",
              "review_comment_message     36159\n",
              "review_creation_date         636\n",
              "review_answer_timestamp    98248\n",
              "dtype: int64"
            ]
          },
          "execution_count": 126,
          "metadata": {},
          "output_type": "execute_result"
        }
      ],
      "source": [
        "orderreview.nunique()"
      ]
    },
    {
      "cell_type": "code",
      "execution_count": 127,
      "metadata": {
        "colab": {
          "base_uri": "https://localhost:8080/"
        },
        "id": "ZFXEEmqKSkgz",
        "outputId": "4ad9fd24-f43a-4af0-b0f6-fc359408b99c"
      },
      "outputs": [
        {
          "name": "stdout",
          "output_type": "stream",
          "text": [
            "review_id duplikat: 814\n",
            "order_id duplikat: 551\n"
          ]
        }
      ],
      "source": [
        "print(f'review_id duplikat:', orderreview.duplicated('review_id').sum())\n",
        "print(f'order_id duplikat:', orderreview.duplicated('order_id').sum())"
      ]
    },
    {
      "cell_type": "markdown",
      "metadata": {
        "id": "NP0G62IuSnKH"
      },
      "source": [
        "6. Orders Dataset"
      ]
    },
    {
      "cell_type": "code",
      "execution_count": 128,
      "metadata": {
        "colab": {
          "base_uri": "https://localhost:8080/"
        },
        "id": "BPWNYhrISrq3",
        "outputId": "7b678464-cc59-4b5b-fbb2-b9eea4cdf333"
      },
      "outputs": [
        {
          "name": "stdout",
          "output_type": "stream",
          "text": [
            "<class 'pandas.core.frame.DataFrame'>\n",
            "RangeIndex: 99441 entries, 0 to 99440\n",
            "Data columns (total 8 columns):\n",
            " #   Column                         Non-Null Count  Dtype \n",
            "---  ------                         --------------  ----- \n",
            " 0   order_id                       99441 non-null  object\n",
            " 1   customer_id                    99441 non-null  object\n",
            " 2   order_status                   99441 non-null  object\n",
            " 3   order_purchase_timestamp       99441 non-null  object\n",
            " 4   order_approved_at              99281 non-null  object\n",
            " 5   order_delivered_carrier_date   97658 non-null  object\n",
            " 6   order_delivered_customer_date  96476 non-null  object\n",
            " 7   order_estimated_delivery_date  99441 non-null  object\n",
            "dtypes: object(8)\n",
            "memory usage: 6.1+ MB\n"
          ]
        }
      ],
      "source": [
        "orderdataset.info()"
      ]
    },
    {
      "cell_type": "code",
      "execution_count": 129,
      "metadata": {
        "colab": {
          "base_uri": "https://localhost:8080/"
        },
        "id": "nYOXlNBKSvWD",
        "outputId": "bfcc3eb0-5360-493b-af67-5f7b221b64bc"
      },
      "outputs": [
        {
          "data": {
            "text/plain": [
              "order_id                         99441\n",
              "customer_id                      99441\n",
              "order_status                         8\n",
              "order_purchase_timestamp         98875\n",
              "order_approved_at                90733\n",
              "order_delivered_carrier_date     81018\n",
              "order_delivered_customer_date    95664\n",
              "order_estimated_delivery_date      459\n",
              "dtype: int64"
            ]
          },
          "execution_count": 129,
          "metadata": {},
          "output_type": "execute_result"
        }
      ],
      "source": [
        "orderdataset.nunique()"
      ]
    },
    {
      "cell_type": "markdown",
      "metadata": {
        "id": "0GcgLN1hSznU"
      },
      "source": [
        "7. Product Category Names Translation Dataset"
      ]
    },
    {
      "cell_type": "code",
      "execution_count": 130,
      "metadata": {
        "colab": {
          "base_uri": "https://localhost:8080/"
        },
        "id": "sNn3WPdwSxeN",
        "outputId": "0024de40-fa08-4d4a-9aa9-6c776a95908d"
      },
      "outputs": [
        {
          "name": "stdout",
          "output_type": "stream",
          "text": [
            "<class 'pandas.core.frame.DataFrame'>\n",
            "RangeIndex: 71 entries, 0 to 70\n",
            "Data columns (total 2 columns):\n",
            " #   Column                         Non-Null Count  Dtype \n",
            "---  ------                         --------------  ----- \n",
            " 0   product_category_name          71 non-null     object\n",
            " 1   product_category_name_english  71 non-null     object\n",
            "dtypes: object(2)\n",
            "memory usage: 1.2+ KB\n"
          ]
        }
      ],
      "source": [
        "productcategory.info()"
      ]
    },
    {
      "cell_type": "markdown",
      "metadata": {
        "id": "Falq0tPjS_DW"
      },
      "source": [
        "8. Product Dataset"
      ]
    },
    {
      "cell_type": "code",
      "execution_count": 131,
      "metadata": {
        "colab": {
          "base_uri": "https://localhost:8080/"
        },
        "id": "7Ut6aq2lS6_j",
        "outputId": "03d6cf1e-d674-482c-fdef-8d1d12b3a856"
      },
      "outputs": [
        {
          "name": "stdout",
          "output_type": "stream",
          "text": [
            "<class 'pandas.core.frame.DataFrame'>\n",
            "RangeIndex: 32951 entries, 0 to 32950\n",
            "Data columns (total 9 columns):\n",
            " #   Column                      Non-Null Count  Dtype  \n",
            "---  ------                      --------------  -----  \n",
            " 0   product_id                  32951 non-null  object \n",
            " 1   product_category_name       32341 non-null  object \n",
            " 2   product_name_lenght         32341 non-null  float64\n",
            " 3   product_description_lenght  32341 non-null  float64\n",
            " 4   product_photos_qty          32341 non-null  float64\n",
            " 5   product_weight_g            32949 non-null  float64\n",
            " 6   product_length_cm           32949 non-null  float64\n",
            " 7   product_height_cm           32949 non-null  float64\n",
            " 8   product_width_cm            32949 non-null  float64\n",
            "dtypes: float64(7), object(2)\n",
            "memory usage: 2.3+ MB\n"
          ]
        }
      ],
      "source": [
        "productdataset.info()"
      ]
    },
    {
      "cell_type": "code",
      "execution_count": 132,
      "metadata": {
        "colab": {
          "base_uri": "https://localhost:8080/"
        },
        "id": "n-pWGzUaTDRB",
        "outputId": "7b8d1ec4-177c-4e86-bc5a-b0057ddccd62"
      },
      "outputs": [
        {
          "data": {
            "text/plain": [
              "product_id                      0\n",
              "product_category_name         610\n",
              "product_name_lenght           610\n",
              "product_description_lenght    610\n",
              "product_photos_qty            610\n",
              "product_weight_g                2\n",
              "product_length_cm               2\n",
              "product_height_cm               2\n",
              "product_width_cm                2\n",
              "dtype: int64"
            ]
          },
          "execution_count": 132,
          "metadata": {},
          "output_type": "execute_result"
        }
      ],
      "source": [
        "productdataset.isna().sum()"
      ]
    },
    {
      "cell_type": "code",
      "execution_count": 133,
      "metadata": {
        "colab": {
          "base_uri": "https://localhost:8080/"
        },
        "id": "c0v7PZ2_TFWb",
        "outputId": "b055f79f-fd48-4a67-bfdf-261e19583ad3"
      },
      "outputs": [
        {
          "data": {
            "text/plain": [
              "product_id                    32951\n",
              "product_category_name            73\n",
              "product_name_lenght              66\n",
              "product_description_lenght     2960\n",
              "product_photos_qty               19\n",
              "product_weight_g               2204\n",
              "product_length_cm                99\n",
              "product_height_cm               102\n",
              "product_width_cm                 95\n",
              "dtype: int64"
            ]
          },
          "execution_count": 133,
          "metadata": {},
          "output_type": "execute_result"
        }
      ],
      "source": [
        "productdataset.nunique()"
      ]
    },
    {
      "cell_type": "code",
      "execution_count": 134,
      "metadata": {
        "colab": {
          "base_uri": "https://localhost:8080/",
          "height": 320
        },
        "id": "ji4fZty4THVv",
        "outputId": "71b8d13e-b4e4-421b-d63c-2a1643824f0d"
      },
      "outputs": [
        {
          "data": {
            "text/html": [
              "<div>\n",
              "<style scoped>\n",
              "    .dataframe tbody tr th:only-of-type {\n",
              "        vertical-align: middle;\n",
              "    }\n",
              "\n",
              "    .dataframe tbody tr th {\n",
              "        vertical-align: top;\n",
              "    }\n",
              "\n",
              "    .dataframe thead th {\n",
              "        text-align: right;\n",
              "    }\n",
              "</style>\n",
              "<table border=\"1\" class=\"dataframe\">\n",
              "  <thead>\n",
              "    <tr style=\"text-align: right;\">\n",
              "      <th></th>\n",
              "      <th>product_name_lenght</th>\n",
              "      <th>product_description_lenght</th>\n",
              "      <th>product_photos_qty</th>\n",
              "      <th>product_weight_g</th>\n",
              "      <th>product_length_cm</th>\n",
              "      <th>product_height_cm</th>\n",
              "      <th>product_width_cm</th>\n",
              "    </tr>\n",
              "  </thead>\n",
              "  <tbody>\n",
              "    <tr>\n",
              "      <th>count</th>\n",
              "      <td>32341.000000</td>\n",
              "      <td>32341.000000</td>\n",
              "      <td>32341.000000</td>\n",
              "      <td>32949.000000</td>\n",
              "      <td>32949.000000</td>\n",
              "      <td>32949.000000</td>\n",
              "      <td>32949.000000</td>\n",
              "    </tr>\n",
              "    <tr>\n",
              "      <th>mean</th>\n",
              "      <td>48.476949</td>\n",
              "      <td>771.495285</td>\n",
              "      <td>2.188986</td>\n",
              "      <td>2276.472488</td>\n",
              "      <td>30.815078</td>\n",
              "      <td>16.937661</td>\n",
              "      <td>23.196728</td>\n",
              "    </tr>\n",
              "    <tr>\n",
              "      <th>std</th>\n",
              "      <td>10.245741</td>\n",
              "      <td>635.115225</td>\n",
              "      <td>1.736766</td>\n",
              "      <td>4282.038731</td>\n",
              "      <td>16.914458</td>\n",
              "      <td>13.637554</td>\n",
              "      <td>12.079047</td>\n",
              "    </tr>\n",
              "    <tr>\n",
              "      <th>min</th>\n",
              "      <td>5.000000</td>\n",
              "      <td>4.000000</td>\n",
              "      <td>1.000000</td>\n",
              "      <td>0.000000</td>\n",
              "      <td>7.000000</td>\n",
              "      <td>2.000000</td>\n",
              "      <td>6.000000</td>\n",
              "    </tr>\n",
              "    <tr>\n",
              "      <th>25%</th>\n",
              "      <td>42.000000</td>\n",
              "      <td>339.000000</td>\n",
              "      <td>1.000000</td>\n",
              "      <td>300.000000</td>\n",
              "      <td>18.000000</td>\n",
              "      <td>8.000000</td>\n",
              "      <td>15.000000</td>\n",
              "    </tr>\n",
              "    <tr>\n",
              "      <th>50%</th>\n",
              "      <td>51.000000</td>\n",
              "      <td>595.000000</td>\n",
              "      <td>1.000000</td>\n",
              "      <td>700.000000</td>\n",
              "      <td>25.000000</td>\n",
              "      <td>13.000000</td>\n",
              "      <td>20.000000</td>\n",
              "    </tr>\n",
              "    <tr>\n",
              "      <th>75%</th>\n",
              "      <td>57.000000</td>\n",
              "      <td>972.000000</td>\n",
              "      <td>3.000000</td>\n",
              "      <td>1900.000000</td>\n",
              "      <td>38.000000</td>\n",
              "      <td>21.000000</td>\n",
              "      <td>30.000000</td>\n",
              "    </tr>\n",
              "    <tr>\n",
              "      <th>max</th>\n",
              "      <td>76.000000</td>\n",
              "      <td>3992.000000</td>\n",
              "      <td>20.000000</td>\n",
              "      <td>40425.000000</td>\n",
              "      <td>105.000000</td>\n",
              "      <td>105.000000</td>\n",
              "      <td>118.000000</td>\n",
              "    </tr>\n",
              "  </tbody>\n",
              "</table>\n",
              "</div>"
            ],
            "text/plain": [
              "       product_name_lenght  product_description_lenght  product_photos_qty  \\\n",
              "count         32341.000000                32341.000000        32341.000000   \n",
              "mean             48.476949                  771.495285            2.188986   \n",
              "std              10.245741                  635.115225            1.736766   \n",
              "min               5.000000                    4.000000            1.000000   \n",
              "25%              42.000000                  339.000000            1.000000   \n",
              "50%              51.000000                  595.000000            1.000000   \n",
              "75%              57.000000                  972.000000            3.000000   \n",
              "max              76.000000                 3992.000000           20.000000   \n",
              "\n",
              "       product_weight_g  product_length_cm  product_height_cm  \\\n",
              "count      32949.000000       32949.000000       32949.000000   \n",
              "mean        2276.472488          30.815078          16.937661   \n",
              "std         4282.038731          16.914458          13.637554   \n",
              "min            0.000000           7.000000           2.000000   \n",
              "25%          300.000000          18.000000           8.000000   \n",
              "50%          700.000000          25.000000          13.000000   \n",
              "75%         1900.000000          38.000000          21.000000   \n",
              "max        40425.000000         105.000000         105.000000   \n",
              "\n",
              "       product_width_cm  \n",
              "count      32949.000000  \n",
              "mean          23.196728  \n",
              "std           12.079047  \n",
              "min            6.000000  \n",
              "25%           15.000000  \n",
              "50%           20.000000  \n",
              "75%           30.000000  \n",
              "max          118.000000  "
            ]
          },
          "execution_count": 134,
          "metadata": {},
          "output_type": "execute_result"
        }
      ],
      "source": [
        "productdataset.describe()"
      ]
    },
    {
      "cell_type": "markdown",
      "metadata": {
        "id": "jthhqpIRTLtP"
      },
      "source": [
        "9. Sellers Dataset"
      ]
    },
    {
      "cell_type": "code",
      "execution_count": 135,
      "metadata": {
        "colab": {
          "base_uri": "https://localhost:8080/"
        },
        "id": "932CCdiKTJAf",
        "outputId": "ed1463fe-d260-4e8d-d92d-9bec455ae5cf"
      },
      "outputs": [
        {
          "data": {
            "text/plain": [
              "seller_id                 3095\n",
              "seller_zip_code_prefix    2246\n",
              "seller_city                611\n",
              "seller_state                23\n",
              "dtype: int64"
            ]
          },
          "execution_count": 135,
          "metadata": {},
          "output_type": "execute_result"
        }
      ],
      "source": [
        "sellers.nunique()"
      ]
    },
    {
      "cell_type": "markdown",
      "metadata": {
        "id": "EhN5R4hr8DC1"
      },
      "source": [
        "### Cleaning Data\n",
        "![image.png](data:image/png;base64,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)"
      ]
    },
    {
      "cell_type": "markdown",
      "metadata": {
        "id": "BOquv38tTYLU"
      },
      "source": [
        "1. Order Items"
      ]
    },
    {
      "cell_type": "code",
      "execution_count": 136,
      "metadata": {
        "id": "jVnYpprE9Evz"
      },
      "outputs": [],
      "source": [
        "orderitems['shipping_limit_date'] = orderitems['shipping_limit_date'].astype('datetime64[ns]') ## mengubah tipe data shipping_limit_date"
      ]
    },
    {
      "cell_type": "code",
      "execution_count": 137,
      "metadata": {
        "colab": {
          "base_uri": "https://localhost:8080/"
        },
        "id": "hV8OwPhkTc5R",
        "outputId": "b92e63e1-26ba-4f6f-da66-a473f706122c"
      },
      "outputs": [
        {
          "name": "stdout",
          "output_type": "stream",
          "text": [
            "jumlah order_id duplikat: 0\n"
          ]
        }
      ],
      "source": [
        "orderitems.drop_duplicates(subset='order_id', inplace=True)\n",
        "print(f'jumlah order_id duplikat:',orderitems.duplicated('order_id').sum()) ## menghapus semua data duplikat pada kolom order_id"
      ]
    },
    {
      "cell_type": "code",
      "execution_count": 138,
      "metadata": {
        "colab": {
          "base_uri": "https://localhost:8080/"
        },
        "id": "N23KlBUhTelD",
        "outputId": "20be5b9e-129a-45e7-d990-37aaeeb6370e"
      },
      "outputs": [
        {
          "name": "stdout",
          "output_type": "stream",
          "text": [
            "<class 'pandas.core.frame.DataFrame'>\n",
            "Index: 98666 entries, 0 to 112649\n",
            "Data columns (total 7 columns):\n",
            " #   Column               Non-Null Count  Dtype         \n",
            "---  ------               --------------  -----         \n",
            " 0   order_id             98666 non-null  object        \n",
            " 1   order_item_id        98666 non-null  int64         \n",
            " 2   product_id           98666 non-null  object        \n",
            " 3   seller_id            98666 non-null  object        \n",
            " 4   shipping_limit_date  98666 non-null  datetime64[ns]\n",
            " 5   price                98666 non-null  float64       \n",
            " 6   freight_value        98666 non-null  float64       \n",
            "dtypes: datetime64[ns](1), float64(2), int64(1), object(3)\n",
            "memory usage: 6.0+ MB\n"
          ]
        }
      ],
      "source": [
        "orderitems.info()"
      ]
    },
    {
      "cell_type": "markdown",
      "metadata": {
        "id": "I1GFXeVZTiuG"
      },
      "source": [
        "2. Order Review"
      ]
    },
    {
      "cell_type": "code",
      "execution_count": 139,
      "metadata": {
        "colab": {
          "base_uri": "https://localhost:8080/"
        },
        "id": "PRJ1rlqmTkiw",
        "outputId": "ae4d0204-e389-4521-b0bf-780f704d5b34"
      },
      "outputs": [
        {
          "name": "stdout",
          "output_type": "stream",
          "text": [
            "jumlah review_id duplikat: 0\n"
          ]
        }
      ],
      "source": [
        "orderreview.drop_duplicates(subset='review_id', inplace=True)\n",
        "print(f'jumlah review_id duplikat:',orderreview.duplicated('review_id').sum())"
      ]
    },
    {
      "cell_type": "code",
      "execution_count": 140,
      "metadata": {
        "colab": {
          "base_uri": "https://localhost:8080/"
        },
        "id": "TI_jl7dyTmvj",
        "outputId": "25cef18b-c51b-4847-e5a4-9bf8321120a9"
      },
      "outputs": [
        {
          "data": {
            "text/plain": [
              "0"
            ]
          },
          "execution_count": 140,
          "metadata": {},
          "output_type": "execute_result"
        }
      ],
      "source": [
        "orderreview.duplicated().sum()"
      ]
    },
    {
      "cell_type": "code",
      "execution_count": 141,
      "metadata": {
        "colab": {
          "base_uri": "https://localhost:8080/"
        },
        "id": "J0oUTGt5ToXI",
        "outputId": "b4dc136f-982d-473e-f20a-486863b3245f"
      },
      "outputs": [
        {
          "data": {
            "text/plain": [
              "review_id                  98410\n",
              "order_id                   98167\n",
              "review_score                   5\n",
              "review_comment_title        4527\n",
              "review_comment_message     36159\n",
              "review_creation_date         636\n",
              "review_answer_timestamp    98248\n",
              "dtype: int64"
            ]
          },
          "execution_count": 141,
          "metadata": {},
          "output_type": "execute_result"
        }
      ],
      "source": [
        "orderreview.nunique()"
      ]
    },
    {
      "cell_type": "code",
      "execution_count": 142,
      "metadata": {
        "id": "6LKKlW0OTtf3"
      },
      "outputs": [],
      "source": [
        "# Definisikan kolom yang berisi tanggal\n",
        "datetime_col = ['review_creation_date', 'review_answer_timestamp']\n",
        "\n",
        "# Konversi tipe data kolom menjadi datetime\n",
        "for column in datetime_col:\n",
        "    orderreview[column] = pd.to_datetime(orderreview[column])"
      ]
    },
    {
      "cell_type": "code",
      "execution_count": 143,
      "metadata": {
        "colab": {
          "base_uri": "https://localhost:8080/"
        },
        "id": "C9l279W7TvFx",
        "outputId": "35bf8d0c-9026-4757-d523-97aa67c1c33f"
      },
      "outputs": [
        {
          "name": "stdout",
          "output_type": "stream",
          "text": [
            "<class 'pandas.core.frame.DataFrame'>\n",
            "Index: 98410 entries, 0 to 99223\n",
            "Data columns (total 7 columns):\n",
            " #   Column                   Non-Null Count  Dtype         \n",
            "---  ------                   --------------  -----         \n",
            " 0   review_id                98410 non-null  object        \n",
            " 1   order_id                 98410 non-null  object        \n",
            " 2   review_score             98410 non-null  int64         \n",
            " 3   review_comment_title     11519 non-null  object        \n",
            " 4   review_comment_message   40668 non-null  object        \n",
            " 5   review_creation_date     98410 non-null  datetime64[ns]\n",
            " 6   review_answer_timestamp  98410 non-null  datetime64[ns]\n",
            "dtypes: datetime64[ns](2), int64(1), object(4)\n",
            "memory usage: 6.0+ MB\n"
          ]
        }
      ],
      "source": [
        "orderreview.info()"
      ]
    },
    {
      "cell_type": "markdown",
      "metadata": {
        "id": "26S-ODxQT0hH"
      },
      "source": [
        "3. Orders Dataset"
      ]
    },
    {
      "cell_type": "code",
      "execution_count": 144,
      "metadata": {
        "id": "H-nUIBsQT2LG"
      },
      "outputs": [],
      "source": [
        "# Definisikan kolom yang berisi tanggal\n",
        "datetime_columns = ['order_purchase_timestamp', 'order_approved_at', 'order_delivered_carrier_date', 'order_delivered_customer_date', 'order_estimated_delivery_date']\n",
        "\n",
        "# Konversi tipe data kolom menjadi datetime\n",
        "for column in datetime_columns:\n",
        "    orderdataset[column] = pd.to_datetime(orderdataset[column])"
      ]
    },
    {
      "cell_type": "code",
      "execution_count": 145,
      "metadata": {
        "colab": {
          "base_uri": "https://localhost:8080/"
        },
        "id": "VFmv7ZQZT6oH",
        "outputId": "cd247ace-3704-4431-cf7f-1488bdbaa2c6"
      },
      "outputs": [
        {
          "name": "stdout",
          "output_type": "stream",
          "text": [
            "<class 'pandas.core.frame.DataFrame'>\n",
            "RangeIndex: 99441 entries, 0 to 99440\n",
            "Data columns (total 8 columns):\n",
            " #   Column                         Non-Null Count  Dtype         \n",
            "---  ------                         --------------  -----         \n",
            " 0   order_id                       99441 non-null  object        \n",
            " 1   customer_id                    99441 non-null  object        \n",
            " 2   order_status                   99441 non-null  object        \n",
            " 3   order_purchase_timestamp       99441 non-null  datetime64[ns]\n",
            " 4   order_approved_at              99281 non-null  datetime64[ns]\n",
            " 5   order_delivered_carrier_date   97658 non-null  datetime64[ns]\n",
            " 6   order_delivered_customer_date  96476 non-null  datetime64[ns]\n",
            " 7   order_estimated_delivery_date  99441 non-null  datetime64[ns]\n",
            "dtypes: datetime64[ns](5), object(3)\n",
            "memory usage: 6.1+ MB\n"
          ]
        }
      ],
      "source": [
        "orderdataset.info()"
      ]
    },
    {
      "cell_type": "markdown",
      "metadata": {
        "id": "ha--gMF0UBHq"
      },
      "source": [
        "4. Product Dataset"
      ]
    },
    {
      "cell_type": "code",
      "execution_count": 146,
      "metadata": {
        "id": "BWv5_oaCT_3T"
      },
      "outputs": [],
      "source": [
        "productdataset.rename(columns={'product_name_lenght': 'product_name_length', 'product_description_lenght': 'product_description_length'}, inplace=True)\n",
        "##Mengganti nama kolom dalam dataset productdataset"
      ]
    },
    {
      "cell_type": "code",
      "execution_count": 147,
      "metadata": {
        "colab": {
          "base_uri": "https://localhost:8080/",
          "height": 443
        },
        "id": "6EvuX6IEUE-b",
        "outputId": "bcdf5ec1-6de0-4c1f-8d3f-65b28ed02443"
      },
      "outputs": [
        {
          "data": {
            "text/html": [
              "<div>\n",
              "<style scoped>\n",
              "    .dataframe tbody tr th:only-of-type {\n",
              "        vertical-align: middle;\n",
              "    }\n",
              "\n",
              "    .dataframe tbody tr th {\n",
              "        vertical-align: top;\n",
              "    }\n",
              "\n",
              "    .dataframe thead th {\n",
              "        text-align: right;\n",
              "    }\n",
              "</style>\n",
              "<table border=\"1\" class=\"dataframe\">\n",
              "  <thead>\n",
              "    <tr style=\"text-align: right;\">\n",
              "      <th></th>\n",
              "      <th>product_id</th>\n",
              "      <th>product_category_name</th>\n",
              "      <th>product_name_length</th>\n",
              "      <th>product_description_length</th>\n",
              "      <th>product_photos_qty</th>\n",
              "      <th>product_weight_g</th>\n",
              "      <th>product_length_cm</th>\n",
              "      <th>product_height_cm</th>\n",
              "      <th>product_width_cm</th>\n",
              "    </tr>\n",
              "  </thead>\n",
              "  <tbody>\n",
              "    <tr>\n",
              "      <th>0</th>\n",
              "      <td>1e9e8ef04dbcff4541ed26657ea517e5</td>\n",
              "      <td>perfumaria</td>\n",
              "      <td>40.0</td>\n",
              "      <td>287.0</td>\n",
              "      <td>1.0</td>\n",
              "      <td>225.0</td>\n",
              "      <td>16.0</td>\n",
              "      <td>10.0</td>\n",
              "      <td>14.0</td>\n",
              "    </tr>\n",
              "    <tr>\n",
              "      <th>1</th>\n",
              "      <td>3aa071139cb16b67ca9e5dea641aaa2f</td>\n",
              "      <td>artes</td>\n",
              "      <td>44.0</td>\n",
              "      <td>276.0</td>\n",
              "      <td>1.0</td>\n",
              "      <td>1000.0</td>\n",
              "      <td>30.0</td>\n",
              "      <td>18.0</td>\n",
              "      <td>20.0</td>\n",
              "    </tr>\n",
              "    <tr>\n",
              "      <th>2</th>\n",
              "      <td>96bd76ec8810374ed1b65e291975717f</td>\n",
              "      <td>esporte_lazer</td>\n",
              "      <td>46.0</td>\n",
              "      <td>250.0</td>\n",
              "      <td>1.0</td>\n",
              "      <td>154.0</td>\n",
              "      <td>18.0</td>\n",
              "      <td>9.0</td>\n",
              "      <td>15.0</td>\n",
              "    </tr>\n",
              "    <tr>\n",
              "      <th>3</th>\n",
              "      <td>cef67bcfe19066a932b7673e239eb23d</td>\n",
              "      <td>bebes</td>\n",
              "      <td>27.0</td>\n",
              "      <td>261.0</td>\n",
              "      <td>1.0</td>\n",
              "      <td>371.0</td>\n",
              "      <td>26.0</td>\n",
              "      <td>4.0</td>\n",
              "      <td>26.0</td>\n",
              "    </tr>\n",
              "    <tr>\n",
              "      <th>4</th>\n",
              "      <td>9dc1a7de274444849c219cff195d0b71</td>\n",
              "      <td>utilidades_domesticas</td>\n",
              "      <td>37.0</td>\n",
              "      <td>402.0</td>\n",
              "      <td>4.0</td>\n",
              "      <td>625.0</td>\n",
              "      <td>20.0</td>\n",
              "      <td>17.0</td>\n",
              "      <td>13.0</td>\n",
              "    </tr>\n",
              "    <tr>\n",
              "      <th>...</th>\n",
              "      <td>...</td>\n",
              "      <td>...</td>\n",
              "      <td>...</td>\n",
              "      <td>...</td>\n",
              "      <td>...</td>\n",
              "      <td>...</td>\n",
              "      <td>...</td>\n",
              "      <td>...</td>\n",
              "      <td>...</td>\n",
              "    </tr>\n",
              "    <tr>\n",
              "      <th>32946</th>\n",
              "      <td>a0b7d5a992ccda646f2d34e418fff5a0</td>\n",
              "      <td>moveis_decoracao</td>\n",
              "      <td>45.0</td>\n",
              "      <td>67.0</td>\n",
              "      <td>2.0</td>\n",
              "      <td>12300.0</td>\n",
              "      <td>40.0</td>\n",
              "      <td>40.0</td>\n",
              "      <td>40.0</td>\n",
              "    </tr>\n",
              "    <tr>\n",
              "      <th>32947</th>\n",
              "      <td>bf4538d88321d0fd4412a93c974510e6</td>\n",
              "      <td>construcao_ferramentas_iluminacao</td>\n",
              "      <td>41.0</td>\n",
              "      <td>971.0</td>\n",
              "      <td>1.0</td>\n",
              "      <td>1700.0</td>\n",
              "      <td>16.0</td>\n",
              "      <td>19.0</td>\n",
              "      <td>16.0</td>\n",
              "    </tr>\n",
              "    <tr>\n",
              "      <th>32948</th>\n",
              "      <td>9a7c6041fa9592d9d9ef6cfe62a71f8c</td>\n",
              "      <td>cama_mesa_banho</td>\n",
              "      <td>50.0</td>\n",
              "      <td>799.0</td>\n",
              "      <td>1.0</td>\n",
              "      <td>1400.0</td>\n",
              "      <td>27.0</td>\n",
              "      <td>7.0</td>\n",
              "      <td>27.0</td>\n",
              "    </tr>\n",
              "    <tr>\n",
              "      <th>32949</th>\n",
              "      <td>83808703fc0706a22e264b9d75f04a2e</td>\n",
              "      <td>informatica_acessorios</td>\n",
              "      <td>60.0</td>\n",
              "      <td>156.0</td>\n",
              "      <td>2.0</td>\n",
              "      <td>700.0</td>\n",
              "      <td>31.0</td>\n",
              "      <td>13.0</td>\n",
              "      <td>20.0</td>\n",
              "    </tr>\n",
              "    <tr>\n",
              "      <th>32950</th>\n",
              "      <td>106392145fca363410d287a815be6de4</td>\n",
              "      <td>cama_mesa_banho</td>\n",
              "      <td>58.0</td>\n",
              "      <td>309.0</td>\n",
              "      <td>1.0</td>\n",
              "      <td>2083.0</td>\n",
              "      <td>12.0</td>\n",
              "      <td>2.0</td>\n",
              "      <td>7.0</td>\n",
              "    </tr>\n",
              "  </tbody>\n",
              "</table>\n",
              "<p>32951 rows × 9 columns</p>\n",
              "</div>"
            ],
            "text/plain": [
              "                             product_id              product_category_name  \\\n",
              "0      1e9e8ef04dbcff4541ed26657ea517e5                         perfumaria   \n",
              "1      3aa071139cb16b67ca9e5dea641aaa2f                              artes   \n",
              "2      96bd76ec8810374ed1b65e291975717f                      esporte_lazer   \n",
              "3      cef67bcfe19066a932b7673e239eb23d                              bebes   \n",
              "4      9dc1a7de274444849c219cff195d0b71              utilidades_domesticas   \n",
              "...                                 ...                                ...   \n",
              "32946  a0b7d5a992ccda646f2d34e418fff5a0                   moveis_decoracao   \n",
              "32947  bf4538d88321d0fd4412a93c974510e6  construcao_ferramentas_iluminacao   \n",
              "32948  9a7c6041fa9592d9d9ef6cfe62a71f8c                    cama_mesa_banho   \n",
              "32949  83808703fc0706a22e264b9d75f04a2e             informatica_acessorios   \n",
              "32950  106392145fca363410d287a815be6de4                    cama_mesa_banho   \n",
              "\n",
              "       product_name_length  product_description_length  product_photos_qty  \\\n",
              "0                     40.0                       287.0                 1.0   \n",
              "1                     44.0                       276.0                 1.0   \n",
              "2                     46.0                       250.0                 1.0   \n",
              "3                     27.0                       261.0                 1.0   \n",
              "4                     37.0                       402.0                 4.0   \n",
              "...                    ...                         ...                 ...   \n",
              "32946                 45.0                        67.0                 2.0   \n",
              "32947                 41.0                       971.0                 1.0   \n",
              "32948                 50.0                       799.0                 1.0   \n",
              "32949                 60.0                       156.0                 2.0   \n",
              "32950                 58.0                       309.0                 1.0   \n",
              "\n",
              "       product_weight_g  product_length_cm  product_height_cm  \\\n",
              "0                 225.0               16.0               10.0   \n",
              "1                1000.0               30.0               18.0   \n",
              "2                 154.0               18.0                9.0   \n",
              "3                 371.0               26.0                4.0   \n",
              "4                 625.0               20.0               17.0   \n",
              "...                 ...                ...                ...   \n",
              "32946           12300.0               40.0               40.0   \n",
              "32947            1700.0               16.0               19.0   \n",
              "32948            1400.0               27.0                7.0   \n",
              "32949             700.0               31.0               13.0   \n",
              "32950            2083.0               12.0                2.0   \n",
              "\n",
              "       product_width_cm  \n",
              "0                  14.0  \n",
              "1                  20.0  \n",
              "2                  15.0  \n",
              "3                  26.0  \n",
              "4                  13.0  \n",
              "...                 ...  \n",
              "32946              40.0  \n",
              "32947              16.0  \n",
              "32948              27.0  \n",
              "32949              20.0  \n",
              "32950               7.0  \n",
              "\n",
              "[32951 rows x 9 columns]"
            ]
          },
          "execution_count": 147,
          "metadata": {},
          "output_type": "execute_result"
        }
      ],
      "source": [
        "# Mengisi nilai yang hilang dengan rata-rata dari kolom tersebut\n",
        "columns_to_fill = ['product_name_length', 'product_description_length', 'product_photos_qty',\n",
        "                   'product_weight_g', 'product_length_cm', 'product_height_cm', 'product_width_cm']\n",
        "\n",
        "# Filling missing values with column means\n",
        "productdataset[columns_to_fill] = productdataset[columns_to_fill].fillna(productdataset[columns_to_fill].mean())\n",
        "\n",
        "# Displaying the resulting DataFrame\n",
        "productdataset"
      ]
    },
    {
      "cell_type": "code",
      "execution_count": 148,
      "metadata": {
        "colab": {
          "base_uri": "https://localhost:8080/"
        },
        "id": "x9Q8kMkTUGdL",
        "outputId": "510faf79-7762-438f-cd02-cc9073edaeeb"
      },
      "outputs": [
        {
          "data": {
            "text/plain": [
              "product_id                      0\n",
              "product_category_name         610\n",
              "product_name_length             0\n",
              "product_description_length      0\n",
              "product_photos_qty              0\n",
              "product_weight_g                0\n",
              "product_length_cm               0\n",
              "product_height_cm               0\n",
              "product_width_cm                0\n",
              "dtype: int64"
            ]
          },
          "execution_count": 148,
          "metadata": {},
          "output_type": "execute_result"
        }
      ],
      "source": [
        "productdataset.isna().sum()"
      ]
    },
    {
      "cell_type": "code",
      "execution_count": 149,
      "metadata": {
        "id": "xdjAGTUiUJO0"
      },
      "outputs": [
        {
          "name": "stderr",
          "output_type": "stream",
          "text": [
            "C:\\Users\\GYBRAN KHAIRUL ANAM\\AppData\\Local\\Temp\\ipykernel_1608\\1897437584.py:1: FutureWarning: Series.interpolate with method=pad is deprecated and will raise in a future version. Use obj.ffill() or obj.bfill() instead.\n",
            "  productdataset['product_category_name'].interpolate(method='pad', axis=0, limit_direction='forward', inplace=True)\n"
          ]
        }
      ],
      "source": [
        "productdataset['product_category_name'].interpolate(method='pad', axis=0, limit_direction='forward', inplace=True)"
      ]
    },
    {
      "cell_type": "code",
      "execution_count": 150,
      "metadata": {
        "colab": {
          "base_uri": "https://localhost:8080/"
        },
        "id": "awYq5gUyUK88",
        "outputId": "2c58c720-0340-42f8-d2e8-6b9da4158dce"
      },
      "outputs": [
        {
          "data": {
            "text/plain": [
              "product_id                    0\n",
              "product_category_name         0\n",
              "product_name_length           0\n",
              "product_description_length    0\n",
              "product_photos_qty            0\n",
              "product_weight_g              0\n",
              "product_length_cm             0\n",
              "product_height_cm             0\n",
              "product_width_cm              0\n",
              "dtype: int64"
            ]
          },
          "execution_count": 150,
          "metadata": {},
          "output_type": "execute_result"
        }
      ],
      "source": [
        "productdataset.isna().sum()"
      ]
    },
    {
      "cell_type": "markdown",
      "metadata": {
        "id": "9AtkhRF2P52F"
      },
      "source": [
        "**Menggabungkan Data**\n"
      ]
    },
    {
      "cell_type": "markdown",
      "metadata": {
        "id": "eMOatHmhP-pe"
      },
      "source": [
        "productdataset & productcategory"
      ]
    },
    {
      "cell_type": "code",
      "execution_count": 151,
      "metadata": {
        "colab": {
          "base_uri": "https://localhost:8080/",
          "height": 443
        },
        "id": "oes_A_VDQF9S",
        "outputId": "c893647f-dad9-4e83-bb2a-d2eceeac1edc"
      },
      "outputs": [
        {
          "data": {
            "text/html": [
              "<div>\n",
              "<style scoped>\n",
              "    .dataframe tbody tr th:only-of-type {\n",
              "        vertical-align: middle;\n",
              "    }\n",
              "\n",
              "    .dataframe tbody tr th {\n",
              "        vertical-align: top;\n",
              "    }\n",
              "\n",
              "    .dataframe thead th {\n",
              "        text-align: right;\n",
              "    }\n",
              "</style>\n",
              "<table border=\"1\" class=\"dataframe\">\n",
              "  <thead>\n",
              "    <tr style=\"text-align: right;\">\n",
              "      <th></th>\n",
              "      <th>product_id</th>\n",
              "      <th>product_category_name</th>\n",
              "      <th>product_name_length</th>\n",
              "      <th>product_description_length</th>\n",
              "      <th>product_photos_qty</th>\n",
              "      <th>product_weight_g</th>\n",
              "      <th>product_length_cm</th>\n",
              "      <th>product_height_cm</th>\n",
              "      <th>product_width_cm</th>\n",
              "      <th>product_category_name_english</th>\n",
              "    </tr>\n",
              "  </thead>\n",
              "  <tbody>\n",
              "    <tr>\n",
              "      <th>0</th>\n",
              "      <td>1e9e8ef04dbcff4541ed26657ea517e5</td>\n",
              "      <td>perfumaria</td>\n",
              "      <td>40.0</td>\n",
              "      <td>287.0</td>\n",
              "      <td>1.0</td>\n",
              "      <td>225.0</td>\n",
              "      <td>16.0</td>\n",
              "      <td>10.0</td>\n",
              "      <td>14.0</td>\n",
              "      <td>perfumery</td>\n",
              "    </tr>\n",
              "    <tr>\n",
              "      <th>1</th>\n",
              "      <td>6a2fb4dd53d2cdb88e0432f1284a004c</td>\n",
              "      <td>perfumaria</td>\n",
              "      <td>39.0</td>\n",
              "      <td>346.0</td>\n",
              "      <td>2.0</td>\n",
              "      <td>400.0</td>\n",
              "      <td>27.0</td>\n",
              "      <td>5.0</td>\n",
              "      <td>20.0</td>\n",
              "      <td>perfumery</td>\n",
              "    </tr>\n",
              "    <tr>\n",
              "      <th>2</th>\n",
              "      <td>0d009643171aee696f4733340bc2fdd0</td>\n",
              "      <td>perfumaria</td>\n",
              "      <td>52.0</td>\n",
              "      <td>150.0</td>\n",
              "      <td>1.0</td>\n",
              "      <td>422.0</td>\n",
              "      <td>21.0</td>\n",
              "      <td>16.0</td>\n",
              "      <td>18.0</td>\n",
              "      <td>perfumery</td>\n",
              "    </tr>\n",
              "    <tr>\n",
              "      <th>3</th>\n",
              "      <td>b1eae565a61935e0011ee7682fef9dc9</td>\n",
              "      <td>perfumaria</td>\n",
              "      <td>49.0</td>\n",
              "      <td>460.0</td>\n",
              "      <td>2.0</td>\n",
              "      <td>267.0</td>\n",
              "      <td>17.0</td>\n",
              "      <td>13.0</td>\n",
              "      <td>17.0</td>\n",
              "      <td>perfumery</td>\n",
              "    </tr>\n",
              "    <tr>\n",
              "      <th>4</th>\n",
              "      <td>8da90b37f0fb171b4877c124f965b1f6</td>\n",
              "      <td>perfumaria</td>\n",
              "      <td>56.0</td>\n",
              "      <td>733.0</td>\n",
              "      <td>3.0</td>\n",
              "      <td>377.0</td>\n",
              "      <td>18.0</td>\n",
              "      <td>13.0</td>\n",
              "      <td>15.0</td>\n",
              "      <td>perfumery</td>\n",
              "    </tr>\n",
              "    <tr>\n",
              "      <th>...</th>\n",
              "      <td>...</td>\n",
              "      <td>...</td>\n",
              "      <td>...</td>\n",
              "      <td>...</td>\n",
              "      <td>...</td>\n",
              "      <td>...</td>\n",
              "      <td>...</td>\n",
              "      <td>...</td>\n",
              "      <td>...</td>\n",
              "      <td>...</td>\n",
              "    </tr>\n",
              "    <tr>\n",
              "      <th>32946</th>\n",
              "      <td>13b25797ad1e6d6c7cd3cbeb35f8ee7a</td>\n",
              "      <td>moveis_colchao_e_estofado</td>\n",
              "      <td>44.0</td>\n",
              "      <td>348.0</td>\n",
              "      <td>1.0</td>\n",
              "      <td>18250.0</td>\n",
              "      <td>25.0</td>\n",
              "      <td>25.0</td>\n",
              "      <td>25.0</td>\n",
              "      <td>furniture_mattress_and_upholstery</td>\n",
              "    </tr>\n",
              "    <tr>\n",
              "      <th>32947</th>\n",
              "      <td>dc36a7859b743d8610a2bbbaea26ece9</td>\n",
              "      <td>moveis_colchao_e_estofado</td>\n",
              "      <td>29.0</td>\n",
              "      <td>2073.0</td>\n",
              "      <td>2.0</td>\n",
              "      <td>2500.0</td>\n",
              "      <td>41.0</td>\n",
              "      <td>21.0</td>\n",
              "      <td>21.0</td>\n",
              "      <td>furniture_mattress_and_upholstery</td>\n",
              "    </tr>\n",
              "    <tr>\n",
              "      <th>32948</th>\n",
              "      <td>107fde0930956120d1e13dd1062fbb46</td>\n",
              "      <td>moveis_colchao_e_estofado</td>\n",
              "      <td>51.0</td>\n",
              "      <td>418.0</td>\n",
              "      <td>1.0</td>\n",
              "      <td>30000.0</td>\n",
              "      <td>60.0</td>\n",
              "      <td>73.0</td>\n",
              "      <td>60.0</td>\n",
              "      <td>furniture_mattress_and_upholstery</td>\n",
              "    </tr>\n",
              "    <tr>\n",
              "      <th>32949</th>\n",
              "      <td>726b4e18f00255e2e63491bcba3f60b8</td>\n",
              "      <td>moveis_colchao_e_estofado</td>\n",
              "      <td>41.0</td>\n",
              "      <td>866.0</td>\n",
              "      <td>1.0</td>\n",
              "      <td>1700.0</td>\n",
              "      <td>70.0</td>\n",
              "      <td>10.0</td>\n",
              "      <td>100.0</td>\n",
              "      <td>furniture_mattress_and_upholstery</td>\n",
              "    </tr>\n",
              "    <tr>\n",
              "      <th>32950</th>\n",
              "      <td>1dceebcc5f23c02ea23e16d5bedca000</td>\n",
              "      <td>cds_dvds_musicais</td>\n",
              "      <td>47.0</td>\n",
              "      <td>117.0</td>\n",
              "      <td>2.0</td>\n",
              "      <td>550.0</td>\n",
              "      <td>35.0</td>\n",
              "      <td>15.0</td>\n",
              "      <td>25.0</td>\n",
              "      <td>cds_dvds_musicals</td>\n",
              "    </tr>\n",
              "  </tbody>\n",
              "</table>\n",
              "<p>32951 rows × 10 columns</p>\n",
              "</div>"
            ],
            "text/plain": [
              "                             product_id      product_category_name  \\\n",
              "0      1e9e8ef04dbcff4541ed26657ea517e5                 perfumaria   \n",
              "1      6a2fb4dd53d2cdb88e0432f1284a004c                 perfumaria   \n",
              "2      0d009643171aee696f4733340bc2fdd0                 perfumaria   \n",
              "3      b1eae565a61935e0011ee7682fef9dc9                 perfumaria   \n",
              "4      8da90b37f0fb171b4877c124f965b1f6                 perfumaria   \n",
              "...                                 ...                        ...   \n",
              "32946  13b25797ad1e6d6c7cd3cbeb35f8ee7a  moveis_colchao_e_estofado   \n",
              "32947  dc36a7859b743d8610a2bbbaea26ece9  moveis_colchao_e_estofado   \n",
              "32948  107fde0930956120d1e13dd1062fbb46  moveis_colchao_e_estofado   \n",
              "32949  726b4e18f00255e2e63491bcba3f60b8  moveis_colchao_e_estofado   \n",
              "32950  1dceebcc5f23c02ea23e16d5bedca000          cds_dvds_musicais   \n",
              "\n",
              "       product_name_length  product_description_length  product_photos_qty  \\\n",
              "0                     40.0                       287.0                 1.0   \n",
              "1                     39.0                       346.0                 2.0   \n",
              "2                     52.0                       150.0                 1.0   \n",
              "3                     49.0                       460.0                 2.0   \n",
              "4                     56.0                       733.0                 3.0   \n",
              "...                    ...                         ...                 ...   \n",
              "32946                 44.0                       348.0                 1.0   \n",
              "32947                 29.0                      2073.0                 2.0   \n",
              "32948                 51.0                       418.0                 1.0   \n",
              "32949                 41.0                       866.0                 1.0   \n",
              "32950                 47.0                       117.0                 2.0   \n",
              "\n",
              "       product_weight_g  product_length_cm  product_height_cm  \\\n",
              "0                 225.0               16.0               10.0   \n",
              "1                 400.0               27.0                5.0   \n",
              "2                 422.0               21.0               16.0   \n",
              "3                 267.0               17.0               13.0   \n",
              "4                 377.0               18.0               13.0   \n",
              "...                 ...                ...                ...   \n",
              "32946           18250.0               25.0               25.0   \n",
              "32947            2500.0               41.0               21.0   \n",
              "32948           30000.0               60.0               73.0   \n",
              "32949            1700.0               70.0               10.0   \n",
              "32950             550.0               35.0               15.0   \n",
              "\n",
              "       product_width_cm      product_category_name_english  \n",
              "0                  14.0                          perfumery  \n",
              "1                  20.0                          perfumery  \n",
              "2                  18.0                          perfumery  \n",
              "3                  17.0                          perfumery  \n",
              "4                  15.0                          perfumery  \n",
              "...                 ...                                ...  \n",
              "32946              25.0  furniture_mattress_and_upholstery  \n",
              "32947              21.0  furniture_mattress_and_upholstery  \n",
              "32948              60.0  furniture_mattress_and_upholstery  \n",
              "32949             100.0  furniture_mattress_and_upholstery  \n",
              "32950              25.0                  cds_dvds_musicals  \n",
              "\n",
              "[32951 rows x 10 columns]"
            ]
          },
          "execution_count": 151,
          "metadata": {},
          "output_type": "execute_result"
        }
      ],
      "source": [
        "product2 = pd.merge(\n",
        "    left=productdataset,\n",
        "    right=productcategory,\n",
        "    how='outer',\n",
        "    left_on='product_category_name',\n",
        "    right_on='product_category_name'\n",
        ")\n",
        "product2"
      ]
    },
    {
      "cell_type": "markdown",
      "metadata": {
        "id": "RdBm4lwJQmxk"
      },
      "source": [
        "orderitems & orderpayment"
      ]
    },
    {
      "cell_type": "code",
      "execution_count": 152,
      "metadata": {
        "colab": {
          "base_uri": "https://localhost:8080/",
          "height": 226
        },
        "id": "PHcOA4jJQmMG",
        "outputId": "633cad73-9845-4aea-878f-d8c6bd46ede0"
      },
      "outputs": [
        {
          "data": {
            "text/html": [
              "<div>\n",
              "<style scoped>\n",
              "    .dataframe tbody tr th:only-of-type {\n",
              "        vertical-align: middle;\n",
              "    }\n",
              "\n",
              "    .dataframe tbody tr th {\n",
              "        vertical-align: top;\n",
              "    }\n",
              "\n",
              "    .dataframe thead th {\n",
              "        text-align: right;\n",
              "    }\n",
              "</style>\n",
              "<table border=\"1\" class=\"dataframe\">\n",
              "  <thead>\n",
              "    <tr style=\"text-align: right;\">\n",
              "      <th></th>\n",
              "      <th>order_id</th>\n",
              "      <th>order_item_id</th>\n",
              "      <th>product_id</th>\n",
              "      <th>seller_id</th>\n",
              "      <th>shipping_limit_date</th>\n",
              "      <th>price</th>\n",
              "      <th>freight_value</th>\n",
              "      <th>payment_sequential</th>\n",
              "      <th>payment_type</th>\n",
              "      <th>payment_installments</th>\n",
              "      <th>payment_value</th>\n",
              "    </tr>\n",
              "  </thead>\n",
              "  <tbody>\n",
              "    <tr>\n",
              "      <th>0</th>\n",
              "      <td>00010242fe8c5a6d1ba2dd792cb16214</td>\n",
              "      <td>1.0</td>\n",
              "      <td>4244733e06e7ecb4970a6e2683c13e61</td>\n",
              "      <td>48436dade18ac8b2bce089ec2a041202</td>\n",
              "      <td>2017-09-19 09:45:35</td>\n",
              "      <td>58.90</td>\n",
              "      <td>13.29</td>\n",
              "      <td>1.0</td>\n",
              "      <td>credit_card</td>\n",
              "      <td>2.0</td>\n",
              "      <td>72.19</td>\n",
              "    </tr>\n",
              "    <tr>\n",
              "      <th>1</th>\n",
              "      <td>00018f77f2f0320c557190d7a144bdd3</td>\n",
              "      <td>1.0</td>\n",
              "      <td>e5f2d52b802189ee658865ca93d83a8f</td>\n",
              "      <td>dd7ddc04e1b6c2c614352b383efe2d36</td>\n",
              "      <td>2017-05-03 11:05:13</td>\n",
              "      <td>239.90</td>\n",
              "      <td>19.93</td>\n",
              "      <td>1.0</td>\n",
              "      <td>credit_card</td>\n",
              "      <td>3.0</td>\n",
              "      <td>259.83</td>\n",
              "    </tr>\n",
              "    <tr>\n",
              "      <th>2</th>\n",
              "      <td>000229ec398224ef6ca0657da4fc703e</td>\n",
              "      <td>1.0</td>\n",
              "      <td>c777355d18b72b67abbeef9df44fd0fd</td>\n",
              "      <td>5b51032eddd242adc84c38acab88f23d</td>\n",
              "      <td>2018-01-18 14:48:30</td>\n",
              "      <td>199.00</td>\n",
              "      <td>17.87</td>\n",
              "      <td>1.0</td>\n",
              "      <td>credit_card</td>\n",
              "      <td>5.0</td>\n",
              "      <td>216.87</td>\n",
              "    </tr>\n",
              "    <tr>\n",
              "      <th>3</th>\n",
              "      <td>00024acbcdf0a6daa1e931b038114c75</td>\n",
              "      <td>1.0</td>\n",
              "      <td>7634da152a4610f1595efa32f14722fc</td>\n",
              "      <td>9d7a1d34a5052409006425275ba1c2b4</td>\n",
              "      <td>2018-08-15 10:10:18</td>\n",
              "      <td>12.99</td>\n",
              "      <td>12.79</td>\n",
              "      <td>1.0</td>\n",
              "      <td>credit_card</td>\n",
              "      <td>2.0</td>\n",
              "      <td>25.78</td>\n",
              "    </tr>\n",
              "    <tr>\n",
              "      <th>4</th>\n",
              "      <td>00042b26cf59d7ce69dfabb4e55b4fd9</td>\n",
              "      <td>1.0</td>\n",
              "      <td>ac6c3623068f30de03045865e4e10089</td>\n",
              "      <td>df560393f3a51e74553ab94004ba5c87</td>\n",
              "      <td>2017-02-13 13:57:51</td>\n",
              "      <td>199.90</td>\n",
              "      <td>18.14</td>\n",
              "      <td>1.0</td>\n",
              "      <td>credit_card</td>\n",
              "      <td>3.0</td>\n",
              "      <td>218.04</td>\n",
              "    </tr>\n",
              "  </tbody>\n",
              "</table>\n",
              "</div>"
            ],
            "text/plain": [
              "                           order_id  order_item_id  \\\n",
              "0  00010242fe8c5a6d1ba2dd792cb16214            1.0   \n",
              "1  00018f77f2f0320c557190d7a144bdd3            1.0   \n",
              "2  000229ec398224ef6ca0657da4fc703e            1.0   \n",
              "3  00024acbcdf0a6daa1e931b038114c75            1.0   \n",
              "4  00042b26cf59d7ce69dfabb4e55b4fd9            1.0   \n",
              "\n",
              "                         product_id                         seller_id  \\\n",
              "0  4244733e06e7ecb4970a6e2683c13e61  48436dade18ac8b2bce089ec2a041202   \n",
              "1  e5f2d52b802189ee658865ca93d83a8f  dd7ddc04e1b6c2c614352b383efe2d36   \n",
              "2  c777355d18b72b67abbeef9df44fd0fd  5b51032eddd242adc84c38acab88f23d   \n",
              "3  7634da152a4610f1595efa32f14722fc  9d7a1d34a5052409006425275ba1c2b4   \n",
              "4  ac6c3623068f30de03045865e4e10089  df560393f3a51e74553ab94004ba5c87   \n",
              "\n",
              "  shipping_limit_date   price  freight_value  payment_sequential payment_type  \\\n",
              "0 2017-09-19 09:45:35   58.90          13.29                 1.0  credit_card   \n",
              "1 2017-05-03 11:05:13  239.90          19.93                 1.0  credit_card   \n",
              "2 2018-01-18 14:48:30  199.00          17.87                 1.0  credit_card   \n",
              "3 2018-08-15 10:10:18   12.99          12.79                 1.0  credit_card   \n",
              "4 2017-02-13 13:57:51  199.90          18.14                 1.0  credit_card   \n",
              "\n",
              "   payment_installments  payment_value  \n",
              "0                   2.0          72.19  \n",
              "1                   3.0         259.83  \n",
              "2                   5.0         216.87  \n",
              "3                   2.0          25.78  \n",
              "4                   3.0         218.04  "
            ]
          },
          "execution_count": 152,
          "metadata": {},
          "output_type": "execute_result"
        }
      ],
      "source": [
        "orders2 = pd.merge(\n",
        "    left=orderitems,\n",
        "    right=orderpayment,\n",
        "    how='outer',\n",
        "    left_on='order_id',\n",
        "    right_on='order_id'\n",
        ")\n",
        "orders2.head()"
      ]
    },
    {
      "cell_type": "markdown",
      "metadata": {
        "id": "jEIjs5V1QtfW"
      },
      "source": [
        "order2 & product2"
      ]
    },
    {
      "cell_type": "code",
      "execution_count": 153,
      "metadata": {
        "colab": {
          "base_uri": "https://localhost:8080/",
          "height": 226
        },
        "id": "k433MtrDQ0pg",
        "outputId": "72c19203-65d2-4813-bf64-d0137a1069da"
      },
      "outputs": [
        {
          "data": {
            "text/html": [
              "<div>\n",
              "<style scoped>\n",
              "    .dataframe tbody tr th:only-of-type {\n",
              "        vertical-align: middle;\n",
              "    }\n",
              "\n",
              "    .dataframe tbody tr th {\n",
              "        vertical-align: top;\n",
              "    }\n",
              "\n",
              "    .dataframe thead th {\n",
              "        text-align: right;\n",
              "    }\n",
              "</style>\n",
              "<table border=\"1\" class=\"dataframe\">\n",
              "  <thead>\n",
              "    <tr style=\"text-align: right;\">\n",
              "      <th></th>\n",
              "      <th>order_id</th>\n",
              "      <th>order_item_id</th>\n",
              "      <th>product_id</th>\n",
              "      <th>seller_id</th>\n",
              "      <th>shipping_limit_date</th>\n",
              "      <th>price</th>\n",
              "      <th>freight_value</th>\n",
              "      <th>payment_sequential</th>\n",
              "      <th>payment_type</th>\n",
              "      <th>payment_installments</th>\n",
              "      <th>payment_value</th>\n",
              "      <th>product_category_name</th>\n",
              "      <th>product_name_length</th>\n",
              "      <th>product_description_length</th>\n",
              "      <th>product_photos_qty</th>\n",
              "      <th>product_weight_g</th>\n",
              "      <th>product_length_cm</th>\n",
              "      <th>product_height_cm</th>\n",
              "      <th>product_width_cm</th>\n",
              "      <th>product_category_name_english</th>\n",
              "    </tr>\n",
              "  </thead>\n",
              "  <tbody>\n",
              "    <tr>\n",
              "      <th>0</th>\n",
              "      <td>00010242fe8c5a6d1ba2dd792cb16214</td>\n",
              "      <td>1.0</td>\n",
              "      <td>4244733e06e7ecb4970a6e2683c13e61</td>\n",
              "      <td>48436dade18ac8b2bce089ec2a041202</td>\n",
              "      <td>2017-09-19 09:45:35</td>\n",
              "      <td>58.9</td>\n",
              "      <td>13.29</td>\n",
              "      <td>1.0</td>\n",
              "      <td>credit_card</td>\n",
              "      <td>2.0</td>\n",
              "      <td>72.19</td>\n",
              "      <td>cool_stuff</td>\n",
              "      <td>58.0</td>\n",
              "      <td>598.0</td>\n",
              "      <td>4.0</td>\n",
              "      <td>650.0</td>\n",
              "      <td>28.0</td>\n",
              "      <td>9.0</td>\n",
              "      <td>14.0</td>\n",
              "      <td>cool_stuff</td>\n",
              "    </tr>\n",
              "    <tr>\n",
              "      <th>1</th>\n",
              "      <td>130898c0987d1801452a8ed92a670612</td>\n",
              "      <td>1.0</td>\n",
              "      <td>4244733e06e7ecb4970a6e2683c13e61</td>\n",
              "      <td>48436dade18ac8b2bce089ec2a041202</td>\n",
              "      <td>2017-07-05 02:44:11</td>\n",
              "      <td>55.9</td>\n",
              "      <td>17.96</td>\n",
              "      <td>1.0</td>\n",
              "      <td>boleto</td>\n",
              "      <td>1.0</td>\n",
              "      <td>73.86</td>\n",
              "      <td>cool_stuff</td>\n",
              "      <td>58.0</td>\n",
              "      <td>598.0</td>\n",
              "      <td>4.0</td>\n",
              "      <td>650.0</td>\n",
              "      <td>28.0</td>\n",
              "      <td>9.0</td>\n",
              "      <td>14.0</td>\n",
              "      <td>cool_stuff</td>\n",
              "    </tr>\n",
              "    <tr>\n",
              "      <th>2</th>\n",
              "      <td>532ed5e14e24ae1f0d735b91524b98b9</td>\n",
              "      <td>1.0</td>\n",
              "      <td>4244733e06e7ecb4970a6e2683c13e61</td>\n",
              "      <td>48436dade18ac8b2bce089ec2a041202</td>\n",
              "      <td>2018-05-23 10:56:25</td>\n",
              "      <td>64.9</td>\n",
              "      <td>18.33</td>\n",
              "      <td>1.0</td>\n",
              "      <td>credit_card</td>\n",
              "      <td>2.0</td>\n",
              "      <td>83.23</td>\n",
              "      <td>cool_stuff</td>\n",
              "      <td>58.0</td>\n",
              "      <td>598.0</td>\n",
              "      <td>4.0</td>\n",
              "      <td>650.0</td>\n",
              "      <td>28.0</td>\n",
              "      <td>9.0</td>\n",
              "      <td>14.0</td>\n",
              "      <td>cool_stuff</td>\n",
              "    </tr>\n",
              "    <tr>\n",
              "      <th>3</th>\n",
              "      <td>6f8c31653edb8c83e1a739408b5ff750</td>\n",
              "      <td>1.0</td>\n",
              "      <td>4244733e06e7ecb4970a6e2683c13e61</td>\n",
              "      <td>48436dade18ac8b2bce089ec2a041202</td>\n",
              "      <td>2017-08-07 18:55:08</td>\n",
              "      <td>58.9</td>\n",
              "      <td>16.17</td>\n",
              "      <td>1.0</td>\n",
              "      <td>credit_card</td>\n",
              "      <td>3.0</td>\n",
              "      <td>75.07</td>\n",
              "      <td>cool_stuff</td>\n",
              "      <td>58.0</td>\n",
              "      <td>598.0</td>\n",
              "      <td>4.0</td>\n",
              "      <td>650.0</td>\n",
              "      <td>28.0</td>\n",
              "      <td>9.0</td>\n",
              "      <td>14.0</td>\n",
              "      <td>cool_stuff</td>\n",
              "    </tr>\n",
              "    <tr>\n",
              "      <th>4</th>\n",
              "      <td>7d19f4ef4d04461989632411b7e588b9</td>\n",
              "      <td>1.0</td>\n",
              "      <td>4244733e06e7ecb4970a6e2683c13e61</td>\n",
              "      <td>48436dade18ac8b2bce089ec2a041202</td>\n",
              "      <td>2017-08-16 22:05:11</td>\n",
              "      <td>58.9</td>\n",
              "      <td>13.29</td>\n",
              "      <td>1.0</td>\n",
              "      <td>credit_card</td>\n",
              "      <td>4.0</td>\n",
              "      <td>72.19</td>\n",
              "      <td>cool_stuff</td>\n",
              "      <td>58.0</td>\n",
              "      <td>598.0</td>\n",
              "      <td>4.0</td>\n",
              "      <td>650.0</td>\n",
              "      <td>28.0</td>\n",
              "      <td>9.0</td>\n",
              "      <td>14.0</td>\n",
              "      <td>cool_stuff</td>\n",
              "    </tr>\n",
              "  </tbody>\n",
              "</table>\n",
              "</div>"
            ],
            "text/plain": [
              "                           order_id  order_item_id  \\\n",
              "0  00010242fe8c5a6d1ba2dd792cb16214            1.0   \n",
              "1  130898c0987d1801452a8ed92a670612            1.0   \n",
              "2  532ed5e14e24ae1f0d735b91524b98b9            1.0   \n",
              "3  6f8c31653edb8c83e1a739408b5ff750            1.0   \n",
              "4  7d19f4ef4d04461989632411b7e588b9            1.0   \n",
              "\n",
              "                         product_id                         seller_id  \\\n",
              "0  4244733e06e7ecb4970a6e2683c13e61  48436dade18ac8b2bce089ec2a041202   \n",
              "1  4244733e06e7ecb4970a6e2683c13e61  48436dade18ac8b2bce089ec2a041202   \n",
              "2  4244733e06e7ecb4970a6e2683c13e61  48436dade18ac8b2bce089ec2a041202   \n",
              "3  4244733e06e7ecb4970a6e2683c13e61  48436dade18ac8b2bce089ec2a041202   \n",
              "4  4244733e06e7ecb4970a6e2683c13e61  48436dade18ac8b2bce089ec2a041202   \n",
              "\n",
              "  shipping_limit_date  price  freight_value  payment_sequential payment_type  \\\n",
              "0 2017-09-19 09:45:35   58.9          13.29                 1.0  credit_card   \n",
              "1 2017-07-05 02:44:11   55.9          17.96                 1.0       boleto   \n",
              "2 2018-05-23 10:56:25   64.9          18.33                 1.0  credit_card   \n",
              "3 2017-08-07 18:55:08   58.9          16.17                 1.0  credit_card   \n",
              "4 2017-08-16 22:05:11   58.9          13.29                 1.0  credit_card   \n",
              "\n",
              "   payment_installments  payment_value product_category_name  \\\n",
              "0                   2.0          72.19            cool_stuff   \n",
              "1                   1.0          73.86            cool_stuff   \n",
              "2                   2.0          83.23            cool_stuff   \n",
              "3                   3.0          75.07            cool_stuff   \n",
              "4                   4.0          72.19            cool_stuff   \n",
              "\n",
              "   product_name_length  product_description_length  product_photos_qty  \\\n",
              "0                 58.0                       598.0                 4.0   \n",
              "1                 58.0                       598.0                 4.0   \n",
              "2                 58.0                       598.0                 4.0   \n",
              "3                 58.0                       598.0                 4.0   \n",
              "4                 58.0                       598.0                 4.0   \n",
              "\n",
              "   product_weight_g  product_length_cm  product_height_cm  product_width_cm  \\\n",
              "0             650.0               28.0                9.0              14.0   \n",
              "1             650.0               28.0                9.0              14.0   \n",
              "2             650.0               28.0                9.0              14.0   \n",
              "3             650.0               28.0                9.0              14.0   \n",
              "4             650.0               28.0                9.0              14.0   \n",
              "\n",
              "  product_category_name_english  \n",
              "0                    cool_stuff  \n",
              "1                    cool_stuff  \n",
              "2                    cool_stuff  \n",
              "3                    cool_stuff  \n",
              "4                    cool_stuff  "
            ]
          },
          "execution_count": 153,
          "metadata": {},
          "output_type": "execute_result"
        }
      ],
      "source": [
        "group = pd.merge(\n",
        "    left=orders2,\n",
        "    right=product2,\n",
        "    how='outer',\n",
        "    left_on='product_id',\n",
        "    right_on='product_id'\n",
        ")\n",
        "group.head()"
      ]
    },
    {
      "cell_type": "code",
      "execution_count": 154,
      "metadata": {
        "colab": {
          "base_uri": "https://localhost:8080/"
        },
        "id": "BtrHh0W0R4J9",
        "outputId": "fc582fe2-02c7-4490-c505-b76125aaad2f"
      },
      "outputs": [
        {
          "name": "stdout",
          "output_type": "stream",
          "text": [
            "<class 'pandas.core.frame.DataFrame'>\n",
            "RangeIndex: 104957 entries, 0 to 104956\n",
            "Data columns (total 20 columns):\n",
            " #   Column                         Non-Null Count   Dtype         \n",
            "---  ------                         --------------   -----         \n",
            " 0   order_id                       103887 non-null  object        \n",
            " 1   order_item_id                  103057 non-null  float64       \n",
            " 2   product_id                     104127 non-null  object        \n",
            " 3   seller_id                      103057 non-null  object        \n",
            " 4   shipping_limit_date            103057 non-null  datetime64[ns]\n",
            " 5   price                          103057 non-null  float64       \n",
            " 6   freight_value                  103057 non-null  float64       \n",
            " 7   payment_sequential             103886 non-null  float64       \n",
            " 8   payment_type                   103886 non-null  object        \n",
            " 9   payment_installments           103886 non-null  float64       \n",
            " 10  payment_value                  103886 non-null  float64       \n",
            " 11  product_category_name          104127 non-null  object        \n",
            " 12  product_name_length            104127 non-null  float64       \n",
            " 13  product_description_length     104127 non-null  float64       \n",
            " 14  product_photos_qty             104127 non-null  float64       \n",
            " 15  product_weight_g               104127 non-null  float64       \n",
            " 16  product_length_cm              104127 non-null  float64       \n",
            " 17  product_height_cm              104127 non-null  float64       \n",
            " 18  product_width_cm               104127 non-null  float64       \n",
            " 19  product_category_name_english  104105 non-null  object        \n",
            "dtypes: datetime64[ns](1), float64(13), object(6)\n",
            "memory usage: 16.0+ MB\n"
          ]
        }
      ],
      "source": [
        "group.info()"
      ]
    },
    {
      "cell_type": "markdown",
      "metadata": {
        "id": "tGTKIu0YQ90h"
      },
      "source": [
        "orderdatase & customers"
      ]
    },
    {
      "cell_type": "code",
      "execution_count": 155,
      "metadata": {
        "colab": {
          "base_uri": "https://localhost:8080/",
          "height": 243
        },
        "id": "DFRKoCxiRAiV",
        "outputId": "b74a386b-fe5d-4041-c4b6-135d31f59cf6"
      },
      "outputs": [
        {
          "data": {
            "text/html": [
              "<div>\n",
              "<style scoped>\n",
              "    .dataframe tbody tr th:only-of-type {\n",
              "        vertical-align: middle;\n",
              "    }\n",
              "\n",
              "    .dataframe tbody tr th {\n",
              "        vertical-align: top;\n",
              "    }\n",
              "\n",
              "    .dataframe thead th {\n",
              "        text-align: right;\n",
              "    }\n",
              "</style>\n",
              "<table border=\"1\" class=\"dataframe\">\n",
              "  <thead>\n",
              "    <tr style=\"text-align: right;\">\n",
              "      <th></th>\n",
              "      <th>order_id</th>\n",
              "      <th>customer_id</th>\n",
              "      <th>order_status</th>\n",
              "      <th>order_purchase_timestamp</th>\n",
              "      <th>order_approved_at</th>\n",
              "      <th>order_delivered_carrier_date</th>\n",
              "      <th>order_delivered_customer_date</th>\n",
              "      <th>order_estimated_delivery_date</th>\n",
              "      <th>customer_unique_id</th>\n",
              "      <th>customer_zip_code_prefix</th>\n",
              "      <th>customer_city</th>\n",
              "      <th>customer_state</th>\n",
              "    </tr>\n",
              "  </thead>\n",
              "  <tbody>\n",
              "    <tr>\n",
              "      <th>0</th>\n",
              "      <td>e481f51cbdc54678b7cc49136f2d6af7</td>\n",
              "      <td>9ef432eb6251297304e76186b10a928d</td>\n",
              "      <td>delivered</td>\n",
              "      <td>2017-10-02 10:56:33</td>\n",
              "      <td>2017-10-02 11:07:15</td>\n",
              "      <td>2017-10-04 19:55:00</td>\n",
              "      <td>2017-10-10 21:25:13</td>\n",
              "      <td>2017-10-18</td>\n",
              "      <td>7c396fd4830fd04220f754e42b4e5bff</td>\n",
              "      <td>3149</td>\n",
              "      <td>sao paulo</td>\n",
              "      <td>SP</td>\n",
              "    </tr>\n",
              "    <tr>\n",
              "      <th>1</th>\n",
              "      <td>53cdb2fc8bc7dce0b6741e2150273451</td>\n",
              "      <td>b0830fb4747a6c6d20dea0b8c802d7ef</td>\n",
              "      <td>delivered</td>\n",
              "      <td>2018-07-24 20:41:37</td>\n",
              "      <td>2018-07-26 03:24:27</td>\n",
              "      <td>2018-07-26 14:31:00</td>\n",
              "      <td>2018-08-07 15:27:45</td>\n",
              "      <td>2018-08-13</td>\n",
              "      <td>af07308b275d755c9edb36a90c618231</td>\n",
              "      <td>47813</td>\n",
              "      <td>barreiras</td>\n",
              "      <td>BA</td>\n",
              "    </tr>\n",
              "    <tr>\n",
              "      <th>2</th>\n",
              "      <td>47770eb9100c2d0c44946d9cf07ec65d</td>\n",
              "      <td>41ce2a54c0b03bf3443c3d931a367089</td>\n",
              "      <td>delivered</td>\n",
              "      <td>2018-08-08 08:38:49</td>\n",
              "      <td>2018-08-08 08:55:23</td>\n",
              "      <td>2018-08-08 13:50:00</td>\n",
              "      <td>2018-08-17 18:06:29</td>\n",
              "      <td>2018-09-04</td>\n",
              "      <td>3a653a41f6f9fc3d2a113cf8398680e8</td>\n",
              "      <td>75265</td>\n",
              "      <td>vianopolis</td>\n",
              "      <td>GO</td>\n",
              "    </tr>\n",
              "    <tr>\n",
              "      <th>3</th>\n",
              "      <td>949d5b44dbf5de918fe9c16f97b45f8a</td>\n",
              "      <td>f88197465ea7920adcdbec7375364d82</td>\n",
              "      <td>delivered</td>\n",
              "      <td>2017-11-18 19:28:06</td>\n",
              "      <td>2017-11-18 19:45:59</td>\n",
              "      <td>2017-11-22 13:39:59</td>\n",
              "      <td>2017-12-02 00:28:42</td>\n",
              "      <td>2017-12-15</td>\n",
              "      <td>7c142cf63193a1473d2e66489a9ae977</td>\n",
              "      <td>59296</td>\n",
              "      <td>sao goncalo do amarante</td>\n",
              "      <td>RN</td>\n",
              "    </tr>\n",
              "    <tr>\n",
              "      <th>4</th>\n",
              "      <td>ad21c59c0840e6cb83a9ceb5573f8159</td>\n",
              "      <td>8ab97904e6daea8866dbdbc4fb7aad2c</td>\n",
              "      <td>delivered</td>\n",
              "      <td>2018-02-13 21:18:39</td>\n",
              "      <td>2018-02-13 22:20:29</td>\n",
              "      <td>2018-02-14 19:46:34</td>\n",
              "      <td>2018-02-16 18:17:02</td>\n",
              "      <td>2018-02-26</td>\n",
              "      <td>72632f0f9dd73dfee390c9b22eb56dd6</td>\n",
              "      <td>9195</td>\n",
              "      <td>santo andre</td>\n",
              "      <td>SP</td>\n",
              "    </tr>\n",
              "  </tbody>\n",
              "</table>\n",
              "</div>"
            ],
            "text/plain": [
              "                           order_id                       customer_id  \\\n",
              "0  e481f51cbdc54678b7cc49136f2d6af7  9ef432eb6251297304e76186b10a928d   \n",
              "1  53cdb2fc8bc7dce0b6741e2150273451  b0830fb4747a6c6d20dea0b8c802d7ef   \n",
              "2  47770eb9100c2d0c44946d9cf07ec65d  41ce2a54c0b03bf3443c3d931a367089   \n",
              "3  949d5b44dbf5de918fe9c16f97b45f8a  f88197465ea7920adcdbec7375364d82   \n",
              "4  ad21c59c0840e6cb83a9ceb5573f8159  8ab97904e6daea8866dbdbc4fb7aad2c   \n",
              "\n",
              "  order_status order_purchase_timestamp   order_approved_at  \\\n",
              "0    delivered      2017-10-02 10:56:33 2017-10-02 11:07:15   \n",
              "1    delivered      2018-07-24 20:41:37 2018-07-26 03:24:27   \n",
              "2    delivered      2018-08-08 08:38:49 2018-08-08 08:55:23   \n",
              "3    delivered      2017-11-18 19:28:06 2017-11-18 19:45:59   \n",
              "4    delivered      2018-02-13 21:18:39 2018-02-13 22:20:29   \n",
              "\n",
              "  order_delivered_carrier_date order_delivered_customer_date  \\\n",
              "0          2017-10-04 19:55:00           2017-10-10 21:25:13   \n",
              "1          2018-07-26 14:31:00           2018-08-07 15:27:45   \n",
              "2          2018-08-08 13:50:00           2018-08-17 18:06:29   \n",
              "3          2017-11-22 13:39:59           2017-12-02 00:28:42   \n",
              "4          2018-02-14 19:46:34           2018-02-16 18:17:02   \n",
              "\n",
              "  order_estimated_delivery_date                customer_unique_id  \\\n",
              "0                    2017-10-18  7c396fd4830fd04220f754e42b4e5bff   \n",
              "1                    2018-08-13  af07308b275d755c9edb36a90c618231   \n",
              "2                    2018-09-04  3a653a41f6f9fc3d2a113cf8398680e8   \n",
              "3                    2017-12-15  7c142cf63193a1473d2e66489a9ae977   \n",
              "4                    2018-02-26  72632f0f9dd73dfee390c9b22eb56dd6   \n",
              "\n",
              "   customer_zip_code_prefix            customer_city customer_state  \n",
              "0                      3149                sao paulo             SP  \n",
              "1                     47813                barreiras             BA  \n",
              "2                     75265               vianopolis             GO  \n",
              "3                     59296  sao goncalo do amarante             RN  \n",
              "4                      9195              santo andre             SP  "
            ]
          },
          "execution_count": 155,
          "metadata": {},
          "output_type": "execute_result"
        }
      ],
      "source": [
        "orderscustomer = pd.merge(\n",
        "    left=orderdataset,\n",
        "    right=customers,\n",
        "    how='outer',\n",
        "    left_on='customer_id',\n",
        "    right_on='customer_id'\n",
        ")\n",
        "orderscustomer.head()"
      ]
    },
    {
      "cell_type": "code",
      "execution_count": 156,
      "metadata": {
        "colab": {
          "base_uri": "https://localhost:8080/",
          "height": 226
        },
        "id": "ePN4t8BOynlz",
        "outputId": "d44395e8-a6d9-421d-a125-0afc1cf71a94"
      },
      "outputs": [
        {
          "data": {
            "text/html": [
              "<div>\n",
              "<style scoped>\n",
              "    .dataframe tbody tr th:only-of-type {\n",
              "        vertical-align: middle;\n",
              "    }\n",
              "\n",
              "    .dataframe tbody tr th {\n",
              "        vertical-align: top;\n",
              "    }\n",
              "\n",
              "    .dataframe thead th {\n",
              "        text-align: right;\n",
              "    }\n",
              "</style>\n",
              "<table border=\"1\" class=\"dataframe\">\n",
              "  <thead>\n",
              "    <tr style=\"text-align: right;\">\n",
              "      <th></th>\n",
              "      <th>order_id</th>\n",
              "      <th>order_item_id</th>\n",
              "      <th>product_id</th>\n",
              "      <th>seller_id</th>\n",
              "      <th>shipping_limit_date</th>\n",
              "      <th>price</th>\n",
              "      <th>freight_value</th>\n",
              "      <th>product_category_name</th>\n",
              "      <th>product_name_length</th>\n",
              "      <th>product_description_length</th>\n",
              "      <th>product_photos_qty</th>\n",
              "      <th>product_weight_g</th>\n",
              "      <th>product_length_cm</th>\n",
              "      <th>product_height_cm</th>\n",
              "      <th>product_width_cm</th>\n",
              "      <th>product_category_name_english</th>\n",
              "    </tr>\n",
              "  </thead>\n",
              "  <tbody>\n",
              "    <tr>\n",
              "      <th>0</th>\n",
              "      <td>00010242fe8c5a6d1ba2dd792cb16214</td>\n",
              "      <td>1</td>\n",
              "      <td>4244733e06e7ecb4970a6e2683c13e61</td>\n",
              "      <td>48436dade18ac8b2bce089ec2a041202</td>\n",
              "      <td>2017-09-19 09:45:35</td>\n",
              "      <td>58.90</td>\n",
              "      <td>13.29</td>\n",
              "      <td>cool_stuff</td>\n",
              "      <td>58.0</td>\n",
              "      <td>598.0</td>\n",
              "      <td>4.0</td>\n",
              "      <td>650.0</td>\n",
              "      <td>28.0</td>\n",
              "      <td>9.0</td>\n",
              "      <td>14.0</td>\n",
              "      <td>cool_stuff</td>\n",
              "    </tr>\n",
              "    <tr>\n",
              "      <th>1</th>\n",
              "      <td>00018f77f2f0320c557190d7a144bdd3</td>\n",
              "      <td>1</td>\n",
              "      <td>e5f2d52b802189ee658865ca93d83a8f</td>\n",
              "      <td>dd7ddc04e1b6c2c614352b383efe2d36</td>\n",
              "      <td>2017-05-03 11:05:13</td>\n",
              "      <td>239.90</td>\n",
              "      <td>19.93</td>\n",
              "      <td>pet_shop</td>\n",
              "      <td>56.0</td>\n",
              "      <td>239.0</td>\n",
              "      <td>2.0</td>\n",
              "      <td>30000.0</td>\n",
              "      <td>50.0</td>\n",
              "      <td>30.0</td>\n",
              "      <td>40.0</td>\n",
              "      <td>pet_shop</td>\n",
              "    </tr>\n",
              "    <tr>\n",
              "      <th>2</th>\n",
              "      <td>000229ec398224ef6ca0657da4fc703e</td>\n",
              "      <td>1</td>\n",
              "      <td>c777355d18b72b67abbeef9df44fd0fd</td>\n",
              "      <td>5b51032eddd242adc84c38acab88f23d</td>\n",
              "      <td>2018-01-18 14:48:30</td>\n",
              "      <td>199.00</td>\n",
              "      <td>17.87</td>\n",
              "      <td>moveis_decoracao</td>\n",
              "      <td>59.0</td>\n",
              "      <td>695.0</td>\n",
              "      <td>2.0</td>\n",
              "      <td>3050.0</td>\n",
              "      <td>33.0</td>\n",
              "      <td>13.0</td>\n",
              "      <td>33.0</td>\n",
              "      <td>furniture_decor</td>\n",
              "    </tr>\n",
              "    <tr>\n",
              "      <th>3</th>\n",
              "      <td>00024acbcdf0a6daa1e931b038114c75</td>\n",
              "      <td>1</td>\n",
              "      <td>7634da152a4610f1595efa32f14722fc</td>\n",
              "      <td>9d7a1d34a5052409006425275ba1c2b4</td>\n",
              "      <td>2018-08-15 10:10:18</td>\n",
              "      <td>12.99</td>\n",
              "      <td>12.79</td>\n",
              "      <td>perfumaria</td>\n",
              "      <td>42.0</td>\n",
              "      <td>480.0</td>\n",
              "      <td>1.0</td>\n",
              "      <td>200.0</td>\n",
              "      <td>16.0</td>\n",
              "      <td>10.0</td>\n",
              "      <td>15.0</td>\n",
              "      <td>perfumery</td>\n",
              "    </tr>\n",
              "    <tr>\n",
              "      <th>4</th>\n",
              "      <td>00042b26cf59d7ce69dfabb4e55b4fd9</td>\n",
              "      <td>1</td>\n",
              "      <td>ac6c3623068f30de03045865e4e10089</td>\n",
              "      <td>df560393f3a51e74553ab94004ba5c87</td>\n",
              "      <td>2017-02-13 13:57:51</td>\n",
              "      <td>199.90</td>\n",
              "      <td>18.14</td>\n",
              "      <td>ferramentas_jardim</td>\n",
              "      <td>59.0</td>\n",
              "      <td>409.0</td>\n",
              "      <td>1.0</td>\n",
              "      <td>3750.0</td>\n",
              "      <td>35.0</td>\n",
              "      <td>40.0</td>\n",
              "      <td>30.0</td>\n",
              "      <td>garden_tools</td>\n",
              "    </tr>\n",
              "  </tbody>\n",
              "</table>\n",
              "</div>"
            ],
            "text/plain": [
              "                           order_id  order_item_id  \\\n",
              "0  00010242fe8c5a6d1ba2dd792cb16214              1   \n",
              "1  00018f77f2f0320c557190d7a144bdd3              1   \n",
              "2  000229ec398224ef6ca0657da4fc703e              1   \n",
              "3  00024acbcdf0a6daa1e931b038114c75              1   \n",
              "4  00042b26cf59d7ce69dfabb4e55b4fd9              1   \n",
              "\n",
              "                         product_id                         seller_id  \\\n",
              "0  4244733e06e7ecb4970a6e2683c13e61  48436dade18ac8b2bce089ec2a041202   \n",
              "1  e5f2d52b802189ee658865ca93d83a8f  dd7ddc04e1b6c2c614352b383efe2d36   \n",
              "2  c777355d18b72b67abbeef9df44fd0fd  5b51032eddd242adc84c38acab88f23d   \n",
              "3  7634da152a4610f1595efa32f14722fc  9d7a1d34a5052409006425275ba1c2b4   \n",
              "4  ac6c3623068f30de03045865e4e10089  df560393f3a51e74553ab94004ba5c87   \n",
              "\n",
              "  shipping_limit_date   price  freight_value product_category_name  \\\n",
              "0 2017-09-19 09:45:35   58.90          13.29            cool_stuff   \n",
              "1 2017-05-03 11:05:13  239.90          19.93              pet_shop   \n",
              "2 2018-01-18 14:48:30  199.00          17.87      moveis_decoracao   \n",
              "3 2018-08-15 10:10:18   12.99          12.79            perfumaria   \n",
              "4 2017-02-13 13:57:51  199.90          18.14    ferramentas_jardim   \n",
              "\n",
              "   product_name_length  product_description_length  product_photos_qty  \\\n",
              "0                 58.0                       598.0                 4.0   \n",
              "1                 56.0                       239.0                 2.0   \n",
              "2                 59.0                       695.0                 2.0   \n",
              "3                 42.0                       480.0                 1.0   \n",
              "4                 59.0                       409.0                 1.0   \n",
              "\n",
              "   product_weight_g  product_length_cm  product_height_cm  product_width_cm  \\\n",
              "0             650.0               28.0                9.0              14.0   \n",
              "1           30000.0               50.0               30.0              40.0   \n",
              "2            3050.0               33.0               13.0              33.0   \n",
              "3             200.0               16.0               10.0              15.0   \n",
              "4            3750.0               35.0               40.0              30.0   \n",
              "\n",
              "  product_category_name_english  \n",
              "0                    cool_stuff  \n",
              "1                      pet_shop  \n",
              "2               furniture_decor  \n",
              "3                     perfumery  \n",
              "4                  garden_tools  "
            ]
          },
          "execution_count": 156,
          "metadata": {},
          "output_type": "execute_result"
        }
      ],
      "source": [
        "order_items_products_df = pd.merge(\n",
        "    left=orderitems,\n",
        "    right=product2,\n",
        "    how=\"left\",\n",
        "    left_on=\"product_id\",\n",
        "    right_on=\"product_id\"\n",
        ")\n",
        "order_items_products_df.head()"
      ]
    },
    {
      "cell_type": "code",
      "execution_count": 157,
      "metadata": {
        "colab": {
          "base_uri": "https://localhost:8080/",
          "height": 226
        },
        "id": "Zu9mofm3y2lH",
        "outputId": "549c4fe8-97a4-4474-97ea-0c15d5303e2e"
      },
      "outputs": [
        {
          "data": {
            "text/html": [
              "<div>\n",
              "<style scoped>\n",
              "    .dataframe tbody tr th:only-of-type {\n",
              "        vertical-align: middle;\n",
              "    }\n",
              "\n",
              "    .dataframe tbody tr th {\n",
              "        vertical-align: top;\n",
              "    }\n",
              "\n",
              "    .dataframe thead th {\n",
              "        text-align: right;\n",
              "    }\n",
              "</style>\n",
              "<table border=\"1\" class=\"dataframe\">\n",
              "  <thead>\n",
              "    <tr style=\"text-align: right;\">\n",
              "      <th></th>\n",
              "      <th>order_id</th>\n",
              "      <th>order_item_id</th>\n",
              "      <th>product_id</th>\n",
              "      <th>seller_id</th>\n",
              "      <th>shipping_limit_date</th>\n",
              "      <th>price</th>\n",
              "      <th>freight_value</th>\n",
              "      <th>product_category_name</th>\n",
              "      <th>product_name_length</th>\n",
              "      <th>product_description_length</th>\n",
              "      <th>product_photos_qty</th>\n",
              "      <th>product_weight_g</th>\n",
              "      <th>product_length_cm</th>\n",
              "      <th>product_height_cm</th>\n",
              "      <th>product_width_cm</th>\n",
              "      <th>product_category_name_english</th>\n",
              "      <th>order_item_value</th>\n",
              "    </tr>\n",
              "  </thead>\n",
              "  <tbody>\n",
              "    <tr>\n",
              "      <th>46464</th>\n",
              "      <td>78c9dae3539db375cbc0786555c5f570</td>\n",
              "      <td>1</td>\n",
              "      <td>e0cf79767c5b016251fe139915c59a26</td>\n",
              "      <td>da8622b14eb17ae2831f4ac5b9dab84a</td>\n",
              "      <td>2018-05-29 01:31:25</td>\n",
              "      <td>29.90</td>\n",
              "      <td>10.76</td>\n",
              "      <td>beleza_saude</td>\n",
              "      <td>55.0</td>\n",
              "      <td>388.0</td>\n",
              "      <td>1.0</td>\n",
              "      <td>250.0</td>\n",
              "      <td>16.0</td>\n",
              "      <td>5.0</td>\n",
              "      <td>15.0</td>\n",
              "      <td>health_beauty</td>\n",
              "      <td>40.66</td>\n",
              "    </tr>\n",
              "    <tr>\n",
              "      <th>31929</th>\n",
              "      <td>52cb9b4d5ee3ce7d1e2a8d9c2376fd44</td>\n",
              "      <td>1</td>\n",
              "      <td>19c91ef95d509ea33eda93495c4d3481</td>\n",
              "      <td>06a2c3af7b3aee5d69171b0e14f0ee87</td>\n",
              "      <td>2018-07-20 03:04:07</td>\n",
              "      <td>122.99</td>\n",
              "      <td>21.13</td>\n",
              "      <td>beleza_saude</td>\n",
              "      <td>50.0</td>\n",
              "      <td>1257.0</td>\n",
              "      <td>1.0</td>\n",
              "      <td>700.0</td>\n",
              "      <td>25.0</td>\n",
              "      <td>12.0</td>\n",
              "      <td>19.0</td>\n",
              "      <td>health_beauty</td>\n",
              "      <td>144.12</td>\n",
              "    </tr>\n",
              "    <tr>\n",
              "      <th>67781</th>\n",
              "      <td>b06373098fedad1545401c91bf3af711</td>\n",
              "      <td>1</td>\n",
              "      <td>0cf41187284d7f099adc8415a743ebbd</td>\n",
              "      <td>bbad7e518d7af88a0897397ffdca1979</td>\n",
              "      <td>2018-05-07 13:31:22</td>\n",
              "      <td>35.90</td>\n",
              "      <td>8.88</td>\n",
              "      <td>bebes</td>\n",
              "      <td>60.0</td>\n",
              "      <td>644.0</td>\n",
              "      <td>1.0</td>\n",
              "      <td>300.0</td>\n",
              "      <td>16.0</td>\n",
              "      <td>16.0</td>\n",
              "      <td>16.0</td>\n",
              "      <td>baby</td>\n",
              "      <td>44.78</td>\n",
              "    </tr>\n",
              "    <tr>\n",
              "      <th>73089</th>\n",
              "      <td>bdbe0f3ee1e78fdf85d1a60f200f411c</td>\n",
              "      <td>1</td>\n",
              "      <td>78efe838c04bbc568be034082200ac20</td>\n",
              "      <td>0241d4d5d36f10f80c644447315af0bd</td>\n",
              "      <td>2018-01-26 18:16:53</td>\n",
              "      <td>99.90</td>\n",
              "      <td>23.57</td>\n",
              "      <td>moveis_decoracao</td>\n",
              "      <td>57.0</td>\n",
              "      <td>272.0</td>\n",
              "      <td>1.0</td>\n",
              "      <td>2500.0</td>\n",
              "      <td>40.0</td>\n",
              "      <td>10.0</td>\n",
              "      <td>30.0</td>\n",
              "      <td>furniture_decor</td>\n",
              "      <td>123.47</td>\n",
              "    </tr>\n",
              "    <tr>\n",
              "      <th>8933</th>\n",
              "      <td>17528d72766893a90deabc12ffc91207</td>\n",
              "      <td>1</td>\n",
              "      <td>09258106f546b38b0f817fc3aadf650b</td>\n",
              "      <td>4a3ca9315b744ce9f8e9374361493884</td>\n",
              "      <td>2017-12-12 13:30:48</td>\n",
              "      <td>48.50</td>\n",
              "      <td>11.85</td>\n",
              "      <td>brinquedos</td>\n",
              "      <td>48.0</td>\n",
              "      <td>236.0</td>\n",
              "      <td>1.0</td>\n",
              "      <td>200.0</td>\n",
              "      <td>45.0</td>\n",
              "      <td>15.0</td>\n",
              "      <td>35.0</td>\n",
              "      <td>toys</td>\n",
              "      <td>60.35</td>\n",
              "    </tr>\n",
              "  </tbody>\n",
              "</table>\n",
              "</div>"
            ],
            "text/plain": [
              "                               order_id  order_item_id  \\\n",
              "46464  78c9dae3539db375cbc0786555c5f570              1   \n",
              "31929  52cb9b4d5ee3ce7d1e2a8d9c2376fd44              1   \n",
              "67781  b06373098fedad1545401c91bf3af711              1   \n",
              "73089  bdbe0f3ee1e78fdf85d1a60f200f411c              1   \n",
              "8933   17528d72766893a90deabc12ffc91207              1   \n",
              "\n",
              "                             product_id                         seller_id  \\\n",
              "46464  e0cf79767c5b016251fe139915c59a26  da8622b14eb17ae2831f4ac5b9dab84a   \n",
              "31929  19c91ef95d509ea33eda93495c4d3481  06a2c3af7b3aee5d69171b0e14f0ee87   \n",
              "67781  0cf41187284d7f099adc8415a743ebbd  bbad7e518d7af88a0897397ffdca1979   \n",
              "73089  78efe838c04bbc568be034082200ac20  0241d4d5d36f10f80c644447315af0bd   \n",
              "8933   09258106f546b38b0f817fc3aadf650b  4a3ca9315b744ce9f8e9374361493884   \n",
              "\n",
              "      shipping_limit_date   price  freight_value product_category_name  \\\n",
              "46464 2018-05-29 01:31:25   29.90          10.76          beleza_saude   \n",
              "31929 2018-07-20 03:04:07  122.99          21.13          beleza_saude   \n",
              "67781 2018-05-07 13:31:22   35.90           8.88                 bebes   \n",
              "73089 2018-01-26 18:16:53   99.90          23.57      moveis_decoracao   \n",
              "8933  2017-12-12 13:30:48   48.50          11.85            brinquedos   \n",
              "\n",
              "       product_name_length  product_description_length  product_photos_qty  \\\n",
              "46464                 55.0                       388.0                 1.0   \n",
              "31929                 50.0                      1257.0                 1.0   \n",
              "67781                 60.0                       644.0                 1.0   \n",
              "73089                 57.0                       272.0                 1.0   \n",
              "8933                  48.0                       236.0                 1.0   \n",
              "\n",
              "       product_weight_g  product_length_cm  product_height_cm  \\\n",
              "46464             250.0               16.0                5.0   \n",
              "31929             700.0               25.0               12.0   \n",
              "67781             300.0               16.0               16.0   \n",
              "73089            2500.0               40.0               10.0   \n",
              "8933              200.0               45.0               15.0   \n",
              "\n",
              "       product_width_cm product_category_name_english  order_item_value  \n",
              "46464              15.0                 health_beauty             40.66  \n",
              "31929              19.0                 health_beauty            144.12  \n",
              "67781              16.0                          baby             44.78  \n",
              "73089              30.0               furniture_decor            123.47  \n",
              "8933               35.0                          toys             60.35  "
            ]
          },
          "execution_count": 157,
          "metadata": {},
          "output_type": "execute_result"
        }
      ],
      "source": [
        "\n",
        "order_items_products_df['order_item_value'] = order_items_products_df['price'] + order_items_products_df['freight_value']\n",
        "order_items_products_df.sample(5)\n"
      ]
    },
    {
      "cell_type": "code",
      "execution_count": 158,
      "metadata": {
        "colab": {
          "base_uri": "https://localhost:8080/",
          "height": 237
        },
        "id": "F4VXyGwkzNf_",
        "outputId": "3b184e6f-956a-45e6-970f-8fc5d8de58b9"
      },
      "outputs": [
        {
          "data": {
            "text/html": [
              "<div>\n",
              "<style scoped>\n",
              "    .dataframe tbody tr th:only-of-type {\n",
              "        vertical-align: middle;\n",
              "    }\n",
              "\n",
              "    .dataframe tbody tr th {\n",
              "        vertical-align: top;\n",
              "    }\n",
              "\n",
              "    .dataframe thead th {\n",
              "        text-align: right;\n",
              "    }\n",
              "</style>\n",
              "<table border=\"1\" class=\"dataframe\">\n",
              "  <thead>\n",
              "    <tr style=\"text-align: right;\">\n",
              "      <th></th>\n",
              "      <th>order_id</th>\n",
              "      <th>price</th>\n",
              "      <th>freight_value</th>\n",
              "      <th>order_item_value</th>\n",
              "    </tr>\n",
              "    <tr>\n",
              "      <th>product_category_name_english</th>\n",
              "      <th></th>\n",
              "      <th></th>\n",
              "      <th></th>\n",
              "      <th></th>\n",
              "    </tr>\n",
              "  </thead>\n",
              "  <tbody>\n",
              "    <tr>\n",
              "      <th>health_beauty</th>\n",
              "      <td>8930</td>\n",
              "      <td>1209413.59</td>\n",
              "      <td>171090.62</td>\n",
              "      <td>1380504.21</td>\n",
              "    </tr>\n",
              "    <tr>\n",
              "      <th>watches_gifts</th>\n",
              "      <td>5668</td>\n",
              "      <td>1174541.18</td>\n",
              "      <td>96249.64</td>\n",
              "      <td>1270790.82</td>\n",
              "    </tr>\n",
              "    <tr>\n",
              "      <th>bed_bath_table</th>\n",
              "      <td>9425</td>\n",
              "      <td>911716.31</td>\n",
              "      <td>175813.99</td>\n",
              "      <td>1087530.30</td>\n",
              "    </tr>\n",
              "    <tr>\n",
              "      <th>sports_leisure</th>\n",
              "      <td>7760</td>\n",
              "      <td>921283.20</td>\n",
              "      <td>153265.06</td>\n",
              "      <td>1074548.26</td>\n",
              "    </tr>\n",
              "    <tr>\n",
              "      <th>computers_accessories</th>\n",
              "      <td>6681</td>\n",
              "      <td>781118.77</td>\n",
              "      <td>126615.34</td>\n",
              "      <td>907734.11</td>\n",
              "    </tr>\n",
              "  </tbody>\n",
              "</table>\n",
              "</div>"
            ],
            "text/plain": [
              "                               order_id       price  freight_value  \\\n",
              "product_category_name_english                                        \n",
              "health_beauty                      8930  1209413.59      171090.62   \n",
              "watches_gifts                      5668  1174541.18       96249.64   \n",
              "bed_bath_table                     9425   911716.31      175813.99   \n",
              "sports_leisure                     7760   921283.20      153265.06   \n",
              "computers_accessories              6681   781118.77      126615.34   \n",
              "\n",
              "                               order_item_value  \n",
              "product_category_name_english                    \n",
              "health_beauty                        1380504.21  \n",
              "watches_gifts                        1270790.82  \n",
              "bed_bath_table                       1087530.30  \n",
              "sports_leisure                       1074548.26  \n",
              "computers_accessories                 907734.11  "
            ]
          },
          "execution_count": 158,
          "metadata": {},
          "output_type": "execute_result"
        }
      ],
      "source": [
        "grouped_value = order_items_products_df.groupby(by=\"product_category_name_english\").agg({\n",
        "    \"order_id\": \"nunique\",\n",
        "    \"price\":  \"sum\",\n",
        "    \"freight_value\":  \"sum\",\n",
        "    \"order_item_value\": \"sum\"\n",
        "})\n",
        "\n",
        "grouped_value.sort_values(\"order_item_value\", ascending=False).head(5)"
      ]
    },
    {
      "cell_type": "code",
      "execution_count": 159,
      "metadata": {
        "colab": {
          "base_uri": "https://localhost:8080/",
          "height": 237
        },
        "id": "zTvRAPWczPsU",
        "outputId": "e279e064-95f3-4a43-f41b-a3b3eb2bc906"
      },
      "outputs": [
        {
          "data": {
            "text/html": [
              "<div>\n",
              "<style scoped>\n",
              "    .dataframe tbody tr th:only-of-type {\n",
              "        vertical-align: middle;\n",
              "    }\n",
              "\n",
              "    .dataframe tbody tr th {\n",
              "        vertical-align: top;\n",
              "    }\n",
              "\n",
              "    .dataframe thead th {\n",
              "        text-align: right;\n",
              "    }\n",
              "</style>\n",
              "<table border=\"1\" class=\"dataframe\">\n",
              "  <thead>\n",
              "    <tr style=\"text-align: right;\">\n",
              "      <th></th>\n",
              "      <th>order_id</th>\n",
              "      <th>price</th>\n",
              "      <th>freight_value</th>\n",
              "      <th>order_item_value</th>\n",
              "    </tr>\n",
              "    <tr>\n",
              "      <th>product_category_name_english</th>\n",
              "      <th></th>\n",
              "      <th></th>\n",
              "      <th></th>\n",
              "      <th></th>\n",
              "    </tr>\n",
              "  </thead>\n",
              "  <tbody>\n",
              "    <tr>\n",
              "      <th>security_and_services</th>\n",
              "      <td>2</td>\n",
              "      <td>283.29</td>\n",
              "      <td>41.22</td>\n",
              "      <td>324.51</td>\n",
              "    </tr>\n",
              "    <tr>\n",
              "      <th>fashion_childrens_clothes</th>\n",
              "      <td>8</td>\n",
              "      <td>569.85</td>\n",
              "      <td>95.51</td>\n",
              "      <td>665.36</td>\n",
              "    </tr>\n",
              "    <tr>\n",
              "      <th>cds_dvds_musicals</th>\n",
              "      <td>12</td>\n",
              "      <td>640.00</td>\n",
              "      <td>192.77</td>\n",
              "      <td>832.77</td>\n",
              "    </tr>\n",
              "    <tr>\n",
              "      <th>home_comfort_2</th>\n",
              "      <td>22</td>\n",
              "      <td>657.07</td>\n",
              "      <td>313.29</td>\n",
              "      <td>970.36</td>\n",
              "    </tr>\n",
              "    <tr>\n",
              "      <th>flowers</th>\n",
              "      <td>29</td>\n",
              "      <td>962.94</td>\n",
              "      <td>426.90</td>\n",
              "      <td>1389.84</td>\n",
              "    </tr>\n",
              "  </tbody>\n",
              "</table>\n",
              "</div>"
            ],
            "text/plain": [
              "                               order_id   price  freight_value  \\\n",
              "product_category_name_english                                    \n",
              "security_and_services                 2  283.29          41.22   \n",
              "fashion_childrens_clothes             8  569.85          95.51   \n",
              "cds_dvds_musicals                    12  640.00         192.77   \n",
              "home_comfort_2                       22  657.07         313.29   \n",
              "flowers                              29  962.94         426.90   \n",
              "\n",
              "                               order_item_value  \n",
              "product_category_name_english                    \n",
              "security_and_services                    324.51  \n",
              "fashion_childrens_clothes                665.36  \n",
              "cds_dvds_musicals                        832.77  \n",
              "home_comfort_2                           970.36  \n",
              "flowers                                 1389.84  "
            ]
          },
          "execution_count": 159,
          "metadata": {},
          "output_type": "execute_result"
        }
      ],
      "source": [
        "grouped_value.sort_values(\"order_item_value\", ascending=True).head(5)"
      ]
    },
    {
      "cell_type": "code",
      "execution_count": 160,
      "metadata": {
        "colab": {
          "base_uri": "https://localhost:8080/",
          "height": 443
        },
        "id": "d8lPJIuF9LRO",
        "outputId": "fd282f0c-4f7e-4bb4-dc53-53327dadcb73"
      },
      "outputs": [
        {
          "data": {
            "text/html": [
              "<div>\n",
              "<style scoped>\n",
              "    .dataframe tbody tr th:only-of-type {\n",
              "        vertical-align: middle;\n",
              "    }\n",
              "\n",
              "    .dataframe tbody tr th {\n",
              "        vertical-align: top;\n",
              "    }\n",
              "\n",
              "    .dataframe thead th {\n",
              "        text-align: right;\n",
              "    }\n",
              "</style>\n",
              "<table border=\"1\" class=\"dataframe\">\n",
              "  <thead>\n",
              "    <tr style=\"text-align: right;\">\n",
              "      <th></th>\n",
              "      <th>order_id</th>\n",
              "      <th>customer_id</th>\n",
              "      <th>order_status</th>\n",
              "      <th>order_purchase_timestamp</th>\n",
              "      <th>order_approved_at</th>\n",
              "      <th>order_delivered_carrier_date</th>\n",
              "      <th>order_delivered_customer_date</th>\n",
              "      <th>order_estimated_delivery_date</th>\n",
              "      <th>customer_unique_id</th>\n",
              "      <th>customer_zip_code_prefix</th>\n",
              "      <th>...</th>\n",
              "      <th>payment_value</th>\n",
              "      <th>product_category_name_y</th>\n",
              "      <th>product_name_length_y</th>\n",
              "      <th>product_description_length_y</th>\n",
              "      <th>product_photos_qty_y</th>\n",
              "      <th>product_weight_g_y</th>\n",
              "      <th>product_length_cm_y</th>\n",
              "      <th>product_height_cm_y</th>\n",
              "      <th>product_width_cm_y</th>\n",
              "      <th>product_category_name_english_y</th>\n",
              "    </tr>\n",
              "  </thead>\n",
              "  <tbody>\n",
              "    <tr>\n",
              "      <th>0</th>\n",
              "      <td>e481f51cbdc54678b7cc49136f2d6af7</td>\n",
              "      <td>9ef432eb6251297304e76186b10a928d</td>\n",
              "      <td>delivered</td>\n",
              "      <td>2017-10-02 10:56:33</td>\n",
              "      <td>2017-10-02 11:07:15</td>\n",
              "      <td>2017-10-04 19:55:00</td>\n",
              "      <td>2017-10-10 21:25:13</td>\n",
              "      <td>2017-10-18</td>\n",
              "      <td>7c396fd4830fd04220f754e42b4e5bff</td>\n",
              "      <td>3149</td>\n",
              "      <td>...</td>\n",
              "      <td>18.12</td>\n",
              "      <td>utilidades_domesticas</td>\n",
              "      <td>40.0</td>\n",
              "      <td>268.0</td>\n",
              "      <td>4.0</td>\n",
              "      <td>500.0</td>\n",
              "      <td>19.0</td>\n",
              "      <td>8.0</td>\n",
              "      <td>13.0</td>\n",
              "      <td>housewares</td>\n",
              "    </tr>\n",
              "    <tr>\n",
              "      <th>1</th>\n",
              "      <td>e481f51cbdc54678b7cc49136f2d6af7</td>\n",
              "      <td>9ef432eb6251297304e76186b10a928d</td>\n",
              "      <td>delivered</td>\n",
              "      <td>2017-10-02 10:56:33</td>\n",
              "      <td>2017-10-02 11:07:15</td>\n",
              "      <td>2017-10-04 19:55:00</td>\n",
              "      <td>2017-10-10 21:25:13</td>\n",
              "      <td>2017-10-18</td>\n",
              "      <td>7c396fd4830fd04220f754e42b4e5bff</td>\n",
              "      <td>3149</td>\n",
              "      <td>...</td>\n",
              "      <td>2.00</td>\n",
              "      <td>utilidades_domesticas</td>\n",
              "      <td>40.0</td>\n",
              "      <td>268.0</td>\n",
              "      <td>4.0</td>\n",
              "      <td>500.0</td>\n",
              "      <td>19.0</td>\n",
              "      <td>8.0</td>\n",
              "      <td>13.0</td>\n",
              "      <td>housewares</td>\n",
              "    </tr>\n",
              "    <tr>\n",
              "      <th>2</th>\n",
              "      <td>e481f51cbdc54678b7cc49136f2d6af7</td>\n",
              "      <td>9ef432eb6251297304e76186b10a928d</td>\n",
              "      <td>delivered</td>\n",
              "      <td>2017-10-02 10:56:33</td>\n",
              "      <td>2017-10-02 11:07:15</td>\n",
              "      <td>2017-10-04 19:55:00</td>\n",
              "      <td>2017-10-10 21:25:13</td>\n",
              "      <td>2017-10-18</td>\n",
              "      <td>7c396fd4830fd04220f754e42b4e5bff</td>\n",
              "      <td>3149</td>\n",
              "      <td>...</td>\n",
              "      <td>18.59</td>\n",
              "      <td>utilidades_domesticas</td>\n",
              "      <td>40.0</td>\n",
              "      <td>268.0</td>\n",
              "      <td>4.0</td>\n",
              "      <td>500.0</td>\n",
              "      <td>19.0</td>\n",
              "      <td>8.0</td>\n",
              "      <td>13.0</td>\n",
              "      <td>housewares</td>\n",
              "    </tr>\n",
              "    <tr>\n",
              "      <th>3</th>\n",
              "      <td>53cdb2fc8bc7dce0b6741e2150273451</td>\n",
              "      <td>b0830fb4747a6c6d20dea0b8c802d7ef</td>\n",
              "      <td>delivered</td>\n",
              "      <td>2018-07-24 20:41:37</td>\n",
              "      <td>2018-07-26 03:24:27</td>\n",
              "      <td>2018-07-26 14:31:00</td>\n",
              "      <td>2018-08-07 15:27:45</td>\n",
              "      <td>2018-08-13</td>\n",
              "      <td>af07308b275d755c9edb36a90c618231</td>\n",
              "      <td>47813</td>\n",
              "      <td>...</td>\n",
              "      <td>141.46</td>\n",
              "      <td>perfumaria</td>\n",
              "      <td>29.0</td>\n",
              "      <td>178.0</td>\n",
              "      <td>1.0</td>\n",
              "      <td>400.0</td>\n",
              "      <td>19.0</td>\n",
              "      <td>13.0</td>\n",
              "      <td>19.0</td>\n",
              "      <td>perfumery</td>\n",
              "    </tr>\n",
              "    <tr>\n",
              "      <th>4</th>\n",
              "      <td>47770eb9100c2d0c44946d9cf07ec65d</td>\n",
              "      <td>41ce2a54c0b03bf3443c3d931a367089</td>\n",
              "      <td>delivered</td>\n",
              "      <td>2018-08-08 08:38:49</td>\n",
              "      <td>2018-08-08 08:55:23</td>\n",
              "      <td>2018-08-08 13:50:00</td>\n",
              "      <td>2018-08-17 18:06:29</td>\n",
              "      <td>2018-09-04</td>\n",
              "      <td>3a653a41f6f9fc3d2a113cf8398680e8</td>\n",
              "      <td>75265</td>\n",
              "      <td>...</td>\n",
              "      <td>179.12</td>\n",
              "      <td>automotivo</td>\n",
              "      <td>46.0</td>\n",
              "      <td>232.0</td>\n",
              "      <td>1.0</td>\n",
              "      <td>420.0</td>\n",
              "      <td>24.0</td>\n",
              "      <td>19.0</td>\n",
              "      <td>21.0</td>\n",
              "      <td>auto</td>\n",
              "    </tr>\n",
              "    <tr>\n",
              "      <th>...</th>\n",
              "      <td>...</td>\n",
              "      <td>...</td>\n",
              "      <td>...</td>\n",
              "      <td>...</td>\n",
              "      <td>...</td>\n",
              "      <td>...</td>\n",
              "      <td>...</td>\n",
              "      <td>...</td>\n",
              "      <td>...</td>\n",
              "      <td>...</td>\n",
              "      <td>...</td>\n",
              "      <td>...</td>\n",
              "      <td>...</td>\n",
              "      <td>...</td>\n",
              "      <td>...</td>\n",
              "      <td>...</td>\n",
              "      <td>...</td>\n",
              "      <td>...</td>\n",
              "      <td>...</td>\n",
              "      <td>...</td>\n",
              "      <td>...</td>\n",
              "    </tr>\n",
              "    <tr>\n",
              "      <th>102045</th>\n",
              "      <td>9c5dedf39a927c1b2549525ed64a053c</td>\n",
              "      <td>39bd1228ee8140590ac3aca26f2dfe00</td>\n",
              "      <td>delivered</td>\n",
              "      <td>2017-03-09 09:54:05</td>\n",
              "      <td>2017-03-09 09:54:05</td>\n",
              "      <td>2017-03-10 11:18:03</td>\n",
              "      <td>2017-03-17 15:08:01</td>\n",
              "      <td>2017-03-28</td>\n",
              "      <td>6359f309b166b0196dbf7ad2ac62bb5a</td>\n",
              "      <td>12209</td>\n",
              "      <td>...</td>\n",
              "      <td>85.08</td>\n",
              "      <td>beleza_saude</td>\n",
              "      <td>50.0</td>\n",
              "      <td>1517.0</td>\n",
              "      <td>1.0</td>\n",
              "      <td>1175.0</td>\n",
              "      <td>22.0</td>\n",
              "      <td>13.0</td>\n",
              "      <td>18.0</td>\n",
              "      <td>health_beauty</td>\n",
              "    </tr>\n",
              "    <tr>\n",
              "      <th>102046</th>\n",
              "      <td>63943bddc261676b46f01ca7ac2f7bd8</td>\n",
              "      <td>1fca14ff2861355f6e5f14306ff977a7</td>\n",
              "      <td>delivered</td>\n",
              "      <td>2018-02-06 12:58:58</td>\n",
              "      <td>2018-02-06 13:10:37</td>\n",
              "      <td>2018-02-07 23:22:42</td>\n",
              "      <td>2018-02-28 17:37:56</td>\n",
              "      <td>2018-03-02</td>\n",
              "      <td>da62f9e57a76d978d02ab5362c509660</td>\n",
              "      <td>11722</td>\n",
              "      <td>...</td>\n",
              "      <td>195.00</td>\n",
              "      <td>bebes</td>\n",
              "      <td>52.0</td>\n",
              "      <td>828.0</td>\n",
              "      <td>4.0</td>\n",
              "      <td>4950.0</td>\n",
              "      <td>40.0</td>\n",
              "      <td>10.0</td>\n",
              "      <td>40.0</td>\n",
              "      <td>baby</td>\n",
              "    </tr>\n",
              "    <tr>\n",
              "      <th>102047</th>\n",
              "      <td>83c1379a015df1e13d02aae0204711ab</td>\n",
              "      <td>1aa71eb042121263aafbe80c1b562c9c</td>\n",
              "      <td>delivered</td>\n",
              "      <td>2017-08-27 14:46:43</td>\n",
              "      <td>2017-08-27 15:04:16</td>\n",
              "      <td>2017-08-28 20:52:26</td>\n",
              "      <td>2017-09-21 11:24:17</td>\n",
              "      <td>2017-09-27</td>\n",
              "      <td>737520a9aad80b3fbbdad19b66b37b30</td>\n",
              "      <td>45920</td>\n",
              "      <td>...</td>\n",
              "      <td>271.01</td>\n",
              "      <td>eletrodomesticos_2</td>\n",
              "      <td>51.0</td>\n",
              "      <td>500.0</td>\n",
              "      <td>2.0</td>\n",
              "      <td>13300.0</td>\n",
              "      <td>32.0</td>\n",
              "      <td>90.0</td>\n",
              "      <td>22.0</td>\n",
              "      <td>home_appliances_2</td>\n",
              "    </tr>\n",
              "    <tr>\n",
              "      <th>102048</th>\n",
              "      <td>11c177c8e97725db2631073c19f07b62</td>\n",
              "      <td>b331b74b18dc79bcdf6532d51e1637c1</td>\n",
              "      <td>delivered</td>\n",
              "      <td>2018-01-08 21:28:27</td>\n",
              "      <td>2018-01-08 21:36:21</td>\n",
              "      <td>2018-01-12 15:35:03</td>\n",
              "      <td>2018-01-25 23:32:54</td>\n",
              "      <td>2018-02-15</td>\n",
              "      <td>5097a5312c8b157bb7be58ae360ef43c</td>\n",
              "      <td>28685</td>\n",
              "      <td>...</td>\n",
              "      <td>441.16</td>\n",
              "      <td>informatica_acessorios</td>\n",
              "      <td>59.0</td>\n",
              "      <td>1893.0</td>\n",
              "      <td>1.0</td>\n",
              "      <td>6550.0</td>\n",
              "      <td>20.0</td>\n",
              "      <td>20.0</td>\n",
              "      <td>20.0</td>\n",
              "      <td>computers_accessories</td>\n",
              "    </tr>\n",
              "    <tr>\n",
              "      <th>102049</th>\n",
              "      <td>66dea50a8b16d9b4dee7af250b4be1a5</td>\n",
              "      <td>edb027a75a1449115f6b43211ae02a24</td>\n",
              "      <td>delivered</td>\n",
              "      <td>2018-03-08 20:57:30</td>\n",
              "      <td>2018-03-09 11:20:28</td>\n",
              "      <td>2018-03-09 22:11:59</td>\n",
              "      <td>2018-03-16 13:08:30</td>\n",
              "      <td>2018-04-03</td>\n",
              "      <td>60350aa974b26ff12caad89e55993bd6</td>\n",
              "      <td>83750</td>\n",
              "      <td>...</td>\n",
              "      <td>86.86</td>\n",
              "      <td>beleza_saude</td>\n",
              "      <td>45.0</td>\n",
              "      <td>569.0</td>\n",
              "      <td>1.0</td>\n",
              "      <td>150.0</td>\n",
              "      <td>16.0</td>\n",
              "      <td>7.0</td>\n",
              "      <td>15.0</td>\n",
              "      <td>health_beauty</td>\n",
              "    </tr>\n",
              "  </tbody>\n",
              "</table>\n",
              "<p>102050 rows × 56 columns</p>\n",
              "</div>"
            ],
            "text/plain": [
              "                                order_id                       customer_id  \\\n",
              "0       e481f51cbdc54678b7cc49136f2d6af7  9ef432eb6251297304e76186b10a928d   \n",
              "1       e481f51cbdc54678b7cc49136f2d6af7  9ef432eb6251297304e76186b10a928d   \n",
              "2       e481f51cbdc54678b7cc49136f2d6af7  9ef432eb6251297304e76186b10a928d   \n",
              "3       53cdb2fc8bc7dce0b6741e2150273451  b0830fb4747a6c6d20dea0b8c802d7ef   \n",
              "4       47770eb9100c2d0c44946d9cf07ec65d  41ce2a54c0b03bf3443c3d931a367089   \n",
              "...                                  ...                               ...   \n",
              "102045  9c5dedf39a927c1b2549525ed64a053c  39bd1228ee8140590ac3aca26f2dfe00   \n",
              "102046  63943bddc261676b46f01ca7ac2f7bd8  1fca14ff2861355f6e5f14306ff977a7   \n",
              "102047  83c1379a015df1e13d02aae0204711ab  1aa71eb042121263aafbe80c1b562c9c   \n",
              "102048  11c177c8e97725db2631073c19f07b62  b331b74b18dc79bcdf6532d51e1637c1   \n",
              "102049  66dea50a8b16d9b4dee7af250b4be1a5  edb027a75a1449115f6b43211ae02a24   \n",
              "\n",
              "       order_status order_purchase_timestamp   order_approved_at  \\\n",
              "0         delivered      2017-10-02 10:56:33 2017-10-02 11:07:15   \n",
              "1         delivered      2017-10-02 10:56:33 2017-10-02 11:07:15   \n",
              "2         delivered      2017-10-02 10:56:33 2017-10-02 11:07:15   \n",
              "3         delivered      2018-07-24 20:41:37 2018-07-26 03:24:27   \n",
              "4         delivered      2018-08-08 08:38:49 2018-08-08 08:55:23   \n",
              "...             ...                      ...                 ...   \n",
              "102045    delivered      2017-03-09 09:54:05 2017-03-09 09:54:05   \n",
              "102046    delivered      2018-02-06 12:58:58 2018-02-06 13:10:37   \n",
              "102047    delivered      2017-08-27 14:46:43 2017-08-27 15:04:16   \n",
              "102048    delivered      2018-01-08 21:28:27 2018-01-08 21:36:21   \n",
              "102049    delivered      2018-03-08 20:57:30 2018-03-09 11:20:28   \n",
              "\n",
              "       order_delivered_carrier_date order_delivered_customer_date  \\\n",
              "0               2017-10-04 19:55:00           2017-10-10 21:25:13   \n",
              "1               2017-10-04 19:55:00           2017-10-10 21:25:13   \n",
              "2               2017-10-04 19:55:00           2017-10-10 21:25:13   \n",
              "3               2018-07-26 14:31:00           2018-08-07 15:27:45   \n",
              "4               2018-08-08 13:50:00           2018-08-17 18:06:29   \n",
              "...                             ...                           ...   \n",
              "102045          2017-03-10 11:18:03           2017-03-17 15:08:01   \n",
              "102046          2018-02-07 23:22:42           2018-02-28 17:37:56   \n",
              "102047          2017-08-28 20:52:26           2017-09-21 11:24:17   \n",
              "102048          2018-01-12 15:35:03           2018-01-25 23:32:54   \n",
              "102049          2018-03-09 22:11:59           2018-03-16 13:08:30   \n",
              "\n",
              "       order_estimated_delivery_date                customer_unique_id  \\\n",
              "0                         2017-10-18  7c396fd4830fd04220f754e42b4e5bff   \n",
              "1                         2017-10-18  7c396fd4830fd04220f754e42b4e5bff   \n",
              "2                         2017-10-18  7c396fd4830fd04220f754e42b4e5bff   \n",
              "3                         2018-08-13  af07308b275d755c9edb36a90c618231   \n",
              "4                         2018-09-04  3a653a41f6f9fc3d2a113cf8398680e8   \n",
              "...                              ...                               ...   \n",
              "102045                    2017-03-28  6359f309b166b0196dbf7ad2ac62bb5a   \n",
              "102046                    2018-03-02  da62f9e57a76d978d02ab5362c509660   \n",
              "102047                    2017-09-27  737520a9aad80b3fbbdad19b66b37b30   \n",
              "102048                    2018-02-15  5097a5312c8b157bb7be58ae360ef43c   \n",
              "102049                    2018-04-03  60350aa974b26ff12caad89e55993bd6   \n",
              "\n",
              "        customer_zip_code_prefix  ... payment_value product_category_name_y  \\\n",
              "0                           3149  ...         18.12   utilidades_domesticas   \n",
              "1                           3149  ...          2.00   utilidades_domesticas   \n",
              "2                           3149  ...         18.59   utilidades_domesticas   \n",
              "3                          47813  ...        141.46              perfumaria   \n",
              "4                          75265  ...        179.12              automotivo   \n",
              "...                          ...  ...           ...                     ...   \n",
              "102045                     12209  ...         85.08            beleza_saude   \n",
              "102046                     11722  ...        195.00                   bebes   \n",
              "102047                     45920  ...        271.01      eletrodomesticos_2   \n",
              "102048                     28685  ...        441.16  informatica_acessorios   \n",
              "102049                     83750  ...         86.86            beleza_saude   \n",
              "\n",
              "        product_name_length_y product_description_length_y  \\\n",
              "0                        40.0                        268.0   \n",
              "1                        40.0                        268.0   \n",
              "2                        40.0                        268.0   \n",
              "3                        29.0                        178.0   \n",
              "4                        46.0                        232.0   \n",
              "...                       ...                          ...   \n",
              "102045                   50.0                       1517.0   \n",
              "102046                   52.0                        828.0   \n",
              "102047                   51.0                        500.0   \n",
              "102048                   59.0                       1893.0   \n",
              "102049                   45.0                        569.0   \n",
              "\n",
              "       product_photos_qty_y product_weight_g_y  product_length_cm_y  \\\n",
              "0                       4.0              500.0                 19.0   \n",
              "1                       4.0              500.0                 19.0   \n",
              "2                       4.0              500.0                 19.0   \n",
              "3                       1.0              400.0                 19.0   \n",
              "4                       1.0              420.0                 24.0   \n",
              "...                     ...                ...                  ...   \n",
              "102045                  1.0             1175.0                 22.0   \n",
              "102046                  4.0             4950.0                 40.0   \n",
              "102047                  2.0            13300.0                 32.0   \n",
              "102048                  1.0             6550.0                 20.0   \n",
              "102049                  1.0              150.0                 16.0   \n",
              "\n",
              "        product_height_cm_y product_width_cm_y  \\\n",
              "0                       8.0               13.0   \n",
              "1                       8.0               13.0   \n",
              "2                       8.0               13.0   \n",
              "3                      13.0               19.0   \n",
              "4                      19.0               21.0   \n",
              "...                     ...                ...   \n",
              "102045                 13.0               18.0   \n",
              "102046                 10.0               40.0   \n",
              "102047                 90.0               22.0   \n",
              "102048                 20.0               20.0   \n",
              "102049                  7.0               15.0   \n",
              "\n",
              "        product_category_name_english_y  \n",
              "0                            housewares  \n",
              "1                            housewares  \n",
              "2                            housewares  \n",
              "3                             perfumery  \n",
              "4                                  auto  \n",
              "...                                 ...  \n",
              "102045                    health_beauty  \n",
              "102046                             baby  \n",
              "102047                home_appliances_2  \n",
              "102048            computers_accessories  \n",
              "102049                    health_beauty  \n",
              "\n",
              "[102050 rows x 56 columns]"
            ]
          },
          "execution_count": 160,
          "metadata": {},
          "output_type": "execute_result"
        }
      ],
      "source": [
        "# Merging DataFrames\n",
        "all_df = orderscustomer.merge(order_items_products_df, on='order_id', how='inner') \\\n",
        "                        .merge(orderreview, on='order_id', how='inner') \\\n",
        "                        .merge(sellers, on='seller_id', how='left') \\\n",
        "                        .merge(group, on='order_id', how='left')\n",
        "\n",
        "all_df"
      ]
    },
    {
      "cell_type": "markdown",
      "metadata": {
        "id": "e4LYkDLORBCD"
      },
      "source": [
        "grup1 & ordercustomer"
      ]
    },
    {
      "cell_type": "markdown",
      "metadata": {
        "id": "FokIhQ9G9lr0"
      },
      "source": [
        "## Exploratory Data Analysis (EDA)"
      ]
    },
    {
      "cell_type": "markdown",
      "metadata": {
        "id": "MW7WF2kr8DC1"
      },
      "source": [
        "### Explore ..."
      ]
    },
    {
      "cell_type": "code",
      "execution_count": 161,
      "metadata": {
        "colab": {
          "base_uri": "https://localhost:8080/"
        },
        "id": "e9CQCZjk8DC2",
        "outputId": "ddcea132-38ac-4294-b02e-912f2d4502d7"
      },
      "outputs": [
        {
          "name": "stdout",
          "output_type": "stream",
          "text": [
            "<class 'pandas.core.frame.DataFrame'>\n",
            "Index: 96461 entries, 0 to 99440\n",
            "Data columns (total 12 columns):\n",
            " #   Column                         Non-Null Count  Dtype         \n",
            "---  ------                         --------------  -----         \n",
            " 0   order_id                       96461 non-null  object        \n",
            " 1   customer_id                    96461 non-null  object        \n",
            " 2   order_status                   96461 non-null  object        \n",
            " 3   order_purchase_timestamp       96461 non-null  datetime64[ns]\n",
            " 4   order_approved_at              96461 non-null  datetime64[ns]\n",
            " 5   order_delivered_carrier_date   96461 non-null  datetime64[ns]\n",
            " 6   order_delivered_customer_date  96461 non-null  datetime64[ns]\n",
            " 7   order_estimated_delivery_date  96461 non-null  datetime64[ns]\n",
            " 8   customer_unique_id             96461 non-null  object        \n",
            " 9   customer_zip_code_prefix       96461 non-null  int64         \n",
            " 10  customer_city                  96461 non-null  object        \n",
            " 11  customer_state                 96461 non-null  object        \n",
            "dtypes: datetime64[ns](5), int64(1), object(6)\n",
            "memory usage: 9.6+ MB\n"
          ]
        }
      ],
      "source": [
        "orderscustomer.dropna(axis=0, inplace=True)\n",
        "orderscustomer.info()"
      ]
    },
    {
      "cell_type": "markdown",
      "metadata": {
        "id": "lkywPnAmUyxi"
      },
      "source": [
        "Explore group"
      ]
    },
    {
      "cell_type": "code",
      "execution_count": 162,
      "metadata": {
        "colab": {
          "base_uri": "https://localhost:8080/",
          "height": 455
        },
        "id": "WPt7B0P4UbZ-",
        "outputId": "4bcd5439-b56a-4a3b-c39e-80bdf7c86f98"
      },
      "outputs": [
        {
          "data": {
            "text/html": [
              "<div>\n",
              "<style scoped>\n",
              "    .dataframe tbody tr th:only-of-type {\n",
              "        vertical-align: middle;\n",
              "    }\n",
              "\n",
              "    .dataframe tbody tr th {\n",
              "        vertical-align: top;\n",
              "    }\n",
              "\n",
              "    .dataframe thead th {\n",
              "        text-align: right;\n",
              "    }\n",
              "</style>\n",
              "<table border=\"1\" class=\"dataframe\">\n",
              "  <thead>\n",
              "    <tr style=\"text-align: right;\">\n",
              "      <th></th>\n",
              "      <th>product_id</th>\n",
              "    </tr>\n",
              "    <tr>\n",
              "      <th>product_category_name_english</th>\n",
              "      <th></th>\n",
              "    </tr>\n",
              "  </thead>\n",
              "  <tbody>\n",
              "    <tr>\n",
              "      <th>bed_bath_table</th>\n",
              "      <td>3087</td>\n",
              "    </tr>\n",
              "    <tr>\n",
              "      <th>sports_leisure</th>\n",
              "      <td>2916</td>\n",
              "    </tr>\n",
              "    <tr>\n",
              "      <th>furniture_decor</th>\n",
              "      <td>2719</td>\n",
              "    </tr>\n",
              "    <tr>\n",
              "      <th>health_beauty</th>\n",
              "      <td>2490</td>\n",
              "    </tr>\n",
              "    <tr>\n",
              "      <th>housewares</th>\n",
              "      <td>2381</td>\n",
              "    </tr>\n",
              "    <tr>\n",
              "      <th>...</th>\n",
              "      <td>...</td>\n",
              "    </tr>\n",
              "    <tr>\n",
              "      <th>tablets_printing_image</th>\n",
              "      <td>9</td>\n",
              "    </tr>\n",
              "    <tr>\n",
              "      <th>home_comfort_2</th>\n",
              "      <td>5</td>\n",
              "    </tr>\n",
              "    <tr>\n",
              "      <th>fashion_childrens_clothes</th>\n",
              "      <td>5</td>\n",
              "    </tr>\n",
              "    <tr>\n",
              "      <th>security_and_services</th>\n",
              "      <td>2</td>\n",
              "    </tr>\n",
              "    <tr>\n",
              "      <th>cds_dvds_musicals</th>\n",
              "      <td>1</td>\n",
              "    </tr>\n",
              "  </tbody>\n",
              "</table>\n",
              "<p>71 rows × 1 columns</p>\n",
              "</div>"
            ],
            "text/plain": [
              "                               product_id\n",
              "product_category_name_english            \n",
              "bed_bath_table                       3087\n",
              "sports_leisure                       2916\n",
              "furniture_decor                      2719\n",
              "health_beauty                        2490\n",
              "housewares                           2381\n",
              "...                                   ...\n",
              "tablets_printing_image                  9\n",
              "home_comfort_2                          5\n",
              "fashion_childrens_clothes               5\n",
              "security_and_services                   2\n",
              "cds_dvds_musicals                       1\n",
              "\n",
              "[71 rows x 1 columns]"
            ]
          },
          "execution_count": 162,
          "metadata": {},
          "output_type": "execute_result"
        }
      ],
      "source": [
        "group.groupby(by='product_category_name_english').agg({\n",
        "    'product_id':'nunique'\n",
        "}).sort_values(by='product_id', ascending=False)"
      ]
    },
    {
      "cell_type": "markdown",
      "metadata": {
        "id": "WaYObQSFUsy4"
      },
      "source": [
        "explore all_df"
      ]
    },
    {
      "cell_type": "code",
      "execution_count": 163,
      "metadata": {
        "colab": {
          "base_uri": "https://localhost:8080/"
        },
        "id": "SLEaRZTKdhgf",
        "outputId": "be61a9ec-205f-47b0-d5e2-6fa6e7a341e2"
      },
      "outputs": [
        {
          "name": "stdout",
          "output_type": "stream",
          "text": [
            "<class 'pandas.core.frame.DataFrame'>\n",
            "RangeIndex: 102050 entries, 0 to 102049\n",
            "Data columns (total 56 columns):\n",
            " #   Column                           Non-Null Count   Dtype         \n",
            "---  ------                           --------------   -----         \n",
            " 0   order_id                         102050 non-null  object        \n",
            " 1   customer_id                      102050 non-null  object        \n",
            " 2   order_status                     102050 non-null  object        \n",
            " 3   order_purchase_timestamp         102050 non-null  datetime64[ns]\n",
            " 4   order_approved_at                102036 non-null  datetime64[ns]\n",
            " 5   order_delivered_carrier_date     101013 non-null  datetime64[ns]\n",
            " 6   order_delivered_customer_date    99862 non-null   datetime64[ns]\n",
            " 7   order_estimated_delivery_date    102050 non-null  datetime64[ns]\n",
            " 8   customer_unique_id               102050 non-null  object        \n",
            " 9   customer_zip_code_prefix         102050 non-null  int64         \n",
            " 10  customer_city                    102050 non-null  object        \n",
            " 11  customer_state                   102050 non-null  object        \n",
            " 12  order_item_id_x                  102050 non-null  int64         \n",
            " 13  product_id_x                     102050 non-null  object        \n",
            " 14  seller_id_x                      102050 non-null  object        \n",
            " 15  shipping_limit_date_x            102050 non-null  datetime64[ns]\n",
            " 16  price_x                          102050 non-null  float64       \n",
            " 17  freight_value_x                  102050 non-null  float64       \n",
            " 18  product_category_name_x          102050 non-null  object        \n",
            " 19  product_name_length_x            102050 non-null  float64       \n",
            " 20  product_description_length_x     102050 non-null  float64       \n",
            " 21  product_photos_qty_x             102050 non-null  float64       \n",
            " 22  product_weight_g_x               102050 non-null  float64       \n",
            " 23  product_length_cm_x              102050 non-null  float64       \n",
            " 24  product_height_cm_x              102050 non-null  float64       \n",
            " 25  product_width_cm_x               102050 non-null  float64       \n",
            " 26  product_category_name_english_x  102028 non-null  object        \n",
            " 27  order_item_value                 102050 non-null  float64       \n",
            " 28  review_id                        102050 non-null  object        \n",
            " 29  review_score                     102050 non-null  int64         \n",
            " 30  review_comment_title             11864 non-null   object        \n",
            " 31  review_comment_message           41953 non-null   object        \n",
            " 32  review_creation_date             102050 non-null  datetime64[ns]\n",
            " 33  review_answer_timestamp          102050 non-null  datetime64[ns]\n",
            " 34  seller_zip_code_prefix           102050 non-null  int64         \n",
            " 35  seller_city                      102050 non-null  object        \n",
            " 36  seller_state                     102050 non-null  object        \n",
            " 37  order_item_id_y                  102050 non-null  float64       \n",
            " 38  product_id_y                     102050 non-null  object        \n",
            " 39  seller_id_y                      102050 non-null  object        \n",
            " 40  shipping_limit_date_y            102050 non-null  datetime64[ns]\n",
            " 41  price_y                          102050 non-null  float64       \n",
            " 42  freight_value_y                  102050 non-null  float64       \n",
            " 43  payment_sequential               102049 non-null  float64       \n",
            " 44  payment_type                     102049 non-null  object        \n",
            " 45  payment_installments             102049 non-null  float64       \n",
            " 46  payment_value                    102049 non-null  float64       \n",
            " 47  product_category_name_y          102050 non-null  object        \n",
            " 48  product_name_length_y            102050 non-null  float64       \n",
            " 49  product_description_length_y     102050 non-null  float64       \n",
            " 50  product_photos_qty_y             102050 non-null  float64       \n",
            " 51  product_weight_g_y               102050 non-null  float64       \n",
            " 52  product_length_cm_y              102050 non-null  float64       \n",
            " 53  product_height_cm_y              102050 non-null  float64       \n",
            " 54  product_width_cm_y               102050 non-null  float64       \n",
            " 55  product_category_name_english_y  102028 non-null  object        \n",
            "dtypes: datetime64[ns](9), float64(23), int64(4), object(20)\n",
            "memory usage: 43.6+ MB\n"
          ]
        }
      ],
      "source": [
        "all_df.info()"
      ]
    },
    {
      "cell_type": "markdown",
      "metadata": {
        "id": "x1f412GFjpQv"
      },
      "source": [
        "RFM Analysis\n",
        "  -  Recency\n",
        "  - Frequency\n",
        "  - Monetary Value"
      ]
    },
    {
      "cell_type": "code",
      "execution_count": 164,
      "metadata": {
        "colab": {
          "base_uri": "https://localhost:8080/",
          "height": 206
        },
        "id": "q9Czp6t9mgYX",
        "outputId": "275555ed-3bc3-4506-a205-49845af065b7"
      },
      "outputs": [
        {
          "data": {
            "text/html": [
              "<div>\n",
              "<style scoped>\n",
              "    .dataframe tbody tr th:only-of-type {\n",
              "        vertical-align: middle;\n",
              "    }\n",
              "\n",
              "    .dataframe tbody tr th {\n",
              "        vertical-align: top;\n",
              "    }\n",
              "\n",
              "    .dataframe thead th {\n",
              "        text-align: right;\n",
              "    }\n",
              "</style>\n",
              "<table border=\"1\" class=\"dataframe\">\n",
              "  <thead>\n",
              "    <tr style=\"text-align: right;\">\n",
              "      <th></th>\n",
              "      <th>customer_unique_id</th>\n",
              "      <th>frequency</th>\n",
              "      <th>monetary</th>\n",
              "      <th>recency</th>\n",
              "    </tr>\n",
              "  </thead>\n",
              "  <tbody>\n",
              "    <tr>\n",
              "      <th>21208</th>\n",
              "      <td>3918b12d374fe9727d4da03a423f6b12</td>\n",
              "      <td>1</td>\n",
              "      <td>152.58</td>\n",
              "      <td>92</td>\n",
              "    </tr>\n",
              "    <tr>\n",
              "      <th>45038</th>\n",
              "      <td>79793075af50851bb3ad5c48f69a7fc6</td>\n",
              "      <td>1</td>\n",
              "      <td>32.69</td>\n",
              "      <td>414</td>\n",
              "    </tr>\n",
              "    <tr>\n",
              "      <th>6198</th>\n",
              "      <td>109971a30c3389386a20317f9404f0f8</td>\n",
              "      <td>1</td>\n",
              "      <td>22.77</td>\n",
              "      <td>272</td>\n",
              "    </tr>\n",
              "    <tr>\n",
              "      <th>84057</th>\n",
              "      <td>e2f069490a9858578ee0accb5331631b</td>\n",
              "      <td>1</td>\n",
              "      <td>61.61</td>\n",
              "      <td>103</td>\n",
              "    </tr>\n",
              "    <tr>\n",
              "      <th>34047</th>\n",
              "      <td>5b9fd51537337750cd28594c51d63769</td>\n",
              "      <td>1</td>\n",
              "      <td>161.27</td>\n",
              "      <td>97</td>\n",
              "    </tr>\n",
              "  </tbody>\n",
              "</table>\n",
              "</div>"
            ],
            "text/plain": [
              "                     customer_unique_id  frequency  monetary  recency\n",
              "21208  3918b12d374fe9727d4da03a423f6b12          1    152.58       92\n",
              "45038  79793075af50851bb3ad5c48f69a7fc6          1     32.69      414\n",
              "6198   109971a30c3389386a20317f9404f0f8          1     22.77      272\n",
              "84057  e2f069490a9858578ee0accb5331631b          1     61.61      103\n",
              "34047  5b9fd51537337750cd28594c51d63769          1    161.27       97"
            ]
          },
          "execution_count": 164,
          "metadata": {},
          "output_type": "execute_result"
        }
      ],
      "source": [
        "rfm_df = all_df.groupby(by=\"customer_unique_id\", as_index=False).agg({\n",
        "    \"order_purchase_timestamp\": \"max\",  #mengambil tanggal order terakhir untuk setiap pelanggan.\n",
        "    \"order_id\": \"nunique\",  #menghitung jumlah order unik yang dilakukan oleh pelanggan.\n",
        "    \"order_item_value\": \"sum\"  #menghitung total nilai dari semua pesanan pelanggan.\n",
        "})\n",
        "rfm_df.columns = [\"customer_unique_id\", \"max_order_timestamp\", \"frequency\", \"monetary\"]\n",
        "#konversi kolom timestamp menjadi tanggal saja untuk perhitungan 'Recency'.\n",
        "rfm_df[\"max_order_timestamp\"] = rfm_df[\"max_order_timestamp\"].dt.date\n",
        "#menghitung tanggal terkini dalam dataset untuk referensi 'Recency'.\n",
        "recent_date = all_df[\"order_purchase_timestamp\"].dt.date.max()\n",
        "#perhitungan 'Recency' untuk setiap pelanggan dengan menghitung selisih hari dari tanggal terkini.\n",
        "rfm_df[\"recency\"] = rfm_df[\"max_order_timestamp\"].apply(lambda x: (recent_date - x).days)\n",
        "#menghapus kolom 'max_order_timestamp' karena sudah tidak diperlukan setelah 'Recency' dihitung.\n",
        "rfm_df.drop(\"max_order_timestamp\", axis=1, inplace=True)\n",
        "rfm_df.sample(5)\n",
        "\n",
        "\n",
        "\n",
        "\n",
        "\n"
      ]
    },
    {
      "cell_type": "code",
      "execution_count": 165,
      "metadata": {},
      "outputs": [
        {
          "data": {
            "text/html": [
              "<div>\n",
              "<style scoped>\n",
              "    .dataframe tbody tr th:only-of-type {\n",
              "        vertical-align: middle;\n",
              "    }\n",
              "\n",
              "    .dataframe tbody tr th {\n",
              "        vertical-align: top;\n",
              "    }\n",
              "\n",
              "    .dataframe thead th {\n",
              "        text-align: right;\n",
              "    }\n",
              "</style>\n",
              "<table border=\"1\" class=\"dataframe\">\n",
              "  <thead>\n",
              "    <tr style=\"text-align: right;\">\n",
              "      <th></th>\n",
              "      <th>customer_unique_id</th>\n",
              "      <th>frequency</th>\n",
              "      <th>monetary</th>\n",
              "      <th>recency</th>\n",
              "    </tr>\n",
              "  </thead>\n",
              "  <tbody>\n",
              "    <tr>\n",
              "      <th>4645</th>\n",
              "      <td>0c6d7218d5f3fa14514fd29865269993</td>\n",
              "      <td>1</td>\n",
              "      <td>178.25</td>\n",
              "      <td>0</td>\n",
              "    </tr>\n",
              "    <tr>\n",
              "      <th>65162</th>\n",
              "      <td>afbcfd0b9c5233e7ccc73428526fbb52</td>\n",
              "      <td>1</td>\n",
              "      <td>99.45</td>\n",
              "      <td>0</td>\n",
              "    </tr>\n",
              "    <tr>\n",
              "      <th>13643</th>\n",
              "      <td>24ac2b4327e25baf39f2119e4228976a</td>\n",
              "      <td>1</td>\n",
              "      <td>93.75</td>\n",
              "      <td>0</td>\n",
              "    </tr>\n",
              "    <tr>\n",
              "      <th>67018</th>\n",
              "      <td>b4dcade04bc548b7e3b0243c801f8c26</td>\n",
              "      <td>1</td>\n",
              "      <td>106.95</td>\n",
              "      <td>0</td>\n",
              "    </tr>\n",
              "    <tr>\n",
              "      <th>91772</th>\n",
              "      <td>f80013faf776e37bcea7634d59c2181e</td>\n",
              "      <td>1</td>\n",
              "      <td>74.21</td>\n",
              "      <td>0</td>\n",
              "    </tr>\n",
              "  </tbody>\n",
              "</table>\n",
              "</div>"
            ],
            "text/plain": [
              "                     customer_unique_id  frequency  monetary  recency\n",
              "4645   0c6d7218d5f3fa14514fd29865269993          1    178.25        0\n",
              "65162  afbcfd0b9c5233e7ccc73428526fbb52          1     99.45        0\n",
              "13643  24ac2b4327e25baf39f2119e4228976a          1     93.75        0\n",
              "67018  b4dcade04bc548b7e3b0243c801f8c26          1    106.95        0\n",
              "91772  f80013faf776e37bcea7634d59c2181e          1     74.21        0"
            ]
          },
          "execution_count": 165,
          "metadata": {},
          "output_type": "execute_result"
        }
      ],
      "source": [
        "rfm_df.sort_values(\"recency\", ascending=True).head()"
      ]
    },
    {
      "cell_type": "markdown",
      "metadata": {},
      "source": [
        "Berdasarkan RFM analysis ini, kita bisa mengatakan bahwa kelima pelanggan ini adalah pelanggan baru atau baru-baru ini memulai berinteraksi paling akhir (karena nilai recency yang rendah)."
      ]
    },
    {
      "cell_type": "code",
      "execution_count": 166,
      "metadata": {},
      "outputs": [
        {
          "data": {
            "text/html": [
              "<div>\n",
              "<style scoped>\n",
              "    .dataframe tbody tr th:only-of-type {\n",
              "        vertical-align: middle;\n",
              "    }\n",
              "\n",
              "    .dataframe tbody tr th {\n",
              "        vertical-align: top;\n",
              "    }\n",
              "\n",
              "    .dataframe thead th {\n",
              "        text-align: right;\n",
              "    }\n",
              "</style>\n",
              "<table border=\"1\" class=\"dataframe\">\n",
              "  <thead>\n",
              "    <tr style=\"text-align: right;\">\n",
              "      <th></th>\n",
              "      <th>customer_unique_id</th>\n",
              "      <th>frequency</th>\n",
              "      <th>monetary</th>\n",
              "      <th>recency</th>\n",
              "    </tr>\n",
              "  </thead>\n",
              "  <tbody>\n",
              "    <tr>\n",
              "      <th>52211</th>\n",
              "      <td>8d50f5eadf50201ccdcedfb9e2ac8455</td>\n",
              "      <td>16</td>\n",
              "      <td>902.04</td>\n",
              "      <td>9</td>\n",
              "    </tr>\n",
              "    <tr>\n",
              "      <th>23131</th>\n",
              "      <td>3e43e6105506432c953e165fb2acf44c</td>\n",
              "      <td>8</td>\n",
              "      <td>666.55</td>\n",
              "      <td>183</td>\n",
              "    </tr>\n",
              "    <tr>\n",
              "      <th>74988</th>\n",
              "      <td>ca77025e7201e3b30c44b472ff346268</td>\n",
              "      <td>7</td>\n",
              "      <td>833.84</td>\n",
              "      <td>89</td>\n",
              "    </tr>\n",
              "    <tr>\n",
              "      <th>10209</th>\n",
              "      <td>1b6c7548a2a1f9037c1fd3ddfed95f33</td>\n",
              "      <td>7</td>\n",
              "      <td>782.20</td>\n",
              "      <td>196</td>\n",
              "    </tr>\n",
              "    <tr>\n",
              "      <th>37261</th>\n",
              "      <td>6469f99c1f9dfae7733b25662e7f1782</td>\n",
              "      <td>7</td>\n",
              "      <td>693.62</td>\n",
              "      <td>62</td>\n",
              "    </tr>\n",
              "  </tbody>\n",
              "</table>\n",
              "</div>"
            ],
            "text/plain": [
              "                     customer_unique_id  frequency  monetary  recency\n",
              "52211  8d50f5eadf50201ccdcedfb9e2ac8455         16    902.04        9\n",
              "23131  3e43e6105506432c953e165fb2acf44c          8    666.55      183\n",
              "74988  ca77025e7201e3b30c44b472ff346268          7    833.84       89\n",
              "10209  1b6c7548a2a1f9037c1fd3ddfed95f33          7    782.20      196\n",
              "37261  6469f99c1f9dfae7733b25662e7f1782          7    693.62       62"
            ]
          },
          "execution_count": 166,
          "metadata": {},
          "output_type": "execute_result"
        }
      ],
      "source": [
        "rfm_df.sort_values(\"frequency\", ascending=False).head()"
      ]
    },
    {
      "cell_type": "markdown",
      "metadata": {},
      "source": [
        "\n",
        "Pelanggan dengan customer_unique_id 8d50f5eadf50201ccdcedfb9e2ac8455 menunjukkan kombinasi yang sangat baik dari ketiga aspek RFM. sering berbelanja sebanyak 16 kali"
      ]
    },
    {
      "cell_type": "code",
      "execution_count": 167,
      "metadata": {},
      "outputs": [
        {
          "data": {
            "text/html": [
              "<div>\n",
              "<style scoped>\n",
              "    .dataframe tbody tr th:only-of-type {\n",
              "        vertical-align: middle;\n",
              "    }\n",
              "\n",
              "    .dataframe tbody tr th {\n",
              "        vertical-align: top;\n",
              "    }\n",
              "\n",
              "    .dataframe thead th {\n",
              "        text-align: right;\n",
              "    }\n",
              "</style>\n",
              "<table border=\"1\" class=\"dataframe\">\n",
              "  <thead>\n",
              "    <tr style=\"text-align: right;\">\n",
              "      <th></th>\n",
              "      <th>customer_unique_id</th>\n",
              "      <th>frequency</th>\n",
              "      <th>monetary</th>\n",
              "      <th>recency</th>\n",
              "    </tr>\n",
              "  </thead>\n",
              "  <tbody>\n",
              "    <tr>\n",
              "      <th>51424</th>\n",
              "      <td>8af7ac63b2efbcbd88e5b11505e8098a</td>\n",
              "      <td>1</td>\n",
              "      <td>13281.71</td>\n",
              "      <td>496</td>\n",
              "    </tr>\n",
              "    <tr>\n",
              "      <th>72865</th>\n",
              "      <td>c4b224d2c784bae11ae98b6ae9f2454c</td>\n",
              "      <td>1</td>\n",
              "      <td>11111.40</td>\n",
              "      <td>457</td>\n",
              "    </tr>\n",
              "    <tr>\n",
              "      <th>70569</th>\n",
              "      <td>be74c431147c32ab2d7c7cef5e4a995f</td>\n",
              "      <td>1</td>\n",
              "      <td>10055.22</td>\n",
              "      <td>111</td>\n",
              "    </tr>\n",
              "    <tr>\n",
              "      <th>88121</th>\n",
              "      <td>edf81e1f3070b9dac83ec83dacdbb9bc</td>\n",
              "      <td>1</td>\n",
              "      <td>8389.52</td>\n",
              "      <td>498</td>\n",
              "    </tr>\n",
              "    <tr>\n",
              "      <th>32760</th>\n",
              "      <td>58483a1c055dfb600f57c5b867174542</td>\n",
              "      <td>1</td>\n",
              "      <td>8068.88</td>\n",
              "      <td>85</td>\n",
              "    </tr>\n",
              "  </tbody>\n",
              "</table>\n",
              "</div>"
            ],
            "text/plain": [
              "                     customer_unique_id  frequency  monetary  recency\n",
              "51424  8af7ac63b2efbcbd88e5b11505e8098a          1  13281.71      496\n",
              "72865  c4b224d2c784bae11ae98b6ae9f2454c          1  11111.40      457\n",
              "70569  be74c431147c32ab2d7c7cef5e4a995f          1  10055.22      111\n",
              "88121  edf81e1f3070b9dac83ec83dacdbb9bc          1   8389.52      498\n",
              "32760  58483a1c055dfb600f57c5b867174542          1   8068.88       85"
            ]
          },
          "execution_count": 167,
          "metadata": {},
          "output_type": "execute_result"
        }
      ],
      "source": [
        "rfm_df.sort_values(\"monetary\", ascending=False).head()"
      ]
    },
    {
      "cell_type": "markdown",
      "metadata": {},
      "source": [
        "Pelanggan dengan customer_unique_id 8af7ac63b2efbcbd88e5b11505e8098a memberikan value monetary R$ 13281.7"
      ]
    },
    {
      "cell_type": "markdown",
      "metadata": {
        "id": "zsyZjqak8DC2"
      },
      "source": [
        "## Visualization & Explanatory Analysis"
      ]
    },
    {
      "cell_type": "markdown",
      "metadata": {
        "id": "HZxOiQ6n8DC2"
      },
      "source": [
        "### Pertanyaan 1: Kota apa yang menghasilkan revenue terbesar?"
      ]
    },
    {
      "cell_type": "code",
      "execution_count": 168,
      "metadata": {
        "colab": {
          "base_uri": "https://localhost:8080/",
          "height": 579
        },
        "id": "oMv5r8ySVeJN",
        "outputId": "391abb7c-810b-4562-9c1a-f29cdcc11ba7"
      },
      "outputs": [
        {
          "name": "stderr",
          "output_type": "stream",
          "text": [
            "C:\\Users\\GYBRAN KHAIRUL ANAM\\AppData\\Local\\Temp\\ipykernel_1608\\3372055637.py:3: FutureWarning: \n",
            "\n",
            "Passing `palette` without assigning `hue` is deprecated and will be removed in v0.14.0. Assign the `y` variable to `hue` and set `legend=False` for the same effect.\n",
            "\n",
            "  sns.barplot(x = \"payment_value\", y = \"customer_city\", data = topcities, palette = 'plasma')\n"
          ]
        },
        {
          "data": {
            "image/png": "[encoded data removed]",
            "text/plain": [
              "<Figure size 640x480 with 1 Axes>"
            ]
          },
          "metadata": {},
          "output_type": "display_data"
        }
      ],
      "source": [
        "topcities = all_df.groupby(\"customer_city\")[\"payment_value\"].sum().reset_index().sort_values(\"payment_value\", ascending = False).head(10)\n",
        "\n",
        "sns.barplot(x = \"payment_value\", y = \"customer_city\", data = topcities, palette = 'plasma')\n",
        "plt.xlabel(\"Total Revenue\")\n",
        "plt.ylabel(\"Cities\")\n",
        "plt.title(\"Cities Generating the Highest Revenue\")\n",
        "plt.show()"
      ]
    },
    {
      "cell_type": "markdown",
      "metadata": {
        "id": "DgHI7CiU8DC2"
      },
      "source": [
        "### Pertanyaan 2: Kategori produk apa dengan pesanan tertinggi dan terendah?"
      ]
    },
    {
      "cell_type": "code",
      "execution_count": 169,
      "metadata": {
        "colab": {
          "base_uri": "https://localhost:8080/",
          "height": 579
        },
        "id": "Go0lCsvO8DC2",
        "outputId": "8cff5a50-a87f-447f-9898-da76870a760f"
      },
      "outputs": [
        {
          "name": "stderr",
          "output_type": "stream",
          "text": [
            "C:\\Users\\GYBRAN KHAIRUL ANAM\\AppData\\Local\\Temp\\ipykernel_1608\\3311856021.py:5: FutureWarning: \n",
            "\n",
            "Passing `palette` without assigning `hue` is deprecated and will be removed in v0.14.0. Assign the `y` variable to `hue` and set `legend=False` for the same effect.\n",
            "\n",
            "  sns.barplot(x=\"order_id\", y=\"product_category_name_english_x\", data=top_orders_product_cat, palette='gnuplot_r', ax=ax[0])\n",
            "C:\\Users\\GYBRAN KHAIRUL ANAM\\AppData\\Local\\Temp\\ipykernel_1608\\3311856021.py:11: FutureWarning: \n",
            "\n",
            "Passing `palette` without assigning `hue` is deprecated and will be removed in v0.14.0. Assign the `y` variable to `hue` and set `legend=False` for the same effect.\n",
            "\n",
            "  sns.barplot(x=\"order_id\", y=\"product_category_name_english_x\", data=low_orders_product_cat, palette='gnuplot', ax=ax[1])\n"
          ]
        },
        {
          "data": {
            "image/png": "[encoded data removed]",
            "text/plain": [
              "<Figure size 2100x700 with 2 Axes>"
            ]
          },
          "metadata": {},
          "output_type": "display_data"
        }
      ],
      "source": [
        "def plot_top_and_low_orders_product_cat(all_df):\n",
        "    fig, ax = plt.subplots(nrows=1, ncols=2, figsize=(21, 7))\n",
        "\n",
        "    top_orders_product_cat = all_df.groupby(all_df[\"product_category_name_english_x\"])[\"order_id\"].nunique().reset_index().sort_values(\"order_id\", ascending=False).head(10)\n",
        "    sns.barplot(x=\"order_id\", y=\"product_category_name_english_x\", data=top_orders_product_cat, palette='gnuplot_r', ax=ax[0])\n",
        "    ax[0].set_xlabel(\"Number of Orders\")\n",
        "    ax[0].set_ylabel(\"Product Categories\")\n",
        "    ax[0].set_title(\"Product Categories with the Highest Orders\")\n",
        "\n",
        "    low_orders_product_cat = all_df.groupby(all_df[\"product_category_name_english_x\"])[\"order_id\"].nunique().reset_index().sort_values(\"order_id\", ascending=True).head(10)\n",
        "    sns.barplot(x=\"order_id\", y=\"product_category_name_english_x\", data=low_orders_product_cat, palette='gnuplot', ax=ax[1])\n",
        "    ax[1].set_xlabel(\"Number of Orders\")\n",
        "    ax[1].set_ylabel(\"\")\n",
        "    ax[1].yaxis.set_label_position(\"right\")\n",
        "    ax[1].set_title(\"Product Categories with the Lowest Orders\")\n",
        "\n",
        "    plt.suptitle(\"Highest and Lowest Selling Product Categories (in Number of Orders)\")\n",
        "    plt.tight_layout(pad=1)\n",
        "    plt.show()\n",
        "\n",
        "plot_top_and_low_orders_product_cat(all_df)"
      ]
    },
    {
      "cell_type": "code",
      "execution_count": 170,
      "metadata": {
        "id": "rXvkva50q1W5"
      },
      "outputs": [],
      "source": [
        "# Menyimpan data all_df dalam file CSV\n",
        "all_df.to_csv(\"main_data.csv\", index=False)"
      ]
    },
    {
      "cell_type": "markdown",
      "metadata": {
        "id": "_WeHlCeX8DC2"
      },
      "source": [
        "## Conclusion"
      ]
    },
    {
      "cell_type": "markdown",
      "metadata": {
        "id": "ZTcyR48Y8DC2"
      },
      "source": [
        "- Conclution pertanyaan 1\n",
        "  - Sao paulo menghasilkan pendapatan tertinggi dibandingkan dengan kota kota-lainnya. Jumlah pendapatan yang dihasilkan jaauh melibihi kota lain, mendekati nilai 2 juta berdasarkan skala yang ditunjukkan.\n",
        "  - Guarulhos dan Niteroi memiliki pendapatan paling sedikit di antara kota-kota yang terdaftar\n",
        "- Conclution pertanyaan 2\n",
        "  - Kategori 'bed_bath_table' memiliki jumlah pesanan tertinggi, yang menunjukkan bahwa ini mungkin kategori paling populer atau yang paling sering dibeli di situs tersebut.\n",
        "  -'Security_and_servicees' memiliki jumlah pesanan yang sangat rendah, yang mungkin menunjukkan kurangnya minat atau kurangnya ketersediaan produk dalam kategori ini."
      ]
    }
  ],
  "metadata": {
    "colab": {
      "provenance": []
    },
    "kernelspec": {
      "display_name": "Python 3",
      "language": "python",
      "name": "python3"
    },
    "language_info": {
      "codemirror_mode": {
        "name": "ipython",
        "version": 3
      },
      "file_extension": ".py",
      "mimetype": "text/x-python",
      "name": "python",
      "nbconvert_exporter": "python",
      "pygments_lexer": "ipython3",
      "version": "3.11.1"
    },
    "orig_nbformat": 4,
    "vscode": {
      "interpreter": {
        "hash": "972b3bf27e332e87b5379f2791f6ef9dfc79c71018c370b0d7423235e20fe4d7"
      }
    }
  },
  "nbformat": 4,
  "nbformat_minor": 0
}
